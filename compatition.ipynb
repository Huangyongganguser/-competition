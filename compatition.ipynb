{
 "cells": [
  {
   "cell_type": "markdown",
   "metadata": {},
   "source": [
    "\n"
   ]
  },
  {
   "cell_type": "markdown",
   "metadata": {},
   "source": [
    "##  厦门市\n",
    "- 厦门市有6个市辖区，26个街道、12个镇， 361个社区、147个村。\n",
    "- 思明区、湖里区、集美区、海沧区、同安区、翔安区\n",
    "- 厦门市位于北纬24°23'～24°54'、东经117°53'～118°26'，在中国东南沿海，福建省南部，与漳州、泉州相连，地处闽南金三角中部。厦门市由厦门半岛、鼓浪屿及其众多小岛屿、岛礁和同安、集美、海沧、翔安、杏林湾、马銮湾、同安湾等组成，陆地面积1699.39平方千米，海域面积约390多平方千米。其中厦门岛面积约为157.76平方千米（含鼓浪屿），是福建省的第四大岛屿，全岛海岸线约为234千米。"
   ]
  },
  {
   "cell_type": "code",
   "execution_count": 1,
   "metadata": {},
   "outputs": [],
   "source": [
    "import numpy as np\n",
    "import pandas as pd\n",
    "import matplotlib.pyplot as plt\n",
    "from scipy import sparse\n",
    "from datetime import datetime"
   ]
  },
  {
   "cell_type": "markdown",
   "metadata": {},
   "source": [
    "巡游车订单数据"
   ]
  },
  {
   "cell_type": "code",
   "execution_count": 2,
   "metadata": {},
   "outputs": [],
   "source": [
    "INPUT_PATH = r'D:\\\\数字中国创新大赛\\\\2020\\\\'"
   ]
  },
  {
   "cell_type": "code",
   "execution_count": 3,
   "metadata": {},
   "outputs": [],
   "source": [
    "data = pd.concat([\n",
    "    pd.read_csv(INPUT_PATH + 'taxiOrder20200618.csv'),\n",
    "    pd.read_csv(INPUT_PATH + 'taxiOrder20200619.csv' ),\n",
    "    pd.read_csv(INPUT_PATH + 'taxiOrder20200620.csv' ),\n",
    "    pd.read_csv(INPUT_PATH + 'taxiOrder20200621.csv'),\n",
    "    pd.read_csv(INPUT_PATH + 'taxiOrder20200622.csv'),\n",
    "    pd.read_csv(INPUT_PATH + 'taxiOrder20200623.csv'),\n",
    "    pd.read_csv(INPUT_PATH + 'taxiOrder20200624.csv'),\n",
    "    pd.read_csv(INPUT_PATH + 'taxiOrder20200625.csv'),\n",
    "    pd.read_csv(INPUT_PATH + 'taxiOrder20200626.csv'),\n",
    "    pd.read_csv(INPUT_PATH + 'taxiOrder20200627.csv')\n",
    "                                                \n",
    "])"
   ]
  },
  {
   "cell_type": "code",
   "execution_count": 4,
   "metadata": {},
   "outputs": [
    {
     "data": {
      "text/plain": [
       "(2060795, 10)"
      ]
     },
     "execution_count": 4,
     "metadata": {},
     "output_type": "execute_result"
    }
   ],
   "source": [
    "data.shape"
   ]
  },
  {
   "cell_type": "markdown",
   "metadata": {},
   "source": [
    "## 订单数据\n",
    "- CAR_NO：车牌号\n",
    "- GETON_DATE：上车时间\n",
    "- GETON_LONGITUDE：上车经度（WGS84 GPS标准）、 GETON_LATITUDE：上车纬度（WGS84 GPS标准）、\n",
    "- GETOFF_DATE：下车时间\n",
    "- GETOFF_LONGITUDE：下车经度（WGS84 GPS标准）、 GETOFF_LATITUDE：下车纬度（WGS84 GPS标准）\n",
    "- PASS_MILE：计程公里\n",
    "- NOPASS_MILE：空驶公里\n",
    "- WAITING_TIME：等待计时时间\n"
   ]
  },
  {
   "cell_type": "code",
   "execution_count": null,
   "metadata": {},
   "outputs": [],
   "source": []
  },
  {
   "cell_type": "code",
   "execution_count": 5,
   "metadata": {},
   "outputs": [
    {
     "data": {
      "text/html": [
       "<div>\n",
       "<style scoped>\n",
       "    .dataframe tbody tr th:only-of-type {\n",
       "        vertical-align: middle;\n",
       "    }\n",
       "\n",
       "    .dataframe tbody tr th {\n",
       "        vertical-align: top;\n",
       "    }\n",
       "\n",
       "    .dataframe thead th {\n",
       "        text-align: right;\n",
       "    }\n",
       "</style>\n",
       "<table border=\"1\" class=\"dataframe\">\n",
       "  <thead>\n",
       "    <tr style=\"text-align: right;\">\n",
       "      <th></th>\n",
       "      <th>CAR_NO</th>\n",
       "      <th>GETON_DATE</th>\n",
       "      <th>GETON_LONGITUDE</th>\n",
       "      <th>GETON_LATITUDE</th>\n",
       "      <th>GETOFF_DATE</th>\n",
       "      <th>GETOFF_LONGITUDE</th>\n",
       "      <th>GETOFF_LATITUDE</th>\n",
       "      <th>PASS_MILE</th>\n",
       "      <th>NOPASS_MILE</th>\n",
       "      <th>WAITING_TIME</th>\n",
       "    </tr>\n",
       "  </thead>\n",
       "  <tbody>\n",
       "    <tr>\n",
       "      <th>0</th>\n",
       "      <td>0006d282be70d06881a7513b69fcaa60</td>\n",
       "      <td>2020/6/18 17:38</td>\n",
       "      <td>118.155098</td>\n",
       "      <td>24.506093</td>\n",
       "      <td>2020/6/18 17:51</td>\n",
       "      <td>118.135925</td>\n",
       "      <td>24.497720</td>\n",
       "      <td>2.6</td>\n",
       "      <td>10.8</td>\n",
       "      <td>498.0</td>\n",
       "    </tr>\n",
       "    <tr>\n",
       "      <th>1</th>\n",
       "      <td>0006d282be70d06881a7513b69fcaa60</td>\n",
       "      <td>2020/6/18 19:06</td>\n",
       "      <td>118.136500</td>\n",
       "      <td>24.517291</td>\n",
       "      <td>2020/6/18 19:11</td>\n",
       "      <td>118.139381</td>\n",
       "      <td>24.530025</td>\n",
       "      <td>2.3</td>\n",
       "      <td>0.3</td>\n",
       "      <td>54.0</td>\n",
       "    </tr>\n",
       "    <tr>\n",
       "      <th>2</th>\n",
       "      <td>0006d282be70d06881a7513b69fcaa60</td>\n",
       "      <td>2020/6/18 3:59</td>\n",
       "      <td>118.119495</td>\n",
       "      <td>24.479730</td>\n",
       "      <td>2020/6/18 4:06</td>\n",
       "      <td>118.116335</td>\n",
       "      <td>24.508518</td>\n",
       "      <td>3.9</td>\n",
       "      <td>0.2</td>\n",
       "      <td>83.0</td>\n",
       "    </tr>\n",
       "    <tr>\n",
       "      <th>3</th>\n",
       "      <td>0006d282be70d06881a7513b69fcaa60</td>\n",
       "      <td>2020/6/18 20:44</td>\n",
       "      <td>118.113631</td>\n",
       "      <td>24.478733</td>\n",
       "      <td>2020/6/18 20:53</td>\n",
       "      <td>118.140945</td>\n",
       "      <td>24.477328</td>\n",
       "      <td>3.0</td>\n",
       "      <td>3.8</td>\n",
       "      <td>250.0</td>\n",
       "    </tr>\n",
       "    <tr>\n",
       "      <th>4</th>\n",
       "      <td>0006d282be70d06881a7513b69fcaa60</td>\n",
       "      <td>2020/6/18 19:12</td>\n",
       "      <td>118.138891</td>\n",
       "      <td>24.530666</td>\n",
       "      <td>2020/6/18 19:19</td>\n",
       "      <td>118.144028</td>\n",
       "      <td>24.547116</td>\n",
       "      <td>3.3</td>\n",
       "      <td>0.1</td>\n",
       "      <td>73.0</td>\n",
       "    </tr>\n",
       "    <tr>\n",
       "      <th>5</th>\n",
       "      <td>0006d282be70d06881a7513b69fcaa60</td>\n",
       "      <td>2020/6/18 19:20</td>\n",
       "      <td>118.143230</td>\n",
       "      <td>24.546591</td>\n",
       "      <td>2020/6/18 19:46</td>\n",
       "      <td>118.119846</td>\n",
       "      <td>24.427598</td>\n",
       "      <td>20.9</td>\n",
       "      <td>0.1</td>\n",
       "      <td>100.0</td>\n",
       "    </tr>\n",
       "    <tr>\n",
       "      <th>6</th>\n",
       "      <td>0006d282be70d06881a7513b69fcaa60</td>\n",
       "      <td>2020/6/18 5:33</td>\n",
       "      <td>118.123750</td>\n",
       "      <td>24.495565</td>\n",
       "      <td>2020/6/18 5:34</td>\n",
       "      <td>118.125615</td>\n",
       "      <td>24.494621</td>\n",
       "      <td>0.2</td>\n",
       "      <td>0.0</td>\n",
       "      <td>24.0</td>\n",
       "    </tr>\n",
       "    <tr>\n",
       "      <th>7</th>\n",
       "      <td>0006d282be70d06881a7513b69fcaa60</td>\n",
       "      <td>2020/6/18 1:13</td>\n",
       "      <td>118.091305</td>\n",
       "      <td>24.483773</td>\n",
       "      <td>2020/6/18 1:21</td>\n",
       "      <td>118.112166</td>\n",
       "      <td>24.506658</td>\n",
       "      <td>4.2</td>\n",
       "      <td>9.2</td>\n",
       "      <td>119.0</td>\n",
       "    </tr>\n",
       "    <tr>\n",
       "      <th>8</th>\n",
       "      <td>0006d282be70d06881a7513b69fcaa60</td>\n",
       "      <td>2020/6/18 2:11</td>\n",
       "      <td>118.124645</td>\n",
       "      <td>24.509175</td>\n",
       "      <td>2020/6/18 2:28</td>\n",
       "      <td>118.174208</td>\n",
       "      <td>24.464051</td>\n",
       "      <td>9.9</td>\n",
       "      <td>2.8</td>\n",
       "      <td>190.0</td>\n",
       "    </tr>\n",
       "    <tr>\n",
       "      <th>9</th>\n",
       "      <td>0006d282be70d06881a7513b69fcaa60</td>\n",
       "      <td>2020/6/18 22:00</td>\n",
       "      <td>118.115401</td>\n",
       "      <td>24.510981</td>\n",
       "      <td>2020/6/18 22:29</td>\n",
       "      <td>118.047938</td>\n",
       "      <td>24.605175</td>\n",
       "      <td>17.4</td>\n",
       "      <td>1.5</td>\n",
       "      <td>455.0</td>\n",
       "    </tr>\n",
       "  </tbody>\n",
       "</table>\n",
       "</div>"
      ],
      "text/plain": [
       "                             CAR_NO       GETON_DATE  GETON_LONGITUDE  \\\n",
       "0  0006d282be70d06881a7513b69fcaa60  2020/6/18 17:38       118.155098   \n",
       "1  0006d282be70d06881a7513b69fcaa60  2020/6/18 19:06       118.136500   \n",
       "2  0006d282be70d06881a7513b69fcaa60   2020/6/18 3:59       118.119495   \n",
       "3  0006d282be70d06881a7513b69fcaa60  2020/6/18 20:44       118.113631   \n",
       "4  0006d282be70d06881a7513b69fcaa60  2020/6/18 19:12       118.138891   \n",
       "5  0006d282be70d06881a7513b69fcaa60  2020/6/18 19:20       118.143230   \n",
       "6  0006d282be70d06881a7513b69fcaa60   2020/6/18 5:33       118.123750   \n",
       "7  0006d282be70d06881a7513b69fcaa60   2020/6/18 1:13       118.091305   \n",
       "8  0006d282be70d06881a7513b69fcaa60   2020/6/18 2:11       118.124645   \n",
       "9  0006d282be70d06881a7513b69fcaa60  2020/6/18 22:00       118.115401   \n",
       "\n",
       "   GETON_LATITUDE      GETOFF_DATE  GETOFF_LONGITUDE  GETOFF_LATITUDE  \\\n",
       "0       24.506093  2020/6/18 17:51        118.135925        24.497720   \n",
       "1       24.517291  2020/6/18 19:11        118.139381        24.530025   \n",
       "2       24.479730   2020/6/18 4:06        118.116335        24.508518   \n",
       "3       24.478733  2020/6/18 20:53        118.140945        24.477328   \n",
       "4       24.530666  2020/6/18 19:19        118.144028        24.547116   \n",
       "5       24.546591  2020/6/18 19:46        118.119846        24.427598   \n",
       "6       24.495565   2020/6/18 5:34        118.125615        24.494621   \n",
       "7       24.483773   2020/6/18 1:21        118.112166        24.506658   \n",
       "8       24.509175   2020/6/18 2:28        118.174208        24.464051   \n",
       "9       24.510981  2020/6/18 22:29        118.047938        24.605175   \n",
       "\n",
       "   PASS_MILE  NOPASS_MILE  WAITING_TIME  \n",
       "0        2.6         10.8         498.0  \n",
       "1        2.3          0.3          54.0  \n",
       "2        3.9          0.2          83.0  \n",
       "3        3.0          3.8         250.0  \n",
       "4        3.3          0.1          73.0  \n",
       "5       20.9          0.1         100.0  \n",
       "6        0.2          0.0          24.0  \n",
       "7        4.2          9.2         119.0  \n",
       "8        9.9          2.8         190.0  \n",
       "9       17.4          1.5         455.0  "
      ]
     },
     "execution_count": 5,
     "metadata": {},
     "output_type": "execute_result"
    }
   ],
   "source": [
    "data.head(10)"
   ]
  },
  {
   "cell_type": "code",
   "execution_count": 6,
   "metadata": {},
   "outputs": [
    {
     "name": "stdout",
     "output_type": "stream",
     "text": [
      "<class 'pandas.core.frame.DataFrame'>\n",
      "Int64Index: 2060795 entries, 0 to 191477\n",
      "Data columns (total 10 columns):\n",
      " #   Column            Dtype  \n",
      "---  ------            -----  \n",
      " 0   CAR_NO            object \n",
      " 1   GETON_DATE        object \n",
      " 2   GETON_LONGITUDE   float64\n",
      " 3   GETON_LATITUDE    float64\n",
      " 4   GETOFF_DATE       object \n",
      " 5   GETOFF_LONGITUDE  float64\n",
      " 6   GETOFF_LATITUDE   float64\n",
      " 7   PASS_MILE         float64\n",
      " 8   NOPASS_MILE       float64\n",
      " 9   WAITING_TIME      float64\n",
      "dtypes: float64(7), object(3)\n",
      "memory usage: 149.4+ MB\n"
     ]
    }
   ],
   "source": [
    "data.info()"
   ]
  },
  {
   "cell_type": "code",
   "execution_count": 7,
   "metadata": {},
   "outputs": [
    {
     "data": {
      "text/html": [
       "<div>\n",
       "<style scoped>\n",
       "    .dataframe tbody tr th:only-of-type {\n",
       "        vertical-align: middle;\n",
       "    }\n",
       "\n",
       "    .dataframe tbody tr th {\n",
       "        vertical-align: top;\n",
       "    }\n",
       "\n",
       "    .dataframe thead th {\n",
       "        text-align: right;\n",
       "    }\n",
       "</style>\n",
       "<table border=\"1\" class=\"dataframe\">\n",
       "  <thead>\n",
       "    <tr style=\"text-align: right;\">\n",
       "      <th></th>\n",
       "      <th>GETON_LONGITUDE</th>\n",
       "      <th>GETON_LATITUDE</th>\n",
       "      <th>GETOFF_LONGITUDE</th>\n",
       "      <th>GETOFF_LATITUDE</th>\n",
       "      <th>PASS_MILE</th>\n",
       "      <th>NOPASS_MILE</th>\n",
       "      <th>WAITING_TIME</th>\n",
       "    </tr>\n",
       "  </thead>\n",
       "  <tbody>\n",
       "    <tr>\n",
       "      <th>count</th>\n",
       "      <td>2.060795e+06</td>\n",
       "      <td>2.060795e+06</td>\n",
       "      <td>2.060795e+06</td>\n",
       "      <td>2.060795e+06</td>\n",
       "      <td>2.060795e+06</td>\n",
       "      <td>2.060795e+06</td>\n",
       "      <td>2.060795e+06</td>\n",
       "    </tr>\n",
       "    <tr>\n",
       "      <th>mean</th>\n",
       "      <td>1.150318e+02</td>\n",
       "      <td>2.385675e+01</td>\n",
       "      <td>1.164483e+02</td>\n",
       "      <td>2.415242e+01</td>\n",
       "      <td>5.944242e+00</td>\n",
       "      <td>3.958235e+00</td>\n",
       "      <td>2.483529e+02</td>\n",
       "    </tr>\n",
       "    <tr>\n",
       "      <th>std</th>\n",
       "      <td>1.884649e+01</td>\n",
       "      <td>3.910042e+00</td>\n",
       "      <td>1.395010e+01</td>\n",
       "      <td>2.895357e+00</td>\n",
       "      <td>5.634226e+00</td>\n",
       "      <td>6.861945e+00</td>\n",
       "      <td>8.525288e+02</td>\n",
       "    </tr>\n",
       "    <tr>\n",
       "      <th>min</th>\n",
       "      <td>0.000000e+00</td>\n",
       "      <td>0.000000e+00</td>\n",
       "      <td>0.000000e+00</td>\n",
       "      <td>0.000000e+00</td>\n",
       "      <td>0.000000e+00</td>\n",
       "      <td>0.000000e+00</td>\n",
       "      <td>0.000000e+00</td>\n",
       "    </tr>\n",
       "    <tr>\n",
       "      <th>25%</th>\n",
       "      <td>1.180963e+02</td>\n",
       "      <td>2.447402e+01</td>\n",
       "      <td>1.180959e+02</td>\n",
       "      <td>2.447473e+01</td>\n",
       "      <td>2.700000e+00</td>\n",
       "      <td>6.000000e-01</td>\n",
       "      <td>9.400000e+01</td>\n",
       "    </tr>\n",
       "    <tr>\n",
       "      <th>50%</th>\n",
       "      <td>1.181165e+02</td>\n",
       "      <td>2.448992e+01</td>\n",
       "      <td>1.181167e+02</td>\n",
       "      <td>2.449146e+01</td>\n",
       "      <td>4.500000e+00</td>\n",
       "      <td>2.000000e+00</td>\n",
       "      <td>1.760000e+02</td>\n",
       "    </tr>\n",
       "    <tr>\n",
       "      <th>75%</th>\n",
       "      <td>1.181395e+02</td>\n",
       "      <td>2.450981e+01</td>\n",
       "      <td>1.181421e+02</td>\n",
       "      <td>2.451205e+01</td>\n",
       "      <td>7.400000e+00</td>\n",
       "      <td>4.700000e+00</td>\n",
       "      <td>2.900000e+02</td>\n",
       "    </tr>\n",
       "    <tr>\n",
       "      <th>max</th>\n",
       "      <td>1.538398e+02</td>\n",
       "      <td>6.299373e+01</td>\n",
       "      <td>1.790345e+02</td>\n",
       "      <td>6.299373e+01</td>\n",
       "      <td>2.051200e+03</td>\n",
       "      <td>9.628000e+02</td>\n",
       "      <td>2.510390e+05</td>\n",
       "    </tr>\n",
       "  </tbody>\n",
       "</table>\n",
       "</div>"
      ],
      "text/plain": [
       "       GETON_LONGITUDE  GETON_LATITUDE  GETOFF_LONGITUDE  GETOFF_LATITUDE  \\\n",
       "count     2.060795e+06    2.060795e+06      2.060795e+06     2.060795e+06   \n",
       "mean      1.150318e+02    2.385675e+01      1.164483e+02     2.415242e+01   \n",
       "std       1.884649e+01    3.910042e+00      1.395010e+01     2.895357e+00   \n",
       "min       0.000000e+00    0.000000e+00      0.000000e+00     0.000000e+00   \n",
       "25%       1.180963e+02    2.447402e+01      1.180959e+02     2.447473e+01   \n",
       "50%       1.181165e+02    2.448992e+01      1.181167e+02     2.449146e+01   \n",
       "75%       1.181395e+02    2.450981e+01      1.181421e+02     2.451205e+01   \n",
       "max       1.538398e+02    6.299373e+01      1.790345e+02     6.299373e+01   \n",
       "\n",
       "          PASS_MILE   NOPASS_MILE  WAITING_TIME  \n",
       "count  2.060795e+06  2.060795e+06  2.060795e+06  \n",
       "mean   5.944242e+00  3.958235e+00  2.483529e+02  \n",
       "std    5.634226e+00  6.861945e+00  8.525288e+02  \n",
       "min    0.000000e+00  0.000000e+00  0.000000e+00  \n",
       "25%    2.700000e+00  6.000000e-01  9.400000e+01  \n",
       "50%    4.500000e+00  2.000000e+00  1.760000e+02  \n",
       "75%    7.400000e+00  4.700000e+00  2.900000e+02  \n",
       "max    2.051200e+03  9.628000e+02  2.510390e+05  "
      ]
     },
     "execution_count": 7,
     "metadata": {},
     "output_type": "execute_result"
    }
   ],
   "source": [
    "data.describe()"
   ]
  },
  {
   "cell_type": "markdown",
   "metadata": {},
   "source": [
    "1、清除经纬度都是0的数据\n",
    "2、计程公里平均为4，剔除大于100公里的数据\n",
    "3、剔除等待计时时间大于24*60\n",
    "4、剔除经纬度不属于24°23'～24°54'、东经117°53'～118°26这个范围的数据"
   ]
  },
  {
   "cell_type": "code",
   "execution_count": 8,
   "metadata": {},
   "outputs": [
    {
     "data": {
      "text/plain": [
       "(0.38333333333333336, 0.9, 0.8833333333333333, 0.43333333333333335)"
      ]
     },
     "execution_count": 8,
     "metadata": {},
     "output_type": "execute_result"
    }
   ],
   "source": [
    "23/60,54/60,53/60,26/60"
   ]
  },
  {
   "cell_type": "code",
   "execution_count": 9,
   "metadata": {},
   "outputs": [],
   "source": [
    "# data.rename(columns={'CAR_NO':'','CAR_NO':'CARNO','CAR_NO':'CARNO',})"
   ]
  },
  {
   "cell_type": "markdown",
   "metadata": {},
   "source": [
    "清除上车地点不在厦门市的数据，同时也保证了经纬度不为0"
   ]
  },
  {
   "cell_type": "code",
   "execution_count": 10,
   "metadata": {},
   "outputs": [],
   "source": [
    "data_1 = data[['CAR_NO','GETON_DATE','GETON_LONGITUDE','GETON_LATITUDE','GETOFF_DATE','GETOFF_LONGITUDE','GETOFF_LATITUDE','PASS_MILE','NOPASS_MILE','WAITING_TIME']][(data['GETON_LATITUDE'].between(24.38,24.9,inclusive=True))&(data['GETON_LONGITUDE'].between(117.88,118.44,inclusive=True))]"
   ]
  },
  {
   "cell_type": "markdown",
   "metadata": {},
   "source": [
    "取计程公里为(0,30)"
   ]
  },
  {
   "cell_type": "code",
   "execution_count": 11,
   "metadata": {},
   "outputs": [],
   "source": [
    "data_2 = data_1[['CAR_NO','GETON_DATE','GETON_LONGITUDE','GETON_LATITUDE','GETOFF_DATE','GETOFF_LONGITUDE','GETOFF_LATITUDE','PASS_MILE','NOPASS_MILE','WAITING_TIME']][(data_1['PASS_MILE'].between(0.00000001,30,inclusive=True))]"
   ]
  },
  {
   "cell_type": "code",
   "execution_count": 12,
   "metadata": {},
   "outputs": [
    {
     "data": {
      "text/html": [
       "<div>\n",
       "<style scoped>\n",
       "    .dataframe tbody tr th:only-of-type {\n",
       "        vertical-align: middle;\n",
       "    }\n",
       "\n",
       "    .dataframe tbody tr th {\n",
       "        vertical-align: top;\n",
       "    }\n",
       "\n",
       "    .dataframe thead th {\n",
       "        text-align: right;\n",
       "    }\n",
       "</style>\n",
       "<table border=\"1\" class=\"dataframe\">\n",
       "  <thead>\n",
       "    <tr style=\"text-align: right;\">\n",
       "      <th></th>\n",
       "      <th>GETON_LONGITUDE</th>\n",
       "      <th>GETON_LATITUDE</th>\n",
       "      <th>GETOFF_LONGITUDE</th>\n",
       "      <th>GETOFF_LATITUDE</th>\n",
       "      <th>PASS_MILE</th>\n",
       "      <th>NOPASS_MILE</th>\n",
       "      <th>WAITING_TIME</th>\n",
       "    </tr>\n",
       "  </thead>\n",
       "  <tbody>\n",
       "    <tr>\n",
       "      <th>count</th>\n",
       "      <td>1.993700e+06</td>\n",
       "      <td>1.993700e+06</td>\n",
       "      <td>1.993700e+06</td>\n",
       "      <td>1.993700e+06</td>\n",
       "      <td>1.993700e+06</td>\n",
       "      <td>1.993700e+06</td>\n",
       "      <td>1.993700e+06</td>\n",
       "    </tr>\n",
       "    <tr>\n",
       "      <th>mean</th>\n",
       "      <td>1.181189e+02</td>\n",
       "      <td>2.449649e+01</td>\n",
       "      <td>1.178224e+02</td>\n",
       "      <td>2.443662e+01</td>\n",
       "      <td>5.771717e+00</td>\n",
       "      <td>3.912054e+00</td>\n",
       "      <td>2.305088e+02</td>\n",
       "    </tr>\n",
       "    <tr>\n",
       "      <th>std</th>\n",
       "      <td>3.387839e-02</td>\n",
       "      <td>3.550434e-02</td>\n",
       "      <td>5.909477e+00</td>\n",
       "      <td>1.226837e+00</td>\n",
       "      <td>4.520720e+00</td>\n",
       "      <td>6.719960e+00</td>\n",
       "      <td>3.820537e+02</td>\n",
       "    </tr>\n",
       "    <tr>\n",
       "      <th>min</th>\n",
       "      <td>1.178816e+02</td>\n",
       "      <td>2.438026e+01</td>\n",
       "      <td>0.000000e+00</td>\n",
       "      <td>0.000000e+00</td>\n",
       "      <td>1.000000e-01</td>\n",
       "      <td>0.000000e+00</td>\n",
       "      <td>0.000000e+00</td>\n",
       "    </tr>\n",
       "    <tr>\n",
       "      <th>25%</th>\n",
       "      <td>1.180990e+02</td>\n",
       "      <td>2.447537e+01</td>\n",
       "      <td>1.180973e+02</td>\n",
       "      <td>2.447546e+01</td>\n",
       "      <td>2.700000e+00</td>\n",
       "      <td>6.000000e-01</td>\n",
       "      <td>9.300000e+01</td>\n",
       "    </tr>\n",
       "    <tr>\n",
       "      <th>50%</th>\n",
       "      <td>1.181173e+02</td>\n",
       "      <td>2.449080e+01</td>\n",
       "      <td>1.181171e+02</td>\n",
       "      <td>2.449178e+01</td>\n",
       "      <td>4.500000e+00</td>\n",
       "      <td>2.000000e+00</td>\n",
       "      <td>1.750000e+02</td>\n",
       "    </tr>\n",
       "    <tr>\n",
       "      <th>75%</th>\n",
       "      <td>1.181406e+02</td>\n",
       "      <td>2.451035e+01</td>\n",
       "      <td>1.181424e+02</td>\n",
       "      <td>2.451207e+01</td>\n",
       "      <td>7.300000e+00</td>\n",
       "      <td>4.700000e+00</td>\n",
       "      <td>2.880000e+02</td>\n",
       "    </tr>\n",
       "    <tr>\n",
       "      <th>max</th>\n",
       "      <td>1.184345e+02</td>\n",
       "      <td>2.488789e+01</td>\n",
       "      <td>1.790345e+02</td>\n",
       "      <td>4.604790e+01</td>\n",
       "      <td>3.000000e+01</td>\n",
       "      <td>9.628000e+02</td>\n",
       "      <td>6.129500e+04</td>\n",
       "    </tr>\n",
       "  </tbody>\n",
       "</table>\n",
       "</div>"
      ],
      "text/plain": [
       "       GETON_LONGITUDE  GETON_LATITUDE  GETOFF_LONGITUDE  GETOFF_LATITUDE  \\\n",
       "count     1.993700e+06    1.993700e+06      1.993700e+06     1.993700e+06   \n",
       "mean      1.181189e+02    2.449649e+01      1.178224e+02     2.443662e+01   \n",
       "std       3.387839e-02    3.550434e-02      5.909477e+00     1.226837e+00   \n",
       "min       1.178816e+02    2.438026e+01      0.000000e+00     0.000000e+00   \n",
       "25%       1.180990e+02    2.447537e+01      1.180973e+02     2.447546e+01   \n",
       "50%       1.181173e+02    2.449080e+01      1.181171e+02     2.449178e+01   \n",
       "75%       1.181406e+02    2.451035e+01      1.181424e+02     2.451207e+01   \n",
       "max       1.184345e+02    2.488789e+01      1.790345e+02     4.604790e+01   \n",
       "\n",
       "          PASS_MILE   NOPASS_MILE  WAITING_TIME  \n",
       "count  1.993700e+06  1.993700e+06  1.993700e+06  \n",
       "mean   5.771717e+00  3.912054e+00  2.305088e+02  \n",
       "std    4.520720e+00  6.719960e+00  3.820537e+02  \n",
       "min    1.000000e-01  0.000000e+00  0.000000e+00  \n",
       "25%    2.700000e+00  6.000000e-01  9.300000e+01  \n",
       "50%    4.500000e+00  2.000000e+00  1.750000e+02  \n",
       "75%    7.300000e+00  4.700000e+00  2.880000e+02  \n",
       "max    3.000000e+01  9.628000e+02  6.129500e+04  "
      ]
     },
     "execution_count": 12,
     "metadata": {},
     "output_type": "execute_result"
    }
   ],
   "source": [
    "data_2.describe()"
   ]
  },
  {
   "cell_type": "markdown",
   "metadata": {},
   "source": [
    "剔除等待计时时间大于24*60*60"
   ]
  },
  {
   "cell_type": "code",
   "execution_count": 13,
   "metadata": {},
   "outputs": [],
   "source": [
    "data_3 = data_2[['CAR_NO','GETON_DATE','GETON_LONGITUDE','GETON_LATITUDE','GETOFF_DATE','GETOFF_LONGITUDE','GETOFF_LATITUDE','PASS_MILE','NOPASS_MILE','WAITING_TIME']][(data_2['WAITING_TIME']>0)&(data_2['WAITING_TIME']<24*60*60)]"
   ]
  },
  {
   "cell_type": "code",
   "execution_count": 14,
   "metadata": {},
   "outputs": [],
   "source": [
    "#订单里程\n",
    "data_3.loc[data_3['PASS_MILE'] >20 , 'PASS_MILE'] = data_3['PASS_MILE'].mean()"
   ]
  },
  {
   "cell_type": "code",
   "execution_count": 15,
   "metadata": {},
   "outputs": [
    {
     "data": {
      "text/plain": [
       "(1949025, 10)"
      ]
     },
     "execution_count": 15,
     "metadata": {},
     "output_type": "execute_result"
    }
   ],
   "source": [
    "data_3.shape"
   ]
  },
  {
   "cell_type": "code",
   "execution_count": 16,
   "metadata": {},
   "outputs": [],
   "source": [
    "taxiorder = data_3"
   ]
  },
  {
   "cell_type": "markdown",
   "metadata": {},
   "source": [
    "处理上车点时间数据"
   ]
  },
  {
   "cell_type": "code",
   "execution_count": 17,
   "metadata": {},
   "outputs": [],
   "source": [
    "#处理时间特征\n",
    "taxiorder['GETON_DATE'] = pd.to_datetime(taxiorder['GETON_DATE'],format='%Y-%m-%d %H:%M:%S')\n",
    "taxiorder['GETOFF_DATE'] = pd.to_datetime(taxiorder['GETOFF_DATE'],format='%Y-%m-%d %H:%M:%S')\n",
    "taxiorder[\"geton_hour\"]=taxiorder['GETON_DATE'].dt.hour\n",
    "\n",
    "taxiorder[\"geton_day\"]=taxiorder[\"GETON_DATE\"].dt.day"
   ]
  },
  {
   "cell_type": "code",
   "execution_count": 18,
   "metadata": {},
   "outputs": [
    {
     "data": {
      "text/plain": [
       "<matplotlib.axes._subplots.AxesSubplot at 0xcc71dd0>"
      ]
     },
     "execution_count": 18,
     "metadata": {},
     "output_type": "execute_result"
    },
    {
     "data": {
      "image/png": "[encoded data removed]",
      "text/plain": [
       "<Figure size 432x288 with 1 Axes>"
      ]
     },
     "metadata": {
      "needs_background": "light"
     },
     "output_type": "display_data"
    }
   ],
   "source": [
    "#计算订单数量随时间变化\n",
    "taxiorder.groupby(['geton_hour'])['CAR_NO'].size().plot.bar()"
   ]
  },
  {
   "cell_type": "code",
   "execution_count": 19,
   "metadata": {},
   "outputs": [
    {
     "data": {
      "text/plain": [
       "array(['2020-06-18T17:51:00.000000000', '2020-06-18T19:11:00.000000000',\n",
       "       '2020-06-18T04:06:00.000000000', ...,\n",
       "       '2020-06-28T00:45:00.000000000', '2020-06-28T00:26:00.000000000',\n",
       "       '2020-06-28T00:30:00.000000000'], dtype='datetime64[ns]')"
      ]
     },
     "execution_count": 19,
     "metadata": {},
     "output_type": "execute_result"
    }
   ],
   "source": [
    "taxiorder['GETOFF_DATE'].unique()"
   ]
  },
  {
   "cell_type": "code",
   "execution_count": 20,
   "metadata": {},
   "outputs": [],
   "source": [
    "taxiorder[\"geton_weekday\"]=taxiorder[\"GETON_DATE\"].dt.weekday"
   ]
  },
  {
   "cell_type": "code",
   "execution_count": 21,
   "metadata": {},
   "outputs": [
    {
     "data": {
      "text/plain": [
       "<matplotlib.axes._subplots.AxesSubplot at 0xce98630>"
      ]
     },
     "execution_count": 21,
     "metadata": {},
     "output_type": "execute_result"
    },
    {
     "data": {
      "image/png": "[encoded data removed]",
      "text/plain": [
       "<Figure size 432x288 with 1 Axes>"
      ]
     },
     "metadata": {
      "needs_background": "light"
     },
     "output_type": "display_data"
    }
   ],
   "source": [
    "taxiorder.groupby(['geton_weekday'])['CAR_NO'].size().plot.bar()"
   ]
  },
  {
   "cell_type": "markdown",
   "metadata": {},
   "source": [
    "25,26,27为节假日，20,21为非工作日，18,19,22,23,24"
   ]
  },
  {
   "cell_type": "code",
   "execution_count": 22,
   "metadata": {},
   "outputs": [
    {
     "data": {
      "text/html": [
       "<div>\n",
       "<style scoped>\n",
       "    .dataframe tbody tr th:only-of-type {\n",
       "        vertical-align: middle;\n",
       "    }\n",
       "\n",
       "    .dataframe tbody tr th {\n",
       "        vertical-align: top;\n",
       "    }\n",
       "\n",
       "    .dataframe thead th {\n",
       "        text-align: right;\n",
       "    }\n",
       "</style>\n",
       "<table border=\"1\" class=\"dataframe\">\n",
       "  <thead>\n",
       "    <tr style=\"text-align: right;\">\n",
       "      <th></th>\n",
       "      <th>CAR_NO</th>\n",
       "      <th>GETON_DATE</th>\n",
       "      <th>GETON_LONGITUDE</th>\n",
       "      <th>GETON_LATITUDE</th>\n",
       "      <th>GETOFF_DATE</th>\n",
       "      <th>GETOFF_LONGITUDE</th>\n",
       "      <th>GETOFF_LATITUDE</th>\n",
       "      <th>PASS_MILE</th>\n",
       "      <th>NOPASS_MILE</th>\n",
       "      <th>WAITING_TIME</th>\n",
       "      <th>geton_hour</th>\n",
       "      <th>geton_day</th>\n",
       "      <th>geton_weekday</th>\n",
       "    </tr>\n",
       "  </thead>\n",
       "  <tbody>\n",
       "    <tr>\n",
       "      <th>0</th>\n",
       "      <td>0006d282be70d06881a7513b69fcaa60</td>\n",
       "      <td>2020-06-18 17:38:00</td>\n",
       "      <td>118.155098</td>\n",
       "      <td>24.506093</td>\n",
       "      <td>2020-06-18 17:51:00</td>\n",
       "      <td>118.135925</td>\n",
       "      <td>24.497720</td>\n",
       "      <td>2.6</td>\n",
       "      <td>10.8</td>\n",
       "      <td>498.0</td>\n",
       "      <td>17</td>\n",
       "      <td>18</td>\n",
       "      <td>3</td>\n",
       "    </tr>\n",
       "    <tr>\n",
       "      <th>1</th>\n",
       "      <td>0006d282be70d06881a7513b69fcaa60</td>\n",
       "      <td>2020-06-18 19:06:00</td>\n",
       "      <td>118.136500</td>\n",
       "      <td>24.517291</td>\n",
       "      <td>2020-06-18 19:11:00</td>\n",
       "      <td>118.139381</td>\n",
       "      <td>24.530025</td>\n",
       "      <td>2.3</td>\n",
       "      <td>0.3</td>\n",
       "      <td>54.0</td>\n",
       "      <td>19</td>\n",
       "      <td>18</td>\n",
       "      <td>3</td>\n",
       "    </tr>\n",
       "    <tr>\n",
       "      <th>2</th>\n",
       "      <td>0006d282be70d06881a7513b69fcaa60</td>\n",
       "      <td>2020-06-18 03:59:00</td>\n",
       "      <td>118.119495</td>\n",
       "      <td>24.479730</td>\n",
       "      <td>2020-06-18 04:06:00</td>\n",
       "      <td>118.116335</td>\n",
       "      <td>24.508518</td>\n",
       "      <td>3.9</td>\n",
       "      <td>0.2</td>\n",
       "      <td>83.0</td>\n",
       "      <td>3</td>\n",
       "      <td>18</td>\n",
       "      <td>3</td>\n",
       "    </tr>\n",
       "    <tr>\n",
       "      <th>3</th>\n",
       "      <td>0006d282be70d06881a7513b69fcaa60</td>\n",
       "      <td>2020-06-18 20:44:00</td>\n",
       "      <td>118.113631</td>\n",
       "      <td>24.478733</td>\n",
       "      <td>2020-06-18 20:53:00</td>\n",
       "      <td>118.140945</td>\n",
       "      <td>24.477328</td>\n",
       "      <td>3.0</td>\n",
       "      <td>3.8</td>\n",
       "      <td>250.0</td>\n",
       "      <td>20</td>\n",
       "      <td>18</td>\n",
       "      <td>3</td>\n",
       "    </tr>\n",
       "    <tr>\n",
       "      <th>4</th>\n",
       "      <td>0006d282be70d06881a7513b69fcaa60</td>\n",
       "      <td>2020-06-18 19:12:00</td>\n",
       "      <td>118.138891</td>\n",
       "      <td>24.530666</td>\n",
       "      <td>2020-06-18 19:19:00</td>\n",
       "      <td>118.144028</td>\n",
       "      <td>24.547116</td>\n",
       "      <td>3.3</td>\n",
       "      <td>0.1</td>\n",
       "      <td>73.0</td>\n",
       "      <td>19</td>\n",
       "      <td>18</td>\n",
       "      <td>3</td>\n",
       "    </tr>\n",
       "  </tbody>\n",
       "</table>\n",
       "</div>"
      ],
      "text/plain": [
       "                             CAR_NO          GETON_DATE  GETON_LONGITUDE  \\\n",
       "0  0006d282be70d06881a7513b69fcaa60 2020-06-18 17:38:00       118.155098   \n",
       "1  0006d282be70d06881a7513b69fcaa60 2020-06-18 19:06:00       118.136500   \n",
       "2  0006d282be70d06881a7513b69fcaa60 2020-06-18 03:59:00       118.119495   \n",
       "3  0006d282be70d06881a7513b69fcaa60 2020-06-18 20:44:00       118.113631   \n",
       "4  0006d282be70d06881a7513b69fcaa60 2020-06-18 19:12:00       118.138891   \n",
       "\n",
       "   GETON_LATITUDE         GETOFF_DATE  GETOFF_LONGITUDE  GETOFF_LATITUDE  \\\n",
       "0       24.506093 2020-06-18 17:51:00        118.135925        24.497720   \n",
       "1       24.517291 2020-06-18 19:11:00        118.139381        24.530025   \n",
       "2       24.479730 2020-06-18 04:06:00        118.116335        24.508518   \n",
       "3       24.478733 2020-06-18 20:53:00        118.140945        24.477328   \n",
       "4       24.530666 2020-06-18 19:19:00        118.144028        24.547116   \n",
       "\n",
       "   PASS_MILE  NOPASS_MILE  WAITING_TIME  geton_hour  geton_day  geton_weekday  \n",
       "0        2.6         10.8         498.0          17         18              3  \n",
       "1        2.3          0.3          54.0          19         18              3  \n",
       "2        3.9          0.2          83.0           3         18              3  \n",
       "3        3.0          3.8         250.0          20         18              3  \n",
       "4        3.3          0.1          73.0          19         18              3  "
      ]
     },
     "execution_count": 22,
     "metadata": {},
     "output_type": "execute_result"
    }
   ],
   "source": [
    "taxiorder.head()"
   ]
  },
  {
   "cell_type": "markdown",
   "metadata": {},
   "source": [
    "非工作日"
   ]
  },
  {
   "cell_type": "code",
   "execution_count": 23,
   "metadata": {},
   "outputs": [],
   "source": [
    "taxiorder_nowork =  taxiorder[['CAR_NO','GETON_DATE','GETON_LONGITUDE','GETON_LATITUDE','GETOFF_DATE','GETOFF_LONGITUDE','GETOFF_LATITUDE','PASS_MILE','NOPASS_MILE','WAITING_TIME','geton_hour','geton_day']][(taxiorder['geton_day']==20) |(taxiorder['geton_day']==21)]"
   ]
  },
  {
   "cell_type": "code",
   "execution_count": 24,
   "metadata": {},
   "outputs": [],
   "source": [
    "taxiorder_work =  taxiorder[['CAR_NO','GETON_DATE','GETON_LONGITUDE','GETON_LATITUDE','GETOFF_DATE','GETOFF_LONGITUDE','GETOFF_LATITUDE','PASS_MILE','NOPASS_MILE','geton_hour','geton_day']][(taxiorder['geton_day'] ==18)|(taxiorder['geton_day'] ==19) | (taxiorder['geton_day']>=22) &(taxiorder['geton_day']<=24)]"
   ]
  },
  {
   "cell_type": "code",
   "execution_count": 25,
   "metadata": {},
   "outputs": [],
   "source": [
    "taxiorder_holiday =  taxiorder[['CAR_NO','GETON_DATE','GETON_LONGITUDE','GETON_LATITUDE','GETOFF_DATE','GETOFF_LONGITUDE','GETOFF_LATITUDE','PASS_MILE','NOPASS_MILE','geton_hour','geton_day']][(taxiorder['geton_day']>=25) &(taxiorder['geton_day']<=27)]"
   ]
  },
  {
   "cell_type": "code",
   "execution_count": 26,
   "metadata": {},
   "outputs": [
    {
     "data": {
      "text/plain": [
       "array([25, 26, 27], dtype=int64)"
      ]
     },
     "execution_count": 26,
     "metadata": {},
     "output_type": "execute_result"
    }
   ],
   "source": [
    "taxiorder_nowork['geton_day'].unique()\n",
    "taxiorder_work['geton_day'].unique()\n",
    "taxiorder_holiday['geton_day'].unique()"
   ]
  },
  {
   "cell_type": "code",
   "execution_count": 47,
   "metadata": {},
   "outputs": [
    {
     "data": {
      "text/plain": [
       "array([18, 19, 22, 23, 24], dtype=int64)"
      ]
     },
     "execution_count": 47,
     "metadata": {},
     "output_type": "execute_result"
    }
   ],
   "source": [
    "taxiorder_work['geton_day'].unique()"
   ]
  },
  {
   "cell_type": "code",
   "execution_count": 27,
   "metadata": {},
   "outputs": [
    {
     "data": {
      "text/plain": [
       "<matplotlib.axes._subplots.AxesSubplot at 0xcf9c1f0>"
      ]
     },
     "execution_count": 27,
     "metadata": {},
     "output_type": "execute_result"
    },
    {
     "data": {
      "image/png": "[encoded data removed]",
      "text/plain": [
       "<Figure size 432x288 with 1 Axes>"
      ]
     },
     "metadata": {
      "needs_background": "light"
     },
     "output_type": "display_data"
    }
   ],
   "source": [
    "taxiorder_nowork.groupby(['geton_hour'])['CAR_NO'].size().plot.bar()"
   ]
  },
  {
   "cell_type": "code",
   "execution_count": 28,
   "metadata": {},
   "outputs": [],
   "source": [
    "# col=[i  for i,x in enumerate(taxiorder.columns) if taxiorder['geton_day'] ]"
   ]
  },
  {
   "cell_type": "code",
   "execution_count": 29,
   "metadata": {},
   "outputs": [
    {
     "data": {
      "text/plain": [
       "<matplotlib.axes._subplots.AxesSubplot at 0xd108590>"
      ]
     },
     "execution_count": 29,
     "metadata": {},
     "output_type": "execute_result"
    },
    {
     "data": {
      "image/png": "[encoded data removed]",
      "text/plain": [
       "<Figure size 432x288 with 1 Axes>"
      ]
     },
     "metadata": {
      "needs_background": "light"
     },
     "output_type": "display_data"
    }
   ],
   "source": [
    "taxiorder_work.groupby(['geton_hour'])['CAR_NO'].size().plot.bar()"
   ]
  },
  {
   "cell_type": "code",
   "execution_count": 30,
   "metadata": {},
   "outputs": [
    {
     "data": {
      "text/plain": [
       "<matplotlib.axes._subplots.AxesSubplot at 0xcff6d10>"
      ]
     },
     "execution_count": 30,
     "metadata": {},
     "output_type": "execute_result"
    },
    {
     "data": {
      "image/png": "[encoded data removed]",
      "text/plain": [
       "<Figure size 432x288 with 1 Axes>"
      ]
     },
     "metadata": {
      "needs_background": "light"
     },
     "output_type": "display_data"
    }
   ],
   "source": [
    "taxiorder_holiday.groupby(['geton_hour'])['CAR_NO'].size().plot.bar()"
   ]
  },
  {
   "cell_type": "markdown",
   "metadata": {},
   "source": [
    "路网数据"
   ]
  },
  {
   "cell_type": "code",
   "execution_count": 31,
   "metadata": {},
   "outputs": [],
   "source": [
    "import geohash2"
   ]
  },
  {
   "cell_type": "code",
   "execution_count": 32,
   "metadata": {},
   "outputs": [],
   "source": [
    "# geohash2.encode(taxiorder['GETON_LONGITUDE'].values,taxiorder['GETON_LATITUDE'].values , precision=7)"
   ]
  },
  {
   "cell_type": "code",
   "execution_count": null,
   "metadata": {},
   "outputs": [],
   "source": []
  },
  {
   "cell_type": "code",
   "execution_count": 33,
   "metadata": {},
   "outputs": [],
   "source": [
    "import shapely, geopandas, fiona"
   ]
  },
  {
   "cell_type": "code",
   "execution_count": 34,
   "metadata": {},
   "outputs": [
    {
     "data": {
      "text/plain": [
       "<matplotlib.axes._subplots.AxesSubplot at 0x24d096f0>"
      ]
     },
     "execution_count": 34,
     "metadata": {},
     "output_type": "execute_result"
    },
    {
     "data": {
      "image/png": "[encoded data removed]",
      "text/plain": [
       "<Figure size 1080x648 with 1 Axes>"
      ]
     },
     "metadata": {
      "needs_background": "light"
     },
     "output_type": "display_data"
    }
   ],
   "source": [
    "\n",
    "import seaborn as sns\n",
    "shp_df = geopandas.GeoDataFrame.from_file(\"D://数字中国创新大赛/AI大赛路网修改版/xm_road_edit20200826.shp\")\n",
    "shp_df.plot(figsize=(15, 9))"
   ]
  },
  {
   "cell_type": "markdown",
   "metadata": {},
   "source": [
    "热力图"
   ]
  },
  {
   "cell_type": "code",
   "execution_count": 35,
   "metadata": {},
   "outputs": [],
   "source": [
    "import folium\n",
    "from folium import plugins\n",
    "from folium.plugins import HeatMap"
   ]
  },
  {
   "cell_type": "code",
   "execution_count": 36,
   "metadata": {},
   "outputs": [
    {
     "data": {
      "text/plain": [
       "<folium.plugins.heat_map.HeatMap at 0x4d88d3f0>"
      ]
     },
     "execution_count": 36,
     "metadata": {},
     "output_type": "execute_result"
    }
   ],
   "source": [
    "\n",
    "map_hooray = folium.Map(location=[24.482426, 118.157606], zoom_start=14)\n",
    "\n",
    "# Plot it on the map\n",
    "HeatMap(taxiorder[['GETON_LONGITUDE','GETON_LATITUDE']].iloc[:2000]).add_to(map_hooray)\n",
    "\n",
    "# Display the map\n",
    "# map_hooray"
   ]
  },
  {
   "cell_type": "markdown",
   "metadata": {},
   "source": [
    "平均运距"
   ]
  },
  {
   "cell_type": "code",
   "execution_count": 37,
   "metadata": {},
   "outputs": [
    {
     "data": {
      "text/html": [
       "<div>\n",
       "<style scoped>\n",
       "    .dataframe tbody tr th:only-of-type {\n",
       "        vertical-align: middle;\n",
       "    }\n",
       "\n",
       "    .dataframe tbody tr th {\n",
       "        vertical-align: top;\n",
       "    }\n",
       "\n",
       "    .dataframe thead th {\n",
       "        text-align: right;\n",
       "    }\n",
       "</style>\n",
       "<table border=\"1\" class=\"dataframe\">\n",
       "  <thead>\n",
       "    <tr style=\"text-align: right;\">\n",
       "      <th></th>\n",
       "      <th>GETON_LONGITUDE</th>\n",
       "      <th>GETON_LATITUDE</th>\n",
       "      <th>GETOFF_LONGITUDE</th>\n",
       "      <th>GETOFF_LATITUDE</th>\n",
       "      <th>PASS_MILE</th>\n",
       "      <th>NOPASS_MILE</th>\n",
       "      <th>WAITING_TIME</th>\n",
       "      <th>geton_hour</th>\n",
       "      <th>geton_day</th>\n",
       "    </tr>\n",
       "  </thead>\n",
       "  <tbody>\n",
       "    <tr>\n",
       "      <th>count</th>\n",
       "      <td>401873.000000</td>\n",
       "      <td>401873.000000</td>\n",
       "      <td>401873.000000</td>\n",
       "      <td>401873.000000</td>\n",
       "      <td>401873.000000</td>\n",
       "      <td>401873.000000</td>\n",
       "      <td>401873.000000</td>\n",
       "      <td>401873.000000</td>\n",
       "      <td>401873.000000</td>\n",
       "    </tr>\n",
       "    <tr>\n",
       "      <th>mean</th>\n",
       "      <td>118.118961</td>\n",
       "      <td>24.495781</td>\n",
       "      <td>117.796735</td>\n",
       "      <td>24.430739</td>\n",
       "      <td>5.419852</td>\n",
       "      <td>3.859625</td>\n",
       "      <td>212.931118</td>\n",
       "      <td>12.787478</td>\n",
       "      <td>20.481120</td>\n",
       "    </tr>\n",
       "    <tr>\n",
       "      <th>std</th>\n",
       "      <td>0.033168</td>\n",
       "      <td>0.033964</td>\n",
       "      <td>6.160296</td>\n",
       "      <td>1.278381</td>\n",
       "      <td>3.716553</td>\n",
       "      <td>6.325066</td>\n",
       "      <td>349.627800</td>\n",
       "      <td>7.144051</td>\n",
       "      <td>0.499644</td>\n",
       "    </tr>\n",
       "    <tr>\n",
       "      <th>min</th>\n",
       "      <td>117.881966</td>\n",
       "      <td>24.382625</td>\n",
       "      <td>0.000000</td>\n",
       "      <td>0.000000</td>\n",
       "      <td>0.100000</td>\n",
       "      <td>0.000000</td>\n",
       "      <td>1.000000</td>\n",
       "      <td>0.000000</td>\n",
       "      <td>20.000000</td>\n",
       "    </tr>\n",
       "    <tr>\n",
       "      <th>25%</th>\n",
       "      <td>118.100307</td>\n",
       "      <td>24.476133</td>\n",
       "      <td>118.098203</td>\n",
       "      <td>24.475845</td>\n",
       "      <td>2.700000</td>\n",
       "      <td>0.600000</td>\n",
       "      <td>95.000000</td>\n",
       "      <td>7.000000</td>\n",
       "      <td>20.000000</td>\n",
       "    </tr>\n",
       "    <tr>\n",
       "      <th>50%</th>\n",
       "      <td>118.117571</td>\n",
       "      <td>24.490603</td>\n",
       "      <td>118.117318</td>\n",
       "      <td>24.491801</td>\n",
       "      <td>4.500000</td>\n",
       "      <td>2.000000</td>\n",
       "      <td>170.000000</td>\n",
       "      <td>14.000000</td>\n",
       "      <td>20.000000</td>\n",
       "    </tr>\n",
       "    <tr>\n",
       "      <th>75%</th>\n",
       "      <td>118.139938</td>\n",
       "      <td>24.509141</td>\n",
       "      <td>118.142057</td>\n",
       "      <td>24.511431</td>\n",
       "      <td>7.000000</td>\n",
       "      <td>4.700000</td>\n",
       "      <td>270.000000</td>\n",
       "      <td>19.000000</td>\n",
       "      <td>21.000000</td>\n",
       "    </tr>\n",
       "    <tr>\n",
       "      <th>max</th>\n",
       "      <td>118.432342</td>\n",
       "      <td>24.875721</td>\n",
       "      <td>125.334186</td>\n",
       "      <td>32.268376</td>\n",
       "      <td>20.000000</td>\n",
       "      <td>472.700000</td>\n",
       "      <td>61295.000000</td>\n",
       "      <td>23.000000</td>\n",
       "      <td>21.000000</td>\n",
       "    </tr>\n",
       "  </tbody>\n",
       "</table>\n",
       "</div>"
      ],
      "text/plain": [
       "       GETON_LONGITUDE  GETON_LATITUDE  GETOFF_LONGITUDE  GETOFF_LATITUDE  \\\n",
       "count    401873.000000   401873.000000     401873.000000    401873.000000   \n",
       "mean        118.118961       24.495781        117.796735        24.430739   \n",
       "std           0.033168        0.033964          6.160296         1.278381   \n",
       "min         117.881966       24.382625          0.000000         0.000000   \n",
       "25%         118.100307       24.476133        118.098203        24.475845   \n",
       "50%         118.117571       24.490603        118.117318        24.491801   \n",
       "75%         118.139938       24.509141        118.142057        24.511431   \n",
       "max         118.432342       24.875721        125.334186        32.268376   \n",
       "\n",
       "           PASS_MILE    NOPASS_MILE   WAITING_TIME     geton_hour  \\\n",
       "count  401873.000000  401873.000000  401873.000000  401873.000000   \n",
       "mean        5.419852       3.859625     212.931118      12.787478   \n",
       "std         3.716553       6.325066     349.627800       7.144051   \n",
       "min         0.100000       0.000000       1.000000       0.000000   \n",
       "25%         2.700000       0.600000      95.000000       7.000000   \n",
       "50%         4.500000       2.000000     170.000000      14.000000   \n",
       "75%         7.000000       4.700000     270.000000      19.000000   \n",
       "max        20.000000     472.700000   61295.000000      23.000000   \n",
       "\n",
       "           geton_day  \n",
       "count  401873.000000  \n",
       "mean       20.481120  \n",
       "std         0.499644  \n",
       "min        20.000000  \n",
       "25%        20.000000  \n",
       "50%        20.000000  \n",
       "75%        21.000000  \n",
       "max        21.000000  "
      ]
     },
     "execution_count": 37,
     "metadata": {},
     "output_type": "execute_result"
    }
   ],
   "source": [
    "taxiorder_nowork.describe()"
   ]
  },
  {
   "cell_type": "code",
   "execution_count": 38,
   "metadata": {},
   "outputs": [
    {
     "data": {
      "text/plain": [
       "Index(['CAR_NO', 'GETON_DATE', 'GETON_LONGITUDE', 'GETON_LATITUDE',\n",
       "       'GETOFF_DATE', 'GETOFF_LONGITUDE', 'GETOFF_LATITUDE', 'PASS_MILE',\n",
       "       'NOPASS_MILE', 'WAITING_TIME', 'geton_hour', 'geton_day'],\n",
       "      dtype='object')"
      ]
     },
     "execution_count": 38,
     "metadata": {},
     "output_type": "execute_result"
    }
   ],
   "source": [
    "taxiorder_nowork.columns"
   ]
  },
  {
   "cell_type": "code",
   "execution_count": 39,
   "metadata": {},
   "outputs": [
    {
     "data": {
      "text/html": [
       "<div>\n",
       "<style scoped>\n",
       "    .dataframe tbody tr th:only-of-type {\n",
       "        vertical-align: middle;\n",
       "    }\n",
       "\n",
       "    .dataframe tbody tr th {\n",
       "        vertical-align: top;\n",
       "    }\n",
       "\n",
       "    .dataframe thead th {\n",
       "        text-align: right;\n",
       "    }\n",
       "</style>\n",
       "<table border=\"1\" class=\"dataframe\">\n",
       "  <thead>\n",
       "    <tr style=\"text-align: right;\">\n",
       "      <th></th>\n",
       "      <th>CAR_NO</th>\n",
       "      <th>GETON_DATE</th>\n",
       "      <th>GETON_LONGITUDE</th>\n",
       "      <th>GETON_LATITUDE</th>\n",
       "      <th>GETOFF_DATE</th>\n",
       "      <th>GETOFF_LONGITUDE</th>\n",
       "      <th>GETOFF_LATITUDE</th>\n",
       "      <th>PASS_MILE</th>\n",
       "      <th>NOPASS_MILE</th>\n",
       "      <th>WAITING_TIME</th>\n",
       "      <th>geton_hour</th>\n",
       "      <th>geton_day</th>\n",
       "    </tr>\n",
       "  </thead>\n",
       "  <tbody>\n",
       "    <tr>\n",
       "      <th>0</th>\n",
       "      <td>a29b3a05408b289c81cc0fa687ba98d6</td>\n",
       "      <td>2020-06-20 18:37:00</td>\n",
       "      <td>118.131100</td>\n",
       "      <td>24.501797</td>\n",
       "      <td>2020-06-20 18:48:00</td>\n",
       "      <td>118.155598</td>\n",
       "      <td>24.516960</td>\n",
       "      <td>4.1</td>\n",
       "      <td>1.6</td>\n",
       "      <td>240.0</td>\n",
       "      <td>18</td>\n",
       "      <td>20</td>\n",
       "    </tr>\n",
       "    <tr>\n",
       "      <th>1</th>\n",
       "      <td>7189ad5e4f057cb81e6ca8744858293f</td>\n",
       "      <td>2020-06-20 18:36:00</td>\n",
       "      <td>118.075556</td>\n",
       "      <td>24.468428</td>\n",
       "      <td>2020-06-20 18:47:00</td>\n",
       "      <td>118.078068</td>\n",
       "      <td>24.446641</td>\n",
       "      <td>3.9</td>\n",
       "      <td>0.1</td>\n",
       "      <td>246.0</td>\n",
       "      <td>18</td>\n",
       "      <td>20</td>\n",
       "    </tr>\n",
       "    <tr>\n",
       "      <th>2</th>\n",
       "      <td>aadab13d313bda70e827eb8b8598c646</td>\n",
       "      <td>2020-06-20 18:22:00</td>\n",
       "      <td>118.118250</td>\n",
       "      <td>24.486248</td>\n",
       "      <td>2020-06-20 18:46:00</td>\n",
       "      <td>118.155430</td>\n",
       "      <td>24.534463</td>\n",
       "      <td>9.4</td>\n",
       "      <td>0.0</td>\n",
       "      <td>687.0</td>\n",
       "      <td>18</td>\n",
       "      <td>20</td>\n",
       "    </tr>\n",
       "    <tr>\n",
       "      <th>3</th>\n",
       "      <td>c375b9bc472f9acd2005930462a810d9</td>\n",
       "      <td>2020-06-20 18:33:00</td>\n",
       "      <td>118.111411</td>\n",
       "      <td>24.496635</td>\n",
       "      <td>2020-06-20 18:52:00</td>\n",
       "      <td>118.169878</td>\n",
       "      <td>24.455883</td>\n",
       "      <td>14.8</td>\n",
       "      <td>2.2</td>\n",
       "      <td>60.0</td>\n",
       "      <td>18</td>\n",
       "      <td>20</td>\n",
       "    </tr>\n",
       "    <tr>\n",
       "      <th>4</th>\n",
       "      <td>25ebcc5245b6bc5cfc8c32c88e8b59c0</td>\n",
       "      <td>2020-06-20 18:31:00</td>\n",
       "      <td>118.141030</td>\n",
       "      <td>24.493493</td>\n",
       "      <td>2020-06-20 18:47:00</td>\n",
       "      <td>118.173393</td>\n",
       "      <td>24.471758</td>\n",
       "      <td>5.1</td>\n",
       "      <td>1.3</td>\n",
       "      <td>479.0</td>\n",
       "      <td>18</td>\n",
       "      <td>20</td>\n",
       "    </tr>\n",
       "    <tr>\n",
       "      <th>...</th>\n",
       "      <td>...</td>\n",
       "      <td>...</td>\n",
       "      <td>...</td>\n",
       "      <td>...</td>\n",
       "      <td>...</td>\n",
       "      <td>...</td>\n",
       "      <td>...</td>\n",
       "      <td>...</td>\n",
       "      <td>...</td>\n",
       "      <td>...</td>\n",
       "      <td>...</td>\n",
       "      <td>...</td>\n",
       "    </tr>\n",
       "    <tr>\n",
       "      <th>204729</th>\n",
       "      <td>3dd6c92fe8a9c23a3625afc40aec9c01</td>\n",
       "      <td>2020-06-21 18:40:00</td>\n",
       "      <td>118.182158</td>\n",
       "      <td>24.511921</td>\n",
       "      <td>2020-06-21 18:55:00</td>\n",
       "      <td>118.148978</td>\n",
       "      <td>24.514823</td>\n",
       "      <td>5.1</td>\n",
       "      <td>2.3</td>\n",
       "      <td>389.0</td>\n",
       "      <td>18</td>\n",
       "      <td>21</td>\n",
       "    </tr>\n",
       "    <tr>\n",
       "      <th>204730</th>\n",
       "      <td>d27dac6938959bc4b2b8bc717867bd1d</td>\n",
       "      <td>2020-06-21 18:43:00</td>\n",
       "      <td>118.113298</td>\n",
       "      <td>24.498158</td>\n",
       "      <td>2020-06-21 18:54:00</td>\n",
       "      <td>118.112255</td>\n",
       "      <td>24.469460</td>\n",
       "      <td>4.4</td>\n",
       "      <td>1.9</td>\n",
       "      <td>241.0</td>\n",
       "      <td>18</td>\n",
       "      <td>21</td>\n",
       "    </tr>\n",
       "    <tr>\n",
       "      <th>204731</th>\n",
       "      <td>1a201525bb73110d5f918e1e6fe74e57</td>\n",
       "      <td>2020-06-21 17:27:00</td>\n",
       "      <td>118.072486</td>\n",
       "      <td>24.465770</td>\n",
       "      <td>2020-06-21 17:39:00</td>\n",
       "      <td>118.113028</td>\n",
       "      <td>24.479140</td>\n",
       "      <td>4.8</td>\n",
       "      <td>1.8</td>\n",
       "      <td>276.0</td>\n",
       "      <td>17</td>\n",
       "      <td>21</td>\n",
       "    </tr>\n",
       "    <tr>\n",
       "      <th>204732</th>\n",
       "      <td>15da7adeecf3e849abe535567d6f711f</td>\n",
       "      <td>2020-06-21 00:03:00</td>\n",
       "      <td>118.119483</td>\n",
       "      <td>24.479823</td>\n",
       "      <td>2020-06-21 00:09:00</td>\n",
       "      <td>118.116118</td>\n",
       "      <td>24.471160</td>\n",
       "      <td>1.4</td>\n",
       "      <td>0.1</td>\n",
       "      <td>140.0</td>\n",
       "      <td>0</td>\n",
       "      <td>21</td>\n",
       "    </tr>\n",
       "    <tr>\n",
       "      <th>204733</th>\n",
       "      <td>426945e2e6fe2e1b4988c4fb38731706</td>\n",
       "      <td>2020-06-21 18:30:00</td>\n",
       "      <td>118.092788</td>\n",
       "      <td>24.515828</td>\n",
       "      <td>2020-06-21 18:54:00</td>\n",
       "      <td>118.089580</td>\n",
       "      <td>24.467823</td>\n",
       "      <td>9.1</td>\n",
       "      <td>1.1</td>\n",
       "      <td>667.0</td>\n",
       "      <td>18</td>\n",
       "      <td>21</td>\n",
       "    </tr>\n",
       "  </tbody>\n",
       "</table>\n",
       "<p>401873 rows × 12 columns</p>\n",
       "</div>"
      ],
      "text/plain": [
       "                                  CAR_NO          GETON_DATE  GETON_LONGITUDE  \\\n",
       "0       a29b3a05408b289c81cc0fa687ba98d6 2020-06-20 18:37:00       118.131100   \n",
       "1       7189ad5e4f057cb81e6ca8744858293f 2020-06-20 18:36:00       118.075556   \n",
       "2       aadab13d313bda70e827eb8b8598c646 2020-06-20 18:22:00       118.118250   \n",
       "3       c375b9bc472f9acd2005930462a810d9 2020-06-20 18:33:00       118.111411   \n",
       "4       25ebcc5245b6bc5cfc8c32c88e8b59c0 2020-06-20 18:31:00       118.141030   \n",
       "...                                  ...                 ...              ...   \n",
       "204729  3dd6c92fe8a9c23a3625afc40aec9c01 2020-06-21 18:40:00       118.182158   \n",
       "204730  d27dac6938959bc4b2b8bc717867bd1d 2020-06-21 18:43:00       118.113298   \n",
       "204731  1a201525bb73110d5f918e1e6fe74e57 2020-06-21 17:27:00       118.072486   \n",
       "204732  15da7adeecf3e849abe535567d6f711f 2020-06-21 00:03:00       118.119483   \n",
       "204733  426945e2e6fe2e1b4988c4fb38731706 2020-06-21 18:30:00       118.092788   \n",
       "\n",
       "        GETON_LATITUDE         GETOFF_DATE  GETOFF_LONGITUDE  GETOFF_LATITUDE  \\\n",
       "0            24.501797 2020-06-20 18:48:00        118.155598        24.516960   \n",
       "1            24.468428 2020-06-20 18:47:00        118.078068        24.446641   \n",
       "2            24.486248 2020-06-20 18:46:00        118.155430        24.534463   \n",
       "3            24.496635 2020-06-20 18:52:00        118.169878        24.455883   \n",
       "4            24.493493 2020-06-20 18:47:00        118.173393        24.471758   \n",
       "...                ...                 ...               ...              ...   \n",
       "204729       24.511921 2020-06-21 18:55:00        118.148978        24.514823   \n",
       "204730       24.498158 2020-06-21 18:54:00        118.112255        24.469460   \n",
       "204731       24.465770 2020-06-21 17:39:00        118.113028        24.479140   \n",
       "204732       24.479823 2020-06-21 00:09:00        118.116118        24.471160   \n",
       "204733       24.515828 2020-06-21 18:54:00        118.089580        24.467823   \n",
       "\n",
       "        PASS_MILE  NOPASS_MILE  WAITING_TIME  geton_hour  geton_day  \n",
       "0             4.1          1.6         240.0          18         20  \n",
       "1             3.9          0.1         246.0          18         20  \n",
       "2             9.4          0.0         687.0          18         20  \n",
       "3            14.8          2.2          60.0          18         20  \n",
       "4             5.1          1.3         479.0          18         20  \n",
       "...           ...          ...           ...         ...        ...  \n",
       "204729        5.1          2.3         389.0          18         21  \n",
       "204730        4.4          1.9         241.0          18         21  \n",
       "204731        4.8          1.8         276.0          17         21  \n",
       "204732        1.4          0.1         140.0           0         21  \n",
       "204733        9.1          1.1         667.0          18         21  \n",
       "\n",
       "[401873 rows x 12 columns]"
      ]
     },
     "execution_count": 39,
     "metadata": {},
     "output_type": "execute_result"
    }
   ],
   "source": [
    " taxiorder_nowork"
   ]
  },
  {
   "cell_type": "code",
   "execution_count": 40,
   "metadata": {},
   "outputs": [],
   "source": [
    "passmile_mean = taxiorder_nowork['PASS_MILE'].groupby(taxiorder_nowork['geton_hour']).mean().sort_values( ascending=False)"
   ]
  },
  {
   "cell_type": "code",
   "execution_count": 41,
   "metadata": {},
   "outputs": [
    {
     "data": {
      "text/plain": [
       "<matplotlib.axes._subplots.AxesSubplot at 0x4d89b310>"
      ]
     },
     "execution_count": 41,
     "metadata": {},
     "output_type": "execute_result"
    },
    {
     "data": {
      "image/png": "[encoded data removed]",
      "text/plain": [
       "<Figure size 432x288 with 1 Axes>"
      ]
     },
     "metadata": {
      "needs_background": "light"
     },
     "output_type": "display_data"
    }
   ],
   "source": [
    "passmile_mean.plot.bar()"
   ]
  },
  {
   "cell_type": "code",
   "execution_count": 42,
   "metadata": {},
   "outputs": [],
   "source": [
    "#  taxiorder_nowork.loc[taxiorder_nowork['PASS_MILE'] >20 , 'PASS_MILE'] = taxiorder_nowork['PASS_MILE'].mean()"
   ]
  },
  {
   "cell_type": "code",
   "execution_count": 43,
   "metadata": {},
   "outputs": [
    {
     "data": {
      "text/plain": [
       "5.4198523910015295"
      ]
     },
     "execution_count": 43,
     "metadata": {},
     "output_type": "execute_result"
    }
   ],
   "source": [
    "taxiorder_nowork['PASS_MILE'].mean()"
   ]
  },
  {
   "cell_type": "code",
   "execution_count": 44,
   "metadata": {},
   "outputs": [
    {
     "data": {
      "text/plain": [
       "geton_day\n",
       "20    5.411224\n",
       "21    5.429158\n",
       "Name: PASS_MILE, dtype: float64"
      ]
     },
     "execution_count": 44,
     "metadata": {},
     "output_type": "execute_result"
    }
   ],
   "source": [
    "taxiorder_nowork['PASS_MILE'].groupby(taxiorder_nowork['geton_day']).mean()"
   ]
  },
  {
   "cell_type": "code",
   "execution_count": 45,
   "metadata": {},
   "outputs": [
    {
     "data": {
      "text/plain": [
       "geton_day\n",
       "18    5.453442\n",
       "19    5.474192\n",
       "22    5.429867\n",
       "23    5.440212\n",
       "24    5.528219\n",
       "Name: PASS_MILE, dtype: float64"
      ]
     },
     "execution_count": 45,
     "metadata": {},
     "output_type": "execute_result"
    }
   ],
   "source": [
    "taxiorder_work['PASS_MILE'].groupby(taxiorder_work['geton_day']).mean()"
   ]
  },
  {
   "cell_type": "code",
   "execution_count": 49,
   "metadata": {},
   "outputs": [
    {
     "data": {
      "text/plain": [
       "geton_day\n",
       "25    5.543281\n",
       "26    5.469943\n",
       "27    5.516699\n",
       "Name: PASS_MILE, dtype: float64"
      ]
     },
     "execution_count": 49,
     "metadata": {},
     "output_type": "execute_result"
    }
   ],
   "source": [
    "taxiorder_holiday['PASS_MILE'].groupby(taxiorder_holiday['geton_day']).mean()"
   ]
  },
  {
   "cell_type": "markdown",
   "metadata": {},
   "source": [
    "订单平均运行时长"
   ]
  },
  {
   "cell_type": "code",
   "execution_count": 50,
   "metadata": {},
   "outputs": [
    {
     "data": {
      "text/html": [
       "<div>\n",
       "<style scoped>\n",
       "    .dataframe tbody tr th:only-of-type {\n",
       "        vertical-align: middle;\n",
       "    }\n",
       "\n",
       "    .dataframe tbody tr th {\n",
       "        vertical-align: top;\n",
       "    }\n",
       "\n",
       "    .dataframe thead th {\n",
       "        text-align: right;\n",
       "    }\n",
       "</style>\n",
       "<table border=\"1\" class=\"dataframe\">\n",
       "  <thead>\n",
       "    <tr style=\"text-align: right;\">\n",
       "      <th></th>\n",
       "      <th>CAR_NO</th>\n",
       "      <th>GETON_DATE</th>\n",
       "      <th>GETON_LONGITUDE</th>\n",
       "      <th>GETON_LATITUDE</th>\n",
       "      <th>GETOFF_DATE</th>\n",
       "      <th>GETOFF_LONGITUDE</th>\n",
       "      <th>GETOFF_LATITUDE</th>\n",
       "      <th>PASS_MILE</th>\n",
       "      <th>NOPASS_MILE</th>\n",
       "      <th>WAITING_TIME</th>\n",
       "      <th>geton_hour</th>\n",
       "      <th>geton_day</th>\n",
       "    </tr>\n",
       "  </thead>\n",
       "  <tbody>\n",
       "    <tr>\n",
       "      <th>0</th>\n",
       "      <td>a29b3a05408b289c81cc0fa687ba98d6</td>\n",
       "      <td>2020-06-20 18:37:00</td>\n",
       "      <td>118.131100</td>\n",
       "      <td>24.501797</td>\n",
       "      <td>2020-06-20 18:48:00</td>\n",
       "      <td>118.155598</td>\n",
       "      <td>24.516960</td>\n",
       "      <td>4.1</td>\n",
       "      <td>1.6</td>\n",
       "      <td>240.0</td>\n",
       "      <td>18</td>\n",
       "      <td>20</td>\n",
       "    </tr>\n",
       "    <tr>\n",
       "      <th>1</th>\n",
       "      <td>7189ad5e4f057cb81e6ca8744858293f</td>\n",
       "      <td>2020-06-20 18:36:00</td>\n",
       "      <td>118.075556</td>\n",
       "      <td>24.468428</td>\n",
       "      <td>2020-06-20 18:47:00</td>\n",
       "      <td>118.078068</td>\n",
       "      <td>24.446641</td>\n",
       "      <td>3.9</td>\n",
       "      <td>0.1</td>\n",
       "      <td>246.0</td>\n",
       "      <td>18</td>\n",
       "      <td>20</td>\n",
       "    </tr>\n",
       "    <tr>\n",
       "      <th>2</th>\n",
       "      <td>aadab13d313bda70e827eb8b8598c646</td>\n",
       "      <td>2020-06-20 18:22:00</td>\n",
       "      <td>118.118250</td>\n",
       "      <td>24.486248</td>\n",
       "      <td>2020-06-20 18:46:00</td>\n",
       "      <td>118.155430</td>\n",
       "      <td>24.534463</td>\n",
       "      <td>9.4</td>\n",
       "      <td>0.0</td>\n",
       "      <td>687.0</td>\n",
       "      <td>18</td>\n",
       "      <td>20</td>\n",
       "    </tr>\n",
       "    <tr>\n",
       "      <th>3</th>\n",
       "      <td>c375b9bc472f9acd2005930462a810d9</td>\n",
       "      <td>2020-06-20 18:33:00</td>\n",
       "      <td>118.111411</td>\n",
       "      <td>24.496635</td>\n",
       "      <td>2020-06-20 18:52:00</td>\n",
       "      <td>118.169878</td>\n",
       "      <td>24.455883</td>\n",
       "      <td>14.8</td>\n",
       "      <td>2.2</td>\n",
       "      <td>60.0</td>\n",
       "      <td>18</td>\n",
       "      <td>20</td>\n",
       "    </tr>\n",
       "    <tr>\n",
       "      <th>4</th>\n",
       "      <td>25ebcc5245b6bc5cfc8c32c88e8b59c0</td>\n",
       "      <td>2020-06-20 18:31:00</td>\n",
       "      <td>118.141030</td>\n",
       "      <td>24.493493</td>\n",
       "      <td>2020-06-20 18:47:00</td>\n",
       "      <td>118.173393</td>\n",
       "      <td>24.471758</td>\n",
       "      <td>5.1</td>\n",
       "      <td>1.3</td>\n",
       "      <td>479.0</td>\n",
       "      <td>18</td>\n",
       "      <td>20</td>\n",
       "    </tr>\n",
       "  </tbody>\n",
       "</table>\n",
       "</div>"
      ],
      "text/plain": [
       "                             CAR_NO          GETON_DATE  GETON_LONGITUDE  \\\n",
       "0  a29b3a05408b289c81cc0fa687ba98d6 2020-06-20 18:37:00       118.131100   \n",
       "1  7189ad5e4f057cb81e6ca8744858293f 2020-06-20 18:36:00       118.075556   \n",
       "2  aadab13d313bda70e827eb8b8598c646 2020-06-20 18:22:00       118.118250   \n",
       "3  c375b9bc472f9acd2005930462a810d9 2020-06-20 18:33:00       118.111411   \n",
       "4  25ebcc5245b6bc5cfc8c32c88e8b59c0 2020-06-20 18:31:00       118.141030   \n",
       "\n",
       "   GETON_LATITUDE         GETOFF_DATE  GETOFF_LONGITUDE  GETOFF_LATITUDE  \\\n",
       "0       24.501797 2020-06-20 18:48:00        118.155598        24.516960   \n",
       "1       24.468428 2020-06-20 18:47:00        118.078068        24.446641   \n",
       "2       24.486248 2020-06-20 18:46:00        118.155430        24.534463   \n",
       "3       24.496635 2020-06-20 18:52:00        118.169878        24.455883   \n",
       "4       24.493493 2020-06-20 18:47:00        118.173393        24.471758   \n",
       "\n",
       "   PASS_MILE  NOPASS_MILE  WAITING_TIME  geton_hour  geton_day  \n",
       "0        4.1          1.6         240.0          18         20  \n",
       "1        3.9          0.1         246.0          18         20  \n",
       "2        9.4          0.0         687.0          18         20  \n",
       "3       14.8          2.2          60.0          18         20  \n",
       "4        5.1          1.3         479.0          18         20  "
      ]
     },
     "execution_count": 50,
     "metadata": {},
     "output_type": "execute_result"
    }
   ],
   "source": [
    "taxiorder_nowork.head()"
   ]
  },
  {
   "cell_type": "code",
   "execution_count": 51,
   "metadata": {},
   "outputs": [
    {
     "name": "stdout",
     "output_type": "stream",
     "text": [
      "<class 'pandas.core.frame.DataFrame'>\n",
      "Int64Index: 401873 entries, 0 to 204733\n",
      "Data columns (total 12 columns):\n",
      " #   Column            Non-Null Count   Dtype         \n",
      "---  ------            --------------   -----         \n",
      " 0   CAR_NO            401873 non-null  object        \n",
      " 1   GETON_DATE        401873 non-null  datetime64[ns]\n",
      " 2   GETON_LONGITUDE   401873 non-null  float64       \n",
      " 3   GETON_LATITUDE    401873 non-null  float64       \n",
      " 4   GETOFF_DATE       401873 non-null  datetime64[ns]\n",
      " 5   GETOFF_LONGITUDE  401873 non-null  float64       \n",
      " 6   GETOFF_LATITUDE   401873 non-null  float64       \n",
      " 7   PASS_MILE         401873 non-null  float64       \n",
      " 8   NOPASS_MILE       401873 non-null  float64       \n",
      " 9   WAITING_TIME      401873 non-null  float64       \n",
      " 10  geton_hour        401873 non-null  int64         \n",
      " 11  geton_day         401873 non-null  int64         \n",
      "dtypes: datetime64[ns](2), float64(7), int64(2), object(1)\n",
      "memory usage: 46.3+ MB\n"
     ]
    }
   ],
   "source": [
    "taxiorder_nowork.info()"
   ]
  },
  {
   "cell_type": "code",
   "execution_count": 52,
   "metadata": {},
   "outputs": [],
   "source": [
    "# taxiorder['GETON_DATE'] = pd.to_datetime(taxiorder['GETON_DATE'],format='%Y-%m-%d %H:%M:%S')"
   ]
  },
  {
   "cell_type": "markdown",
   "metadata": {},
   "source": [
    "非工作日"
   ]
  },
  {
   "cell_type": "code",
   "execution_count": 53,
   "metadata": {},
   "outputs": [],
   "source": [
    "taxiorder_nowork['diff_seconds'] = (taxiorder_nowork['GETOFF_DATE'] - taxiorder_nowork['GETON_DATE']).map(lambda x : x.seconds)"
   ]
  },
  {
   "cell_type": "code",
   "execution_count": 54,
   "metadata": {},
   "outputs": [
    {
     "data": {
      "text/plain": [
       "geton_day\n",
       "20    712.896933\n",
       "21    696.085524\n",
       "Name: diff_seconds, dtype: float64"
      ]
     },
     "execution_count": 54,
     "metadata": {},
     "output_type": "execute_result"
    }
   ],
   "source": [
    "taxiorder_nowork['diff_seconds'].groupby(taxiorder_nowork['geton_day']).mean()"
   ]
  },
  {
   "cell_type": "code",
   "execution_count": 55,
   "metadata": {},
   "outputs": [
    {
     "data": {
      "text/plain": [
       "11.866666666666667"
      ]
     },
     "execution_count": 55,
     "metadata": {},
     "output_type": "execute_result"
    }
   ],
   "source": [
    "712/60"
   ]
  },
  {
   "cell_type": "markdown",
   "metadata": {},
   "source": [
    "工作日"
   ]
  },
  {
   "cell_type": "code",
   "execution_count": 56,
   "metadata": {},
   "outputs": [],
   "source": [
    "taxiorder_work['diff_seconds'] = (taxiorder_work['GETOFF_DATE'] - taxiorder_work['GETON_DATE']).map(lambda x : x.seconds)"
   ]
  },
  {
   "cell_type": "code",
   "execution_count": 57,
   "metadata": {},
   "outputs": [
    {
     "data": {
      "text/plain": [
       "geton_day\n",
       "18    748.784052\n",
       "19    771.376411\n",
       "22    752.023236\n",
       "23    761.074979\n",
       "24    852.611597\n",
       "Name: diff_seconds, dtype: float64"
      ]
     },
     "execution_count": 57,
     "metadata": {},
     "output_type": "execute_result"
    }
   ],
   "source": [
    "taxiorder_work['diff_seconds'].groupby(taxiorder_work['geton_day']).mean()"
   ]
  },
  {
   "cell_type": "code",
   "execution_count": 58,
   "metadata": {},
   "outputs": [],
   "source": [
    "taxiorder_holiday['diff_seconds'] = (taxiorder_holiday['GETOFF_DATE'] - taxiorder_holiday['GETON_DATE']).map(lambda x : x.seconds)"
   ]
  },
  {
   "cell_type": "code",
   "execution_count": 59,
   "metadata": {},
   "outputs": [
    {
     "data": {
      "text/plain": [
       "geton_day\n",
       "25    694.578391\n",
       "26    681.945805\n",
       "27    698.620480\n",
       "Name: diff_seconds, dtype: float64"
      ]
     },
     "execution_count": 59,
     "metadata": {},
     "output_type": "execute_result"
    }
   ],
   "source": [
    "taxiorder_holiday['diff_seconds'].groupby(taxiorder_holiday['geton_day']).mean()"
   ]
  },
  {
   "cell_type": "code",
   "execution_count": 60,
   "metadata": {},
   "outputs": [
    {
     "data": {
      "text/plain": [
       "14.2"
      ]
     },
     "execution_count": 60,
     "metadata": {},
     "output_type": "execute_result"
    }
   ],
   "source": [
    "852/60"
   ]
  },
  {
   "cell_type": "markdown",
   "metadata": {},
   "source": [
    "NOPASS_MILE/(NOPASS_MILE+PASS_MILE)"
   ]
  },
  {
   "cell_type": "code",
   "execution_count": 61,
   "metadata": {},
   "outputs": [
    {
     "data": {
      "text/plain": [
       "0.41593129331420686"
      ]
     },
     "execution_count": 61,
     "metadata": {},
     "output_type": "execute_result"
    }
   ],
   "source": [
    "#非工作日空驶率\n",
    "taxiorder_nowork['NOPASS_MILE'].sum()/(taxiorder_nowork['NOPASS_MILE'].sum() + taxiorder_nowork['PASS_MILE'].sum())"
   ]
  },
  {
   "cell_type": "markdown",
   "metadata": {},
   "source": [
    "工作日空驶率"
   ]
  },
  {
   "cell_type": "code",
   "execution_count": 62,
   "metadata": {},
   "outputs": [
    {
     "data": {
      "text/plain": [
       "0.40110232104931526"
      ]
     },
     "execution_count": 62,
     "metadata": {},
     "output_type": "execute_result"
    }
   ],
   "source": [
    "taxiorder_work['NOPASS_MILE'].sum()/(taxiorder_work['NOPASS_MILE'].sum() + taxiorder_work['PASS_MILE'].sum())"
   ]
  },
  {
   "cell_type": "markdown",
   "metadata": {},
   "source": [
    "节假日"
   ]
  },
  {
   "cell_type": "code",
   "execution_count": 63,
   "metadata": {},
   "outputs": [
    {
     "data": {
      "text/plain": [
       "0.4376612056290417"
      ]
     },
     "execution_count": 63,
     "metadata": {},
     "output_type": "execute_result"
    }
   ],
   "source": [
    "taxiorder_holiday['NOPASS_MILE'].sum()/(taxiorder_holiday['NOPASS_MILE'].sum() + taxiorder_holiday['PASS_MILE'].sum())"
   ]
  }
 ],
 "metadata": {
  "kernelspec": {
   "display_name": "Python 3",
   "language": "python",
   "name": "python3"
  },
  "language_info": {
   "codemirror_mode": {
    "name": "ipython",
    "version": 3
   },
   "file_extension": ".py",
   "mimetype": "text/x-python",
   "name": "python",
   "nbconvert_exporter": "python",
   "pygments_lexer": "ipython3",
   "version": "3.7.0"
  }
 },
 "nbformat": 4,
 "nbformat_minor": 2
}
