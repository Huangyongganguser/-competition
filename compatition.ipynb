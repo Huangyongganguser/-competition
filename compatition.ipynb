{
 "cells": [
  {
   "cell_type": "markdown",
   "metadata": {},
   "source": [
    "\n"
   ]
  },
  {
   "cell_type": "markdown",
   "metadata": {},
   "source": [
    "##  厦门市\n",
    "- 厦门市有6个市辖区，26个街道、12个镇， 361个社区、147个村。\n",
    "- 思明区、湖里区、集美区、海沧区、同安区、翔安区\n",
    "- 厦门市位于北纬24°23'～24°54'、东经117°53'～118°26'，在中国东南沿海，福建省南部，与漳州、泉州相连，地处闽南金三角中部。厦门市由厦门半岛、鼓浪屿及其众多小岛屿、岛礁和同安、集美、海沧、翔安、杏林湾、马銮湾、同安湾等组成，陆地面积1699.39平方千米，海域面积约390多平方千米。其中厦门岛面积约为157.76平方千米（含鼓浪屿），是福建省的第四大岛屿，全岛海岸线约为234千米。"
   ]
  },
  {
   "cell_type": "code",
   "execution_count": 1,
   "metadata": {},
   "outputs": [],
   "source": [
    "import numpy as np\n",
    "import pandas as pd\n",
    "import matplotlib.pyplot as plt\n",
    "from scipy import sparse\n",
    "from datetime import datetime"
   ]
  },
  {
   "cell_type": "markdown",
   "metadata": {},
   "source": [
    "巡游车订单数据"
   ]
  },
  {
   "cell_type": "code",
   "execution_count": null,
   "metadata": {},
   "outputs": [],
   "source": []
  },
  {
   "cell_type": "code",
   "execution_count": 2,
   "metadata": {},
   "outputs": [],
   "source": [
    "INPUT_PATH = r'D:\\\\数字中国创新大赛\\\\2020\\\\'"
   ]
  },
  {
   "cell_type": "code",
   "execution_count": 3,
   "metadata": {},
   "outputs": [],
   "source": [
    "data = pd.concat([\n",
    "    pd.read_csv(INPUT_PATH + 'taxiOrder20200618.csv'),\n",
    "    pd.read_csv(INPUT_PATH + 'taxiOrder20200619.csv' ),\n",
    "    pd.read_csv(INPUT_PATH + 'taxiOrder20200620.csv' ),\n",
    "    pd.read_csv(INPUT_PATH + 'taxiOrder20200621.csv'),\n",
    "    pd.read_csv(INPUT_PATH + 'taxiOrder20200622.csv'),\n",
    "    pd.read_csv(INPUT_PATH + 'taxiOrder20200623.csv'),\n",
    "    pd.read_csv(INPUT_PATH + 'taxiOrder20200624.csv'),\n",
    "    pd.read_csv(INPUT_PATH + 'taxiOrder20200625.csv'),\n",
    "    pd.read_csv(INPUT_PATH + 'taxiOrder20200626.csv'),\n",
    "    pd.read_csv(INPUT_PATH + 'taxiOrder20200627.csv')\n",
    "                                                \n",
    "])"
   ]
  },
  {
   "cell_type": "code",
   "execution_count": 4,
   "metadata": {},
   "outputs": [
    {
     "data": {
      "text/plain": [
       "(2060795, 10)"
      ]
     },
     "execution_count": 4,
     "metadata": {},
     "output_type": "execute_result"
    }
   ],
   "source": [
    "data.shape"
   ]
  },
  {
   "cell_type": "markdown",
   "metadata": {},
   "source": [
    "## 订单数据\n",
    "- CAR_NO：车牌号\n",
    "- GETON_DATE：上车时间\n",
    "- GETON_LONGITUDE：上车经度（WGS84 GPS标准）、 GETON_LATITUDE：上车纬度（WGS84 GPS标准）、\n",
    "- GETOFF_DATE：下车时间\n",
    "- GETOFF_LONGITUDE：下车经度（WGS84 GPS标准）、 GETOFF_LATITUDE：下车纬度（WGS84 GPS标准）\n",
    "- PASS_MILE：计程公里\n",
    "- NOPASS_MILE：空驶公里\n",
    "- WAITING_TIME：等待计时时间\n"
   ]
  },
  {
   "cell_type": "code",
   "execution_count": null,
   "metadata": {},
   "outputs": [],
   "source": []
  },
  {
   "cell_type": "code",
   "execution_count": 5,
   "metadata": {},
   "outputs": [
    {
     "data": {
      "text/html": [
       "<div>\n",
       "<style scoped>\n",
       "    .dataframe tbody tr th:only-of-type {\n",
       "        vertical-align: middle;\n",
       "    }\n",
       "\n",
       "    .dataframe tbody tr th {\n",
       "        vertical-align: top;\n",
       "    }\n",
       "\n",
       "    .dataframe thead th {\n",
       "        text-align: right;\n",
       "    }\n",
       "</style>\n",
       "<table border=\"1\" class=\"dataframe\">\n",
       "  <thead>\n",
       "    <tr style=\"text-align: right;\">\n",
       "      <th></th>\n",
       "      <th>CAR_NO</th>\n",
       "      <th>GETON_DATE</th>\n",
       "      <th>GETON_LONGITUDE</th>\n",
       "      <th>GETON_LATITUDE</th>\n",
       "      <th>GETOFF_DATE</th>\n",
       "      <th>GETOFF_LONGITUDE</th>\n",
       "      <th>GETOFF_LATITUDE</th>\n",
       "      <th>PASS_MILE</th>\n",
       "      <th>NOPASS_MILE</th>\n",
       "      <th>WAITING_TIME</th>\n",
       "    </tr>\n",
       "  </thead>\n",
       "  <tbody>\n",
       "    <tr>\n",
       "      <th>0</th>\n",
       "      <td>0006d282be70d06881a7513b69fcaa60</td>\n",
       "      <td>2020/6/18 17:38</td>\n",
       "      <td>118.155098</td>\n",
       "      <td>24.506093</td>\n",
       "      <td>2020/6/18 17:51</td>\n",
       "      <td>118.135925</td>\n",
       "      <td>24.497720</td>\n",
       "      <td>2.6</td>\n",
       "      <td>10.8</td>\n",
       "      <td>498.0</td>\n",
       "    </tr>\n",
       "    <tr>\n",
       "      <th>1</th>\n",
       "      <td>0006d282be70d06881a7513b69fcaa60</td>\n",
       "      <td>2020/6/18 19:06</td>\n",
       "      <td>118.136500</td>\n",
       "      <td>24.517291</td>\n",
       "      <td>2020/6/18 19:11</td>\n",
       "      <td>118.139381</td>\n",
       "      <td>24.530025</td>\n",
       "      <td>2.3</td>\n",
       "      <td>0.3</td>\n",
       "      <td>54.0</td>\n",
       "    </tr>\n",
       "    <tr>\n",
       "      <th>2</th>\n",
       "      <td>0006d282be70d06881a7513b69fcaa60</td>\n",
       "      <td>2020/6/18 3:59</td>\n",
       "      <td>118.119495</td>\n",
       "      <td>24.479730</td>\n",
       "      <td>2020/6/18 4:06</td>\n",
       "      <td>118.116335</td>\n",
       "      <td>24.508518</td>\n",
       "      <td>3.9</td>\n",
       "      <td>0.2</td>\n",
       "      <td>83.0</td>\n",
       "    </tr>\n",
       "    <tr>\n",
       "      <th>3</th>\n",
       "      <td>0006d282be70d06881a7513b69fcaa60</td>\n",
       "      <td>2020/6/18 20:44</td>\n",
       "      <td>118.113631</td>\n",
       "      <td>24.478733</td>\n",
       "      <td>2020/6/18 20:53</td>\n",
       "      <td>118.140945</td>\n",
       "      <td>24.477328</td>\n",
       "      <td>3.0</td>\n",
       "      <td>3.8</td>\n",
       "      <td>250.0</td>\n",
       "    </tr>\n",
       "    <tr>\n",
       "      <th>4</th>\n",
       "      <td>0006d282be70d06881a7513b69fcaa60</td>\n",
       "      <td>2020/6/18 19:12</td>\n",
       "      <td>118.138891</td>\n",
       "      <td>24.530666</td>\n",
       "      <td>2020/6/18 19:19</td>\n",
       "      <td>118.144028</td>\n",
       "      <td>24.547116</td>\n",
       "      <td>3.3</td>\n",
       "      <td>0.1</td>\n",
       "      <td>73.0</td>\n",
       "    </tr>\n",
       "    <tr>\n",
       "      <th>5</th>\n",
       "      <td>0006d282be70d06881a7513b69fcaa60</td>\n",
       "      <td>2020/6/18 19:20</td>\n",
       "      <td>118.143230</td>\n",
       "      <td>24.546591</td>\n",
       "      <td>2020/6/18 19:46</td>\n",
       "      <td>118.119846</td>\n",
       "      <td>24.427598</td>\n",
       "      <td>20.9</td>\n",
       "      <td>0.1</td>\n",
       "      <td>100.0</td>\n",
       "    </tr>\n",
       "    <tr>\n",
       "      <th>6</th>\n",
       "      <td>0006d282be70d06881a7513b69fcaa60</td>\n",
       "      <td>2020/6/18 5:33</td>\n",
       "      <td>118.123750</td>\n",
       "      <td>24.495565</td>\n",
       "      <td>2020/6/18 5:34</td>\n",
       "      <td>118.125615</td>\n",
       "      <td>24.494621</td>\n",
       "      <td>0.2</td>\n",
       "      <td>0.0</td>\n",
       "      <td>24.0</td>\n",
       "    </tr>\n",
       "    <tr>\n",
       "      <th>7</th>\n",
       "      <td>0006d282be70d06881a7513b69fcaa60</td>\n",
       "      <td>2020/6/18 1:13</td>\n",
       "      <td>118.091305</td>\n",
       "      <td>24.483773</td>\n",
       "      <td>2020/6/18 1:21</td>\n",
       "      <td>118.112166</td>\n",
       "      <td>24.506658</td>\n",
       "      <td>4.2</td>\n",
       "      <td>9.2</td>\n",
       "      <td>119.0</td>\n",
       "    </tr>\n",
       "    <tr>\n",
       "      <th>8</th>\n",
       "      <td>0006d282be70d06881a7513b69fcaa60</td>\n",
       "      <td>2020/6/18 2:11</td>\n",
       "      <td>118.124645</td>\n",
       "      <td>24.509175</td>\n",
       "      <td>2020/6/18 2:28</td>\n",
       "      <td>118.174208</td>\n",
       "      <td>24.464051</td>\n",
       "      <td>9.9</td>\n",
       "      <td>2.8</td>\n",
       "      <td>190.0</td>\n",
       "    </tr>\n",
       "    <tr>\n",
       "      <th>9</th>\n",
       "      <td>0006d282be70d06881a7513b69fcaa60</td>\n",
       "      <td>2020/6/18 22:00</td>\n",
       "      <td>118.115401</td>\n",
       "      <td>24.510981</td>\n",
       "      <td>2020/6/18 22:29</td>\n",
       "      <td>118.047938</td>\n",
       "      <td>24.605175</td>\n",
       "      <td>17.4</td>\n",
       "      <td>1.5</td>\n",
       "      <td>455.0</td>\n",
       "    </tr>\n",
       "  </tbody>\n",
       "</table>\n",
       "</div>"
      ],
      "text/plain": [
       "                             CAR_NO       GETON_DATE  GETON_LONGITUDE  \\\n",
       "0  0006d282be70d06881a7513b69fcaa60  2020/6/18 17:38       118.155098   \n",
       "1  0006d282be70d06881a7513b69fcaa60  2020/6/18 19:06       118.136500   \n",
       "2  0006d282be70d06881a7513b69fcaa60   2020/6/18 3:59       118.119495   \n",
       "3  0006d282be70d06881a7513b69fcaa60  2020/6/18 20:44       118.113631   \n",
       "4  0006d282be70d06881a7513b69fcaa60  2020/6/18 19:12       118.138891   \n",
       "5  0006d282be70d06881a7513b69fcaa60  2020/6/18 19:20       118.143230   \n",
       "6  0006d282be70d06881a7513b69fcaa60   2020/6/18 5:33       118.123750   \n",
       "7  0006d282be70d06881a7513b69fcaa60   2020/6/18 1:13       118.091305   \n",
       "8  0006d282be70d06881a7513b69fcaa60   2020/6/18 2:11       118.124645   \n",
       "9  0006d282be70d06881a7513b69fcaa60  2020/6/18 22:00       118.115401   \n",
       "\n",
       "   GETON_LATITUDE      GETOFF_DATE  GETOFF_LONGITUDE  GETOFF_LATITUDE  \\\n",
       "0       24.506093  2020/6/18 17:51        118.135925        24.497720   \n",
       "1       24.517291  2020/6/18 19:11        118.139381        24.530025   \n",
       "2       24.479730   2020/6/18 4:06        118.116335        24.508518   \n",
       "3       24.478733  2020/6/18 20:53        118.140945        24.477328   \n",
       "4       24.530666  2020/6/18 19:19        118.144028        24.547116   \n",
       "5       24.546591  2020/6/18 19:46        118.119846        24.427598   \n",
       "6       24.495565   2020/6/18 5:34        118.125615        24.494621   \n",
       "7       24.483773   2020/6/18 1:21        118.112166        24.506658   \n",
       "8       24.509175   2020/6/18 2:28        118.174208        24.464051   \n",
       "9       24.510981  2020/6/18 22:29        118.047938        24.605175   \n",
       "\n",
       "   PASS_MILE  NOPASS_MILE  WAITING_TIME  \n",
       "0        2.6         10.8         498.0  \n",
       "1        2.3          0.3          54.0  \n",
       "2        3.9          0.2          83.0  \n",
       "3        3.0          3.8         250.0  \n",
       "4        3.3          0.1          73.0  \n",
       "5       20.9          0.1         100.0  \n",
       "6        0.2          0.0          24.0  \n",
       "7        4.2          9.2         119.0  \n",
       "8        9.9          2.8         190.0  \n",
       "9       17.4          1.5         455.0  "
      ]
     },
     "execution_count": 5,
     "metadata": {},
     "output_type": "execute_result"
    }
   ],
   "source": [
    "data.head(10)"
   ]
  },
  {
   "cell_type": "code",
   "execution_count": 6,
   "metadata": {},
   "outputs": [
    {
     "name": "stdout",
     "output_type": "stream",
     "text": [
      "<class 'pandas.core.frame.DataFrame'>\n",
      "Int64Index: 2060795 entries, 0 to 191477\n",
      "Data columns (total 10 columns):\n",
      " #   Column            Dtype  \n",
      "---  ------            -----  \n",
      " 0   CAR_NO            object \n",
      " 1   GETON_DATE        object \n",
      " 2   GETON_LONGITUDE   float64\n",
      " 3   GETON_LATITUDE    float64\n",
      " 4   GETOFF_DATE       object \n",
      " 5   GETOFF_LONGITUDE  float64\n",
      " 6   GETOFF_LATITUDE   float64\n",
      " 7   PASS_MILE         float64\n",
      " 8   NOPASS_MILE       float64\n",
      " 9   WAITING_TIME      float64\n",
      "dtypes: float64(7), object(3)\n",
      "memory usage: 149.4+ MB\n"
     ]
    }
   ],
   "source": [
    "data.info()"
   ]
  },
  {
   "cell_type": "code",
   "execution_count": 7,
   "metadata": {},
   "outputs": [
    {
     "data": {
      "text/html": [
       "<div>\n",
       "<style scoped>\n",
       "    .dataframe tbody tr th:only-of-type {\n",
       "        vertical-align: middle;\n",
       "    }\n",
       "\n",
       "    .dataframe tbody tr th {\n",
       "        vertical-align: top;\n",
       "    }\n",
       "\n",
       "    .dataframe thead th {\n",
       "        text-align: right;\n",
       "    }\n",
       "</style>\n",
       "<table border=\"1\" class=\"dataframe\">\n",
       "  <thead>\n",
       "    <tr style=\"text-align: right;\">\n",
       "      <th></th>\n",
       "      <th>GETON_LONGITUDE</th>\n",
       "      <th>GETON_LATITUDE</th>\n",
       "      <th>GETOFF_LONGITUDE</th>\n",
       "      <th>GETOFF_LATITUDE</th>\n",
       "      <th>PASS_MILE</th>\n",
       "      <th>NOPASS_MILE</th>\n",
       "      <th>WAITING_TIME</th>\n",
       "    </tr>\n",
       "  </thead>\n",
       "  <tbody>\n",
       "    <tr>\n",
       "      <th>count</th>\n",
       "      <td>2.060795e+06</td>\n",
       "      <td>2.060795e+06</td>\n",
       "      <td>2.060795e+06</td>\n",
       "      <td>2.060795e+06</td>\n",
       "      <td>2.060795e+06</td>\n",
       "      <td>2.060795e+06</td>\n",
       "      <td>2.060795e+06</td>\n",
       "    </tr>\n",
       "    <tr>\n",
       "      <th>mean</th>\n",
       "      <td>1.150318e+02</td>\n",
       "      <td>2.385675e+01</td>\n",
       "      <td>1.164483e+02</td>\n",
       "      <td>2.415242e+01</td>\n",
       "      <td>5.944242e+00</td>\n",
       "      <td>3.958235e+00</td>\n",
       "      <td>2.483529e+02</td>\n",
       "    </tr>\n",
       "    <tr>\n",
       "      <th>std</th>\n",
       "      <td>1.884649e+01</td>\n",
       "      <td>3.910042e+00</td>\n",
       "      <td>1.395010e+01</td>\n",
       "      <td>2.895357e+00</td>\n",
       "      <td>5.634226e+00</td>\n",
       "      <td>6.861945e+00</td>\n",
       "      <td>8.525288e+02</td>\n",
       "    </tr>\n",
       "    <tr>\n",
       "      <th>min</th>\n",
       "      <td>0.000000e+00</td>\n",
       "      <td>0.000000e+00</td>\n",
       "      <td>0.000000e+00</td>\n",
       "      <td>0.000000e+00</td>\n",
       "      <td>0.000000e+00</td>\n",
       "      <td>0.000000e+00</td>\n",
       "      <td>0.000000e+00</td>\n",
       "    </tr>\n",
       "    <tr>\n",
       "      <th>25%</th>\n",
       "      <td>1.180963e+02</td>\n",
       "      <td>2.447402e+01</td>\n",
       "      <td>1.180959e+02</td>\n",
       "      <td>2.447473e+01</td>\n",
       "      <td>2.700000e+00</td>\n",
       "      <td>6.000000e-01</td>\n",
       "      <td>9.400000e+01</td>\n",
       "    </tr>\n",
       "    <tr>\n",
       "      <th>50%</th>\n",
       "      <td>1.181165e+02</td>\n",
       "      <td>2.448992e+01</td>\n",
       "      <td>1.181167e+02</td>\n",
       "      <td>2.449146e+01</td>\n",
       "      <td>4.500000e+00</td>\n",
       "      <td>2.000000e+00</td>\n",
       "      <td>1.760000e+02</td>\n",
       "    </tr>\n",
       "    <tr>\n",
       "      <th>75%</th>\n",
       "      <td>1.181395e+02</td>\n",
       "      <td>2.450981e+01</td>\n",
       "      <td>1.181421e+02</td>\n",
       "      <td>2.451205e+01</td>\n",
       "      <td>7.400000e+00</td>\n",
       "      <td>4.700000e+00</td>\n",
       "      <td>2.900000e+02</td>\n",
       "    </tr>\n",
       "    <tr>\n",
       "      <th>max</th>\n",
       "      <td>1.538398e+02</td>\n",
       "      <td>6.299373e+01</td>\n",
       "      <td>1.790345e+02</td>\n",
       "      <td>6.299373e+01</td>\n",
       "      <td>2.051200e+03</td>\n",
       "      <td>9.628000e+02</td>\n",
       "      <td>2.510390e+05</td>\n",
       "    </tr>\n",
       "  </tbody>\n",
       "</table>\n",
       "</div>"
      ],
      "text/plain": [
       "       GETON_LONGITUDE  GETON_LATITUDE  GETOFF_LONGITUDE  GETOFF_LATITUDE  \\\n",
       "count     2.060795e+06    2.060795e+06      2.060795e+06     2.060795e+06   \n",
       "mean      1.150318e+02    2.385675e+01      1.164483e+02     2.415242e+01   \n",
       "std       1.884649e+01    3.910042e+00      1.395010e+01     2.895357e+00   \n",
       "min       0.000000e+00    0.000000e+00      0.000000e+00     0.000000e+00   \n",
       "25%       1.180963e+02    2.447402e+01      1.180959e+02     2.447473e+01   \n",
       "50%       1.181165e+02    2.448992e+01      1.181167e+02     2.449146e+01   \n",
       "75%       1.181395e+02    2.450981e+01      1.181421e+02     2.451205e+01   \n",
       "max       1.538398e+02    6.299373e+01      1.790345e+02     6.299373e+01   \n",
       "\n",
       "          PASS_MILE   NOPASS_MILE  WAITING_TIME  \n",
       "count  2.060795e+06  2.060795e+06  2.060795e+06  \n",
       "mean   5.944242e+00  3.958235e+00  2.483529e+02  \n",
       "std    5.634226e+00  6.861945e+00  8.525288e+02  \n",
       "min    0.000000e+00  0.000000e+00  0.000000e+00  \n",
       "25%    2.700000e+00  6.000000e-01  9.400000e+01  \n",
       "50%    4.500000e+00  2.000000e+00  1.760000e+02  \n",
       "75%    7.400000e+00  4.700000e+00  2.900000e+02  \n",
       "max    2.051200e+03  9.628000e+02  2.510390e+05  "
      ]
     },
     "execution_count": 7,
     "metadata": {},
     "output_type": "execute_result"
    }
   ],
   "source": [
    "data.describe()"
   ]
  },
  {
   "cell_type": "markdown",
   "metadata": {},
   "source": [
    "1、清除经纬度都是0的数据\n",
    "2、计程公里平均为4，剔除大于100公里的数据\n",
    "3、剔除等待计时时间大于24*60\n",
    "4、剔除经纬度不属于24°23'～24°54'、东经117°53'～118°26这个范围的数据"
   ]
  },
  {
   "cell_type": "code",
   "execution_count": 8,
   "metadata": {},
   "outputs": [
    {
     "data": {
      "text/plain": [
       "(0.38333333333333336, 0.9, 0.8833333333333333, 0.43333333333333335)"
      ]
     },
     "execution_count": 8,
     "metadata": {},
     "output_type": "execute_result"
    }
   ],
   "source": [
    "23/60,54/60,53/60,26/60"
   ]
  },
  {
   "cell_type": "code",
   "execution_count": 9,
   "metadata": {},
   "outputs": [],
   "source": [
    "# data.rename(columns={'CAR_NO':'','CAR_NO':'CARNO','CAR_NO':'CARNO',})"
   ]
  },
  {
   "cell_type": "markdown",
   "metadata": {},
   "source": [
    "清除上车地点不在厦门市的数据，同时也保证了经纬度不为0"
   ]
  },
  {
   "cell_type": "code",
   "execution_count": 10,
   "metadata": {},
   "outputs": [],
   "source": [
    "data_1 = data[['CAR_NO','GETON_DATE','GETON_LONGITUDE','GETON_LATITUDE','GETOFF_DATE','GETOFF_LONGITUDE','GETOFF_LATITUDE','PASS_MILE','NOPASS_MILE','WAITING_TIME']][(data['GETON_LATITUDE'].between(24.38,24.9,inclusive=True))&(data['GETON_LONGITUDE'].between(117.88,118.44,inclusive=True))]"
   ]
  },
  {
   "cell_type": "markdown",
   "metadata": {},
   "source": [
    "取计程公里为(0,30)"
   ]
  },
  {
   "cell_type": "code",
   "execution_count": 11,
   "metadata": {},
   "outputs": [],
   "source": [
    "data_2 = data_1[['CAR_NO','GETON_DATE','GETON_LONGITUDE','GETON_LATITUDE','GETOFF_DATE','GETOFF_LONGITUDE','GETOFF_LATITUDE','PASS_MILE','NOPASS_MILE','WAITING_TIME']][(data_1['PASS_MILE'].between(0.00000001,30,inclusive=True))]"
   ]
  },
  {
   "cell_type": "code",
   "execution_count": 12,
   "metadata": {},
   "outputs": [
    {
     "data": {
      "text/html": [
       "<div>\n",
       "<style scoped>\n",
       "    .dataframe tbody tr th:only-of-type {\n",
       "        vertical-align: middle;\n",
       "    }\n",
       "\n",
       "    .dataframe tbody tr th {\n",
       "        vertical-align: top;\n",
       "    }\n",
       "\n",
       "    .dataframe thead th {\n",
       "        text-align: right;\n",
       "    }\n",
       "</style>\n",
       "<table border=\"1\" class=\"dataframe\">\n",
       "  <thead>\n",
       "    <tr style=\"text-align: right;\">\n",
       "      <th></th>\n",
       "      <th>GETON_LONGITUDE</th>\n",
       "      <th>GETON_LATITUDE</th>\n",
       "      <th>GETOFF_LONGITUDE</th>\n",
       "      <th>GETOFF_LATITUDE</th>\n",
       "      <th>PASS_MILE</th>\n",
       "      <th>NOPASS_MILE</th>\n",
       "      <th>WAITING_TIME</th>\n",
       "    </tr>\n",
       "  </thead>\n",
       "  <tbody>\n",
       "    <tr>\n",
       "      <th>count</th>\n",
       "      <td>1.993700e+06</td>\n",
       "      <td>1.993700e+06</td>\n",
       "      <td>1.993700e+06</td>\n",
       "      <td>1.993700e+06</td>\n",
       "      <td>1.993700e+06</td>\n",
       "      <td>1.993700e+06</td>\n",
       "      <td>1.993700e+06</td>\n",
       "    </tr>\n",
       "    <tr>\n",
       "      <th>mean</th>\n",
       "      <td>1.181189e+02</td>\n",
       "      <td>2.449649e+01</td>\n",
       "      <td>1.178224e+02</td>\n",
       "      <td>2.443662e+01</td>\n",
       "      <td>5.771717e+00</td>\n",
       "      <td>3.912054e+00</td>\n",
       "      <td>2.305088e+02</td>\n",
       "    </tr>\n",
       "    <tr>\n",
       "      <th>std</th>\n",
       "      <td>3.387839e-02</td>\n",
       "      <td>3.550434e-02</td>\n",
       "      <td>5.909477e+00</td>\n",
       "      <td>1.226837e+00</td>\n",
       "      <td>4.520720e+00</td>\n",
       "      <td>6.719960e+00</td>\n",
       "      <td>3.820537e+02</td>\n",
       "    </tr>\n",
       "    <tr>\n",
       "      <th>min</th>\n",
       "      <td>1.178816e+02</td>\n",
       "      <td>2.438026e+01</td>\n",
       "      <td>0.000000e+00</td>\n",
       "      <td>0.000000e+00</td>\n",
       "      <td>1.000000e-01</td>\n",
       "      <td>0.000000e+00</td>\n",
       "      <td>0.000000e+00</td>\n",
       "    </tr>\n",
       "    <tr>\n",
       "      <th>25%</th>\n",
       "      <td>1.180990e+02</td>\n",
       "      <td>2.447537e+01</td>\n",
       "      <td>1.180973e+02</td>\n",
       "      <td>2.447546e+01</td>\n",
       "      <td>2.700000e+00</td>\n",
       "      <td>6.000000e-01</td>\n",
       "      <td>9.300000e+01</td>\n",
       "    </tr>\n",
       "    <tr>\n",
       "      <th>50%</th>\n",
       "      <td>1.181173e+02</td>\n",
       "      <td>2.449080e+01</td>\n",
       "      <td>1.181171e+02</td>\n",
       "      <td>2.449178e+01</td>\n",
       "      <td>4.500000e+00</td>\n",
       "      <td>2.000000e+00</td>\n",
       "      <td>1.750000e+02</td>\n",
       "    </tr>\n",
       "    <tr>\n",
       "      <th>75%</th>\n",
       "      <td>1.181406e+02</td>\n",
       "      <td>2.451035e+01</td>\n",
       "      <td>1.181424e+02</td>\n",
       "      <td>2.451207e+01</td>\n",
       "      <td>7.300000e+00</td>\n",
       "      <td>4.700000e+00</td>\n",
       "      <td>2.880000e+02</td>\n",
       "    </tr>\n",
       "    <tr>\n",
       "      <th>max</th>\n",
       "      <td>1.184345e+02</td>\n",
       "      <td>2.488789e+01</td>\n",
       "      <td>1.790345e+02</td>\n",
       "      <td>4.604790e+01</td>\n",
       "      <td>3.000000e+01</td>\n",
       "      <td>9.628000e+02</td>\n",
       "      <td>6.129500e+04</td>\n",
       "    </tr>\n",
       "  </tbody>\n",
       "</table>\n",
       "</div>"
      ],
      "text/plain": [
       "       GETON_LONGITUDE  GETON_LATITUDE  GETOFF_LONGITUDE  GETOFF_LATITUDE  \\\n",
       "count     1.993700e+06    1.993700e+06      1.993700e+06     1.993700e+06   \n",
       "mean      1.181189e+02    2.449649e+01      1.178224e+02     2.443662e+01   \n",
       "std       3.387839e-02    3.550434e-02      5.909477e+00     1.226837e+00   \n",
       "min       1.178816e+02    2.438026e+01      0.000000e+00     0.000000e+00   \n",
       "25%       1.180990e+02    2.447537e+01      1.180973e+02     2.447546e+01   \n",
       "50%       1.181173e+02    2.449080e+01      1.181171e+02     2.449178e+01   \n",
       "75%       1.181406e+02    2.451035e+01      1.181424e+02     2.451207e+01   \n",
       "max       1.184345e+02    2.488789e+01      1.790345e+02     4.604790e+01   \n",
       "\n",
       "          PASS_MILE   NOPASS_MILE  WAITING_TIME  \n",
       "count  1.993700e+06  1.993700e+06  1.993700e+06  \n",
       "mean   5.771717e+00  3.912054e+00  2.305088e+02  \n",
       "std    4.520720e+00  6.719960e+00  3.820537e+02  \n",
       "min    1.000000e-01  0.000000e+00  0.000000e+00  \n",
       "25%    2.700000e+00  6.000000e-01  9.300000e+01  \n",
       "50%    4.500000e+00  2.000000e+00  1.750000e+02  \n",
       "75%    7.300000e+00  4.700000e+00  2.880000e+02  \n",
       "max    3.000000e+01  9.628000e+02  6.129500e+04  "
      ]
     },
     "execution_count": 12,
     "metadata": {},
     "output_type": "execute_result"
    }
   ],
   "source": [
    "data_2.describe()"
   ]
  },
  {
   "cell_type": "markdown",
   "metadata": {},
   "source": [
    "剔除等待计时时间大于24*60*60"
   ]
  },
  {
   "cell_type": "code",
   "execution_count": 13,
   "metadata": {},
   "outputs": [],
   "source": [
    "data_3 = data_2[['CAR_NO','GETON_DATE','GETON_LONGITUDE','GETON_LATITUDE','GETOFF_DATE','GETOFF_LONGITUDE','GETOFF_LATITUDE','PASS_MILE','NOPASS_MILE','WAITING_TIME']][(data_2['WAITING_TIME']>0)&(data_2['WAITING_TIME']<24*60*60)]"
   ]
  },
  {
   "cell_type": "code",
   "execution_count": 14,
   "metadata": {},
   "outputs": [
    {
     "data": {
      "text/plain": [
       "(1949025, 10)"
      ]
     },
     "execution_count": 14,
     "metadata": {},
     "output_type": "execute_result"
    }
   ],
   "source": [
    "data_3.shape"
   ]
  },
  {
   "cell_type": "code",
   "execution_count": 15,
   "metadata": {},
   "outputs": [],
   "source": [
    "taxiorder = data_3"
   ]
  },
  {
   "cell_type": "markdown",
   "metadata": {},
   "source": [
    "处理上车点时间数据"
   ]
  },
  {
   "cell_type": "code",
   "execution_count": 16,
   "metadata": {},
   "outputs": [],
   "source": [
    "#处理时间特征\n",
    "taxiorder['GETON_DATE'] = pd.to_datetime(taxiorder['GETON_DATE'],format='%Y-%m-%d %H:%M:%S')\n",
    "taxiorder[\"geton_hour\"]=taxiorder['GETON_DATE'].dt.hour\n",
    "\n",
    "taxiorder[\"geton_day\"]=taxiorder[\"GETON_DATE\"].dt.day"
   ]
  },
  {
   "cell_type": "code",
   "execution_count": 17,
   "metadata": {},
   "outputs": [
    {
     "data": {
      "text/plain": [
       "<matplotlib.axes._subplots.AxesSubplot at 0xb7f09d0>"
      ]
     },
     "execution_count": 17,
     "metadata": {},
     "output_type": "execute_result"
    },
    {
     "data": {
      "image/png": "[encoded data removed]",
      "text/plain": [
       "<Figure size 432x288 with 1 Axes>"
      ]
     },
     "metadata": {
      "needs_background": "light"
     },
     "output_type": "display_data"
    }
   ],
   "source": [
    "#计算订单数量随时间变化\n",
    "taxiorder.groupby(['geton_hour'])['CAR_NO'].size().plot.bar()"
   ]
  },
  {
   "cell_type": "markdown",
   "metadata": {},
   "source": [
    "20 21 27 为非工作日工作,无节假日"
   ]
  },
  {
   "cell_type": "code",
   "execution_count": null,
   "metadata": {},
   "outputs": [],
   "source": [
    "# data_work = data = pd.concat([\n",
    "#     pd.read_csv(INPUT_PATH + 'taxiOrder20200618.csv'),\n",
    "#     pd.read_csv(INPUT_PATH + 'taxiOrder20200619.csv' ),\n",
    "    \n",
    " \n",
    "#     pd.read_csv(INPUT_PATH + 'taxiOrder20200622.csv'),\n",
    "#     pd.read_csv(INPUT_PATH + 'taxiOrder20200623.csv'),\n",
    "#     pd.read_csv(INPUT_PATH + 'taxiOrder20200624.csv'),\n",
    "#     pd.read_csv(INPUT_PATH + 'taxiOrder20200625.csv'),\n",
    "#     pd.read_csv(INPUT_PATH + 'taxiOrder20200626.csv'),\n",
    "\n",
    "                                                \n",
    "# ])"
   ]
  },
  {
   "cell_type": "code",
   "execution_count": 20,
   "metadata": {},
   "outputs": [
    {
     "data": {
      "text/plain": [
       "array(['2020/6/18 17:51', '2020/6/18 19:11', '2020/6/18 4:06', ...,\n",
       "       '2020-06-28 00:45:00', '2020-06-28 00:26:00',\n",
       "       '2020-06-28 00:30:00'], dtype=object)"
      ]
     },
     "execution_count": 20,
     "metadata": {},
     "output_type": "execute_result"
    }
   ],
   "source": [
    "taxiorder['GETOFF_DATE'].unique()"
   ]
  },
  {
   "cell_type": "code",
   "execution_count": 23,
   "metadata": {},
   "outputs": [],
   "source": [
    "taxiorder[\"geton_weekday\"]=taxiorder[\"GETON_DATE\"].dt.weekday"
   ]
  },
  {
   "cell_type": "code",
   "execution_count": 24,
   "metadata": {},
   "outputs": [
    {
     "data": {
      "text/plain": [
       "<matplotlib.axes._subplots.AxesSubplot at 0xbae2e50>"
      ]
     },
     "execution_count": 24,
     "metadata": {},
     "output_type": "execute_result"
    },
    {
     "data": {
      "image/png": "[encoded data removed]",
      "text/plain": [
       "<Figure size 432x288 with 1 Axes>"
      ]
     },
     "metadata": {
      "needs_background": "light"
     },
     "output_type": "display_data"
    }
   ],
   "source": [
    "taxiorder.groupby(['geton_weekday'])['CAR_NO'].size().plot.bar()"
   ]
  },
  {
   "cell_type": "markdown",
   "metadata": {},
   "source": [
    "路网数据"
   ]
  },
  {
   "cell_type": "code",
   "execution_count": null,
   "metadata": {},
   "outputs": [],
   "source": [
    "import shapely, geopandas, fiona\n",
    "import seaborn as sns\n",
    "%pylab inline\n",
    "shp_df = geopandas.GeoDataFrame.from_file(\"D://数字中国创新大赛/AI大赛路网修改版/xm_road_edit20200826.shp\")\n",
    "shp_df.plot()"
   ]
  },
  {
   "cell_type": "markdown",
   "metadata": {},
   "source": [
    "热力图"
   ]
  },
  {
   "cell_type": "code",
   "execution_count": null,
   "metadata": {},
   "outputs": [],
   "source": [
    "from folium import plugins\n",
    "from folium.plugins import HeatMap\n",
    "\n",
    "map_hooray = folium.Map(location=[24.482426, 118.157606], zoom_start=14)\n",
    "\n",
    "# Plot it on the map\n",
    "HeatMap(taxi[taxiorder['GETON_LATITUDE', 'GETON_LONGITUDE']].iloc[:2000].values).add_to(map_hooray)\n",
    "\n",
    "# Display the map\n",
    "map_hooray"
   ]
  }
 ],
 "metadata": {
  "kernelspec": {
   "display_name": "Python 3",
   "language": "python",
   "name": "python3"
  },
  "language_info": {
   "codemirror_mode": {
    "name": "ipython",
    "version": 3
   },
   "file_extension": ".py",
   "mimetype": "text/x-python",
   "name": "python",
   "nbconvert_exporter": "python",
   "pygments_lexer": "ipython3",
   "version": "3.7.0"
  }
 },
 "nbformat": 4,
 "nbformat_minor": 2
}
