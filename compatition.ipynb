{
 "cells": [
  {
   "cell_type": "markdown",
   "metadata": {},
   "source": [
    "\n"
   ]
  },
  {
   "cell_type": "markdown",
   "metadata": {},
   "source": [
    "##  厦门市\n",
    "- 厦门市有6个市辖区，26个街道、12个镇， 361个社区、147个村。\n",
    "- 思明区、湖里区、集美区、海沧区、同安区、翔安区\n",
    "- 厦门市位于北纬24°23'～24°54'、东经117°53'～118°26'，在中国东南沿海，福建省南部，与漳州、泉州相连，地处闽南金三角中部。厦门市由厦门半岛、鼓浪屿及其众多小岛屿、岛礁和同安、集美、海沧、翔安、杏林湾、马銮湾、同安湾等组成，陆地面积1699.39平方千米，海域面积约390多平方千米。其中厦门岛面积约为157.76平方千米（含鼓浪屿），是福建省的第四大岛屿，全岛海岸线约为234千米。"
   ]
  },
  {
   "cell_type": "code",
   "execution_count": 1,
   "metadata": {},
   "outputs": [],
   "source": [
    "import numpy as np\n",
    "import pandas as pd\n",
    "import matplotlib.pyplot as plt\n",
    "from scipy import sparse\n",
    "from datetime import datetime"
   ]
  },
  {
   "cell_type": "markdown",
   "metadata": {},
   "source": [
    "巡游车订单数据"
   ]
  },
  {
   "cell_type": "code",
   "execution_count": 2,
   "metadata": {},
   "outputs": [],
   "source": [
    "INPUT_PATH = r'D:\\\\数字中国创新大赛\\\\2020\\\\'"
   ]
  },
  {
   "cell_type": "code",
   "execution_count": 3,
   "metadata": {},
   "outputs": [],
   "source": [
    "data = pd.concat([\n",
    "    pd.read_csv(INPUT_PATH + 'taxiOrder20200618.csv'),\n",
    "    pd.read_csv(INPUT_PATH + 'taxiOrder20200619.csv' ),\n",
    "    pd.read_csv(INPUT_PATH + 'taxiOrder20200620.csv' ),\n",
    "    pd.read_csv(INPUT_PATH + 'taxiOrder20200621.csv'),\n",
    "    pd.read_csv(INPUT_PATH + 'taxiOrder20200622.csv'),\n",
    "    pd.read_csv(INPUT_PATH + 'taxiOrder20200623.csv'),\n",
    "    pd.read_csv(INPUT_PATH + 'taxiOrder20200624.csv'),\n",
    "    pd.read_csv(INPUT_PATH + 'taxiOrder20200625.csv'),\n",
    "    pd.read_csv(INPUT_PATH + 'taxiOrder20200626.csv'),\n",
    "    pd.read_csv(INPUT_PATH + 'taxiOrder20200627.csv')\n",
    "                                                \n",
    "])"
   ]
  },
  {
   "cell_type": "code",
   "execution_count": 4,
   "metadata": {},
   "outputs": [
    {
     "data": {
      "text/plain": [
       "(2060795, 10)"
      ]
     },
     "execution_count": 4,
     "metadata": {},
     "output_type": "execute_result"
    }
   ],
   "source": [
    "data.shape"
   ]
  },
  {
   "cell_type": "markdown",
   "metadata": {},
   "source": [
    "## 订单数据\n",
    "- CAR_NO：车牌号\n",
    "- GETON_DATE：上车时间\n",
    "- GETON_LONGITUDE：上车经度（WGS84 GPS标准）、 GETON_LATITUDE：上车纬度（WGS84 GPS标准）、\n",
    "- GETOFF_DATE：下车时间\n",
    "- GETOFF_LONGITUDE：下车经度（WGS84 GPS标准）、 GETOFF_LATITUDE：下车纬度（WGS84 GPS标准）\n",
    "- PASS_MILE：计程公里\n",
    "- NOPASS_MILE：空驶公里\n",
    "- WAITING_TIME：等待计时时间\n"
   ]
  },
  {
   "cell_type": "code",
   "execution_count": null,
   "metadata": {},
   "outputs": [],
   "source": []
  },
  {
   "cell_type": "code",
   "execution_count": 5,
   "metadata": {},
   "outputs": [
    {
     "data": {
      "text/html": [
       "<div>\n",
       "<style scoped>\n",
       "    .dataframe tbody tr th:only-of-type {\n",
       "        vertical-align: middle;\n",
       "    }\n",
       "\n",
       "    .dataframe tbody tr th {\n",
       "        vertical-align: top;\n",
       "    }\n",
       "\n",
       "    .dataframe thead th {\n",
       "        text-align: right;\n",
       "    }\n",
       "</style>\n",
       "<table border=\"1\" class=\"dataframe\">\n",
       "  <thead>\n",
       "    <tr style=\"text-align: right;\">\n",
       "      <th></th>\n",
       "      <th>CAR_NO</th>\n",
       "      <th>GETON_DATE</th>\n",
       "      <th>GETON_LONGITUDE</th>\n",
       "      <th>GETON_LATITUDE</th>\n",
       "      <th>GETOFF_DATE</th>\n",
       "      <th>GETOFF_LONGITUDE</th>\n",
       "      <th>GETOFF_LATITUDE</th>\n",
       "      <th>PASS_MILE</th>\n",
       "      <th>NOPASS_MILE</th>\n",
       "      <th>WAITING_TIME</th>\n",
       "    </tr>\n",
       "  </thead>\n",
       "  <tbody>\n",
       "    <tr>\n",
       "      <th>0</th>\n",
       "      <td>0006d282be70d06881a7513b69fcaa60</td>\n",
       "      <td>2020/6/18 17:38</td>\n",
       "      <td>118.155098</td>\n",
       "      <td>24.506093</td>\n",
       "      <td>2020/6/18 17:51</td>\n",
       "      <td>118.135925</td>\n",
       "      <td>24.497720</td>\n",
       "      <td>2.6</td>\n",
       "      <td>10.8</td>\n",
       "      <td>498.0</td>\n",
       "    </tr>\n",
       "    <tr>\n",
       "      <th>1</th>\n",
       "      <td>0006d282be70d06881a7513b69fcaa60</td>\n",
       "      <td>2020/6/18 19:06</td>\n",
       "      <td>118.136500</td>\n",
       "      <td>24.517291</td>\n",
       "      <td>2020/6/18 19:11</td>\n",
       "      <td>118.139381</td>\n",
       "      <td>24.530025</td>\n",
       "      <td>2.3</td>\n",
       "      <td>0.3</td>\n",
       "      <td>54.0</td>\n",
       "    </tr>\n",
       "    <tr>\n",
       "      <th>2</th>\n",
       "      <td>0006d282be70d06881a7513b69fcaa60</td>\n",
       "      <td>2020/6/18 3:59</td>\n",
       "      <td>118.119495</td>\n",
       "      <td>24.479730</td>\n",
       "      <td>2020/6/18 4:06</td>\n",
       "      <td>118.116335</td>\n",
       "      <td>24.508518</td>\n",
       "      <td>3.9</td>\n",
       "      <td>0.2</td>\n",
       "      <td>83.0</td>\n",
       "    </tr>\n",
       "    <tr>\n",
       "      <th>3</th>\n",
       "      <td>0006d282be70d06881a7513b69fcaa60</td>\n",
       "      <td>2020/6/18 20:44</td>\n",
       "      <td>118.113631</td>\n",
       "      <td>24.478733</td>\n",
       "      <td>2020/6/18 20:53</td>\n",
       "      <td>118.140945</td>\n",
       "      <td>24.477328</td>\n",
       "      <td>3.0</td>\n",
       "      <td>3.8</td>\n",
       "      <td>250.0</td>\n",
       "    </tr>\n",
       "    <tr>\n",
       "      <th>4</th>\n",
       "      <td>0006d282be70d06881a7513b69fcaa60</td>\n",
       "      <td>2020/6/18 19:12</td>\n",
       "      <td>118.138891</td>\n",
       "      <td>24.530666</td>\n",
       "      <td>2020/6/18 19:19</td>\n",
       "      <td>118.144028</td>\n",
       "      <td>24.547116</td>\n",
       "      <td>3.3</td>\n",
       "      <td>0.1</td>\n",
       "      <td>73.0</td>\n",
       "    </tr>\n",
       "    <tr>\n",
       "      <th>5</th>\n",
       "      <td>0006d282be70d06881a7513b69fcaa60</td>\n",
       "      <td>2020/6/18 19:20</td>\n",
       "      <td>118.143230</td>\n",
       "      <td>24.546591</td>\n",
       "      <td>2020/6/18 19:46</td>\n",
       "      <td>118.119846</td>\n",
       "      <td>24.427598</td>\n",
       "      <td>20.9</td>\n",
       "      <td>0.1</td>\n",
       "      <td>100.0</td>\n",
       "    </tr>\n",
       "    <tr>\n",
       "      <th>6</th>\n",
       "      <td>0006d282be70d06881a7513b69fcaa60</td>\n",
       "      <td>2020/6/18 5:33</td>\n",
       "      <td>118.123750</td>\n",
       "      <td>24.495565</td>\n",
       "      <td>2020/6/18 5:34</td>\n",
       "      <td>118.125615</td>\n",
       "      <td>24.494621</td>\n",
       "      <td>0.2</td>\n",
       "      <td>0.0</td>\n",
       "      <td>24.0</td>\n",
       "    </tr>\n",
       "    <tr>\n",
       "      <th>7</th>\n",
       "      <td>0006d282be70d06881a7513b69fcaa60</td>\n",
       "      <td>2020/6/18 1:13</td>\n",
       "      <td>118.091305</td>\n",
       "      <td>24.483773</td>\n",
       "      <td>2020/6/18 1:21</td>\n",
       "      <td>118.112166</td>\n",
       "      <td>24.506658</td>\n",
       "      <td>4.2</td>\n",
       "      <td>9.2</td>\n",
       "      <td>119.0</td>\n",
       "    </tr>\n",
       "    <tr>\n",
       "      <th>8</th>\n",
       "      <td>0006d282be70d06881a7513b69fcaa60</td>\n",
       "      <td>2020/6/18 2:11</td>\n",
       "      <td>118.124645</td>\n",
       "      <td>24.509175</td>\n",
       "      <td>2020/6/18 2:28</td>\n",
       "      <td>118.174208</td>\n",
       "      <td>24.464051</td>\n",
       "      <td>9.9</td>\n",
       "      <td>2.8</td>\n",
       "      <td>190.0</td>\n",
       "    </tr>\n",
       "    <tr>\n",
       "      <th>9</th>\n",
       "      <td>0006d282be70d06881a7513b69fcaa60</td>\n",
       "      <td>2020/6/18 22:00</td>\n",
       "      <td>118.115401</td>\n",
       "      <td>24.510981</td>\n",
       "      <td>2020/6/18 22:29</td>\n",
       "      <td>118.047938</td>\n",
       "      <td>24.605175</td>\n",
       "      <td>17.4</td>\n",
       "      <td>1.5</td>\n",
       "      <td>455.0</td>\n",
       "    </tr>\n",
       "  </tbody>\n",
       "</table>\n",
       "</div>"
      ],
      "text/plain": [
       "                             CAR_NO       GETON_DATE  GETON_LONGITUDE  \\\n",
       "0  0006d282be70d06881a7513b69fcaa60  2020/6/18 17:38       118.155098   \n",
       "1  0006d282be70d06881a7513b69fcaa60  2020/6/18 19:06       118.136500   \n",
       "2  0006d282be70d06881a7513b69fcaa60   2020/6/18 3:59       118.119495   \n",
       "3  0006d282be70d06881a7513b69fcaa60  2020/6/18 20:44       118.113631   \n",
       "4  0006d282be70d06881a7513b69fcaa60  2020/6/18 19:12       118.138891   \n",
       "5  0006d282be70d06881a7513b69fcaa60  2020/6/18 19:20       118.143230   \n",
       "6  0006d282be70d06881a7513b69fcaa60   2020/6/18 5:33       118.123750   \n",
       "7  0006d282be70d06881a7513b69fcaa60   2020/6/18 1:13       118.091305   \n",
       "8  0006d282be70d06881a7513b69fcaa60   2020/6/18 2:11       118.124645   \n",
       "9  0006d282be70d06881a7513b69fcaa60  2020/6/18 22:00       118.115401   \n",
       "\n",
       "   GETON_LATITUDE      GETOFF_DATE  GETOFF_LONGITUDE  GETOFF_LATITUDE  \\\n",
       "0       24.506093  2020/6/18 17:51        118.135925        24.497720   \n",
       "1       24.517291  2020/6/18 19:11        118.139381        24.530025   \n",
       "2       24.479730   2020/6/18 4:06        118.116335        24.508518   \n",
       "3       24.478733  2020/6/18 20:53        118.140945        24.477328   \n",
       "4       24.530666  2020/6/18 19:19        118.144028        24.547116   \n",
       "5       24.546591  2020/6/18 19:46        118.119846        24.427598   \n",
       "6       24.495565   2020/6/18 5:34        118.125615        24.494621   \n",
       "7       24.483773   2020/6/18 1:21        118.112166        24.506658   \n",
       "8       24.509175   2020/6/18 2:28        118.174208        24.464051   \n",
       "9       24.510981  2020/6/18 22:29        118.047938        24.605175   \n",
       "\n",
       "   PASS_MILE  NOPASS_MILE  WAITING_TIME  \n",
       "0        2.6         10.8         498.0  \n",
       "1        2.3          0.3          54.0  \n",
       "2        3.9          0.2          83.0  \n",
       "3        3.0          3.8         250.0  \n",
       "4        3.3          0.1          73.0  \n",
       "5       20.9          0.1         100.0  \n",
       "6        0.2          0.0          24.0  \n",
       "7        4.2          9.2         119.0  \n",
       "8        9.9          2.8         190.0  \n",
       "9       17.4          1.5         455.0  "
      ]
     },
     "execution_count": 5,
     "metadata": {},
     "output_type": "execute_result"
    }
   ],
   "source": [
    "data.head(10)"
   ]
  },
  {
   "cell_type": "code",
   "execution_count": 6,
   "metadata": {},
   "outputs": [
    {
     "name": "stdout",
     "output_type": "stream",
     "text": [
      "<class 'pandas.core.frame.DataFrame'>\n",
      "Int64Index: 2060795 entries, 0 to 191477\n",
      "Data columns (total 10 columns):\n",
      " #   Column            Dtype  \n",
      "---  ------            -----  \n",
      " 0   CAR_NO            object \n",
      " 1   GETON_DATE        object \n",
      " 2   GETON_LONGITUDE   float64\n",
      " 3   GETON_LATITUDE    float64\n",
      " 4   GETOFF_DATE       object \n",
      " 5   GETOFF_LONGITUDE  float64\n",
      " 6   GETOFF_LATITUDE   float64\n",
      " 7   PASS_MILE         float64\n",
      " 8   NOPASS_MILE       float64\n",
      " 9   WAITING_TIME      float64\n",
      "dtypes: float64(7), object(3)\n",
      "memory usage: 149.4+ MB\n"
     ]
    }
   ],
   "source": [
    "data.info()"
   ]
  },
  {
   "cell_type": "code",
   "execution_count": 7,
   "metadata": {},
   "outputs": [
    {
     "data": {
      "text/html": [
       "<div>\n",
       "<style scoped>\n",
       "    .dataframe tbody tr th:only-of-type {\n",
       "        vertical-align: middle;\n",
       "    }\n",
       "\n",
       "    .dataframe tbody tr th {\n",
       "        vertical-align: top;\n",
       "    }\n",
       "\n",
       "    .dataframe thead th {\n",
       "        text-align: right;\n",
       "    }\n",
       "</style>\n",
       "<table border=\"1\" class=\"dataframe\">\n",
       "  <thead>\n",
       "    <tr style=\"text-align: right;\">\n",
       "      <th></th>\n",
       "      <th>GETON_LONGITUDE</th>\n",
       "      <th>GETON_LATITUDE</th>\n",
       "      <th>GETOFF_LONGITUDE</th>\n",
       "      <th>GETOFF_LATITUDE</th>\n",
       "      <th>PASS_MILE</th>\n",
       "      <th>NOPASS_MILE</th>\n",
       "      <th>WAITING_TIME</th>\n",
       "    </tr>\n",
       "  </thead>\n",
       "  <tbody>\n",
       "    <tr>\n",
       "      <th>count</th>\n",
       "      <td>2.060795e+06</td>\n",
       "      <td>2.060795e+06</td>\n",
       "      <td>2.060795e+06</td>\n",
       "      <td>2.060795e+06</td>\n",
       "      <td>2.060795e+06</td>\n",
       "      <td>2.060795e+06</td>\n",
       "      <td>2.060795e+06</td>\n",
       "    </tr>\n",
       "    <tr>\n",
       "      <th>mean</th>\n",
       "      <td>1.150318e+02</td>\n",
       "      <td>2.385675e+01</td>\n",
       "      <td>1.164483e+02</td>\n",
       "      <td>2.415242e+01</td>\n",
       "      <td>5.944242e+00</td>\n",
       "      <td>3.958235e+00</td>\n",
       "      <td>2.483529e+02</td>\n",
       "    </tr>\n",
       "    <tr>\n",
       "      <th>std</th>\n",
       "      <td>1.884649e+01</td>\n",
       "      <td>3.910042e+00</td>\n",
       "      <td>1.395010e+01</td>\n",
       "      <td>2.895357e+00</td>\n",
       "      <td>5.634226e+00</td>\n",
       "      <td>6.861945e+00</td>\n",
       "      <td>8.525288e+02</td>\n",
       "    </tr>\n",
       "    <tr>\n",
       "      <th>min</th>\n",
       "      <td>0.000000e+00</td>\n",
       "      <td>0.000000e+00</td>\n",
       "      <td>0.000000e+00</td>\n",
       "      <td>0.000000e+00</td>\n",
       "      <td>0.000000e+00</td>\n",
       "      <td>0.000000e+00</td>\n",
       "      <td>0.000000e+00</td>\n",
       "    </tr>\n",
       "    <tr>\n",
       "      <th>25%</th>\n",
       "      <td>1.180963e+02</td>\n",
       "      <td>2.447402e+01</td>\n",
       "      <td>1.180959e+02</td>\n",
       "      <td>2.447473e+01</td>\n",
       "      <td>2.700000e+00</td>\n",
       "      <td>6.000000e-01</td>\n",
       "      <td>9.400000e+01</td>\n",
       "    </tr>\n",
       "    <tr>\n",
       "      <th>50%</th>\n",
       "      <td>1.181165e+02</td>\n",
       "      <td>2.448992e+01</td>\n",
       "      <td>1.181167e+02</td>\n",
       "      <td>2.449146e+01</td>\n",
       "      <td>4.500000e+00</td>\n",
       "      <td>2.000000e+00</td>\n",
       "      <td>1.760000e+02</td>\n",
       "    </tr>\n",
       "    <tr>\n",
       "      <th>75%</th>\n",
       "      <td>1.181395e+02</td>\n",
       "      <td>2.450981e+01</td>\n",
       "      <td>1.181421e+02</td>\n",
       "      <td>2.451205e+01</td>\n",
       "      <td>7.400000e+00</td>\n",
       "      <td>4.700000e+00</td>\n",
       "      <td>2.900000e+02</td>\n",
       "    </tr>\n",
       "    <tr>\n",
       "      <th>max</th>\n",
       "      <td>1.538398e+02</td>\n",
       "      <td>6.299373e+01</td>\n",
       "      <td>1.790345e+02</td>\n",
       "      <td>6.299373e+01</td>\n",
       "      <td>2.051200e+03</td>\n",
       "      <td>9.628000e+02</td>\n",
       "      <td>2.510390e+05</td>\n",
       "    </tr>\n",
       "  </tbody>\n",
       "</table>\n",
       "</div>"
      ],
      "text/plain": [
       "       GETON_LONGITUDE  GETON_LATITUDE  GETOFF_LONGITUDE  GETOFF_LATITUDE  \\\n",
       "count     2.060795e+06    2.060795e+06      2.060795e+06     2.060795e+06   \n",
       "mean      1.150318e+02    2.385675e+01      1.164483e+02     2.415242e+01   \n",
       "std       1.884649e+01    3.910042e+00      1.395010e+01     2.895357e+00   \n",
       "min       0.000000e+00    0.000000e+00      0.000000e+00     0.000000e+00   \n",
       "25%       1.180963e+02    2.447402e+01      1.180959e+02     2.447473e+01   \n",
       "50%       1.181165e+02    2.448992e+01      1.181167e+02     2.449146e+01   \n",
       "75%       1.181395e+02    2.450981e+01      1.181421e+02     2.451205e+01   \n",
       "max       1.538398e+02    6.299373e+01      1.790345e+02     6.299373e+01   \n",
       "\n",
       "          PASS_MILE   NOPASS_MILE  WAITING_TIME  \n",
       "count  2.060795e+06  2.060795e+06  2.060795e+06  \n",
       "mean   5.944242e+00  3.958235e+00  2.483529e+02  \n",
       "std    5.634226e+00  6.861945e+00  8.525288e+02  \n",
       "min    0.000000e+00  0.000000e+00  0.000000e+00  \n",
       "25%    2.700000e+00  6.000000e-01  9.400000e+01  \n",
       "50%    4.500000e+00  2.000000e+00  1.760000e+02  \n",
       "75%    7.400000e+00  4.700000e+00  2.900000e+02  \n",
       "max    2.051200e+03  9.628000e+02  2.510390e+05  "
      ]
     },
     "execution_count": 7,
     "metadata": {},
     "output_type": "execute_result"
    }
   ],
   "source": [
    "data.describe()"
   ]
  },
  {
   "cell_type": "markdown",
   "metadata": {},
   "source": [
    "1、清除经纬度都是0的数据\n",
    "2、计程公里平均为4，剔除大于100公里的数据\n",
    "3、剔除等待计时时间大于24*60\n",
    "4、剔除经纬度不属于24°23'～24°54'、东经117°53'～118°26这个范围的数据"
   ]
  },
  {
   "cell_type": "code",
   "execution_count": 8,
   "metadata": {},
   "outputs": [
    {
     "data": {
      "text/plain": [
       "(0.38333333333333336, 0.9, 0.8833333333333333, 0.43333333333333335)"
      ]
     },
     "execution_count": 8,
     "metadata": {},
     "output_type": "execute_result"
    }
   ],
   "source": [
    "23/60,54/60,53/60,26/60"
   ]
  },
  {
   "cell_type": "code",
   "execution_count": 9,
   "metadata": {},
   "outputs": [],
   "source": [
    "# data.rename(columns={'CAR_NO':'','CAR_NO':'CARNO','CAR_NO':'CARNO',})"
   ]
  },
  {
   "cell_type": "markdown",
   "metadata": {},
   "source": [
    "清除上车地点不在厦门市的数据，同时也保证了经纬度不为0"
   ]
  },
  {
   "cell_type": "code",
   "execution_count": 10,
   "metadata": {},
   "outputs": [],
   "source": [
    "data_1 = data[['CAR_NO','GETON_DATE','GETON_LONGITUDE','GETON_LATITUDE','GETOFF_DATE','GETOFF_LONGITUDE','GETOFF_LATITUDE','PASS_MILE','NOPASS_MILE','WAITING_TIME']][(data['GETON_LATITUDE'].between(24.38,24.9,inclusive=True))&(data['GETON_LONGITUDE'].between(117.88,118.44,inclusive=True))]"
   ]
  },
  {
   "cell_type": "markdown",
   "metadata": {},
   "source": [
    "取计程公里为(0,30)"
   ]
  },
  {
   "cell_type": "code",
   "execution_count": 11,
   "metadata": {},
   "outputs": [],
   "source": [
    "data_2 = data_1[['CAR_NO','GETON_DATE','GETON_LONGITUDE','GETON_LATITUDE','GETOFF_DATE','GETOFF_LONGITUDE','GETOFF_LATITUDE','PASS_MILE','NOPASS_MILE','WAITING_TIME']][(data_1['PASS_MILE'].between(0.00000001,30,inclusive=True))]"
   ]
  },
  {
   "cell_type": "code",
   "execution_count": 12,
   "metadata": {},
   "outputs": [
    {
     "data": {
      "text/html": [
       "<div>\n",
       "<style scoped>\n",
       "    .dataframe tbody tr th:only-of-type {\n",
       "        vertical-align: middle;\n",
       "    }\n",
       "\n",
       "    .dataframe tbody tr th {\n",
       "        vertical-align: top;\n",
       "    }\n",
       "\n",
       "    .dataframe thead th {\n",
       "        text-align: right;\n",
       "    }\n",
       "</style>\n",
       "<table border=\"1\" class=\"dataframe\">\n",
       "  <thead>\n",
       "    <tr style=\"text-align: right;\">\n",
       "      <th></th>\n",
       "      <th>GETON_LONGITUDE</th>\n",
       "      <th>GETON_LATITUDE</th>\n",
       "      <th>GETOFF_LONGITUDE</th>\n",
       "      <th>GETOFF_LATITUDE</th>\n",
       "      <th>PASS_MILE</th>\n",
       "      <th>NOPASS_MILE</th>\n",
       "      <th>WAITING_TIME</th>\n",
       "    </tr>\n",
       "  </thead>\n",
       "  <tbody>\n",
       "    <tr>\n",
       "      <th>count</th>\n",
       "      <td>1.993700e+06</td>\n",
       "      <td>1.993700e+06</td>\n",
       "      <td>1.993700e+06</td>\n",
       "      <td>1.993700e+06</td>\n",
       "      <td>1.993700e+06</td>\n",
       "      <td>1.993700e+06</td>\n",
       "      <td>1.993700e+06</td>\n",
       "    </tr>\n",
       "    <tr>\n",
       "      <th>mean</th>\n",
       "      <td>1.181189e+02</td>\n",
       "      <td>2.449649e+01</td>\n",
       "      <td>1.178224e+02</td>\n",
       "      <td>2.443662e+01</td>\n",
       "      <td>5.771717e+00</td>\n",
       "      <td>3.912054e+00</td>\n",
       "      <td>2.305088e+02</td>\n",
       "    </tr>\n",
       "    <tr>\n",
       "      <th>std</th>\n",
       "      <td>3.387839e-02</td>\n",
       "      <td>3.550434e-02</td>\n",
       "      <td>5.909477e+00</td>\n",
       "      <td>1.226837e+00</td>\n",
       "      <td>4.520720e+00</td>\n",
       "      <td>6.719960e+00</td>\n",
       "      <td>3.820537e+02</td>\n",
       "    </tr>\n",
       "    <tr>\n",
       "      <th>min</th>\n",
       "      <td>1.178816e+02</td>\n",
       "      <td>2.438026e+01</td>\n",
       "      <td>0.000000e+00</td>\n",
       "      <td>0.000000e+00</td>\n",
       "      <td>1.000000e-01</td>\n",
       "      <td>0.000000e+00</td>\n",
       "      <td>0.000000e+00</td>\n",
       "    </tr>\n",
       "    <tr>\n",
       "      <th>25%</th>\n",
       "      <td>1.180990e+02</td>\n",
       "      <td>2.447537e+01</td>\n",
       "      <td>1.180973e+02</td>\n",
       "      <td>2.447546e+01</td>\n",
       "      <td>2.700000e+00</td>\n",
       "      <td>6.000000e-01</td>\n",
       "      <td>9.300000e+01</td>\n",
       "    </tr>\n",
       "    <tr>\n",
       "      <th>50%</th>\n",
       "      <td>1.181173e+02</td>\n",
       "      <td>2.449080e+01</td>\n",
       "      <td>1.181171e+02</td>\n",
       "      <td>2.449178e+01</td>\n",
       "      <td>4.500000e+00</td>\n",
       "      <td>2.000000e+00</td>\n",
       "      <td>1.750000e+02</td>\n",
       "    </tr>\n",
       "    <tr>\n",
       "      <th>75%</th>\n",
       "      <td>1.181406e+02</td>\n",
       "      <td>2.451035e+01</td>\n",
       "      <td>1.181424e+02</td>\n",
       "      <td>2.451207e+01</td>\n",
       "      <td>7.300000e+00</td>\n",
       "      <td>4.700000e+00</td>\n",
       "      <td>2.880000e+02</td>\n",
       "    </tr>\n",
       "    <tr>\n",
       "      <th>max</th>\n",
       "      <td>1.184345e+02</td>\n",
       "      <td>2.488789e+01</td>\n",
       "      <td>1.790345e+02</td>\n",
       "      <td>4.604790e+01</td>\n",
       "      <td>3.000000e+01</td>\n",
       "      <td>9.628000e+02</td>\n",
       "      <td>6.129500e+04</td>\n",
       "    </tr>\n",
       "  </tbody>\n",
       "</table>\n",
       "</div>"
      ],
      "text/plain": [
       "       GETON_LONGITUDE  GETON_LATITUDE  GETOFF_LONGITUDE  GETOFF_LATITUDE  \\\n",
       "count     1.993700e+06    1.993700e+06      1.993700e+06     1.993700e+06   \n",
       "mean      1.181189e+02    2.449649e+01      1.178224e+02     2.443662e+01   \n",
       "std       3.387839e-02    3.550434e-02      5.909477e+00     1.226837e+00   \n",
       "min       1.178816e+02    2.438026e+01      0.000000e+00     0.000000e+00   \n",
       "25%       1.180990e+02    2.447537e+01      1.180973e+02     2.447546e+01   \n",
       "50%       1.181173e+02    2.449080e+01      1.181171e+02     2.449178e+01   \n",
       "75%       1.181406e+02    2.451035e+01      1.181424e+02     2.451207e+01   \n",
       "max       1.184345e+02    2.488789e+01      1.790345e+02     4.604790e+01   \n",
       "\n",
       "          PASS_MILE   NOPASS_MILE  WAITING_TIME  \n",
       "count  1.993700e+06  1.993700e+06  1.993700e+06  \n",
       "mean   5.771717e+00  3.912054e+00  2.305088e+02  \n",
       "std    4.520720e+00  6.719960e+00  3.820537e+02  \n",
       "min    1.000000e-01  0.000000e+00  0.000000e+00  \n",
       "25%    2.700000e+00  6.000000e-01  9.300000e+01  \n",
       "50%    4.500000e+00  2.000000e+00  1.750000e+02  \n",
       "75%    7.300000e+00  4.700000e+00  2.880000e+02  \n",
       "max    3.000000e+01  9.628000e+02  6.129500e+04  "
      ]
     },
     "execution_count": 12,
     "metadata": {},
     "output_type": "execute_result"
    }
   ],
   "source": [
    "data_2.describe()"
   ]
  },
  {
   "cell_type": "markdown",
   "metadata": {},
   "source": [
    "剔除等待计时时间大于24*60*60"
   ]
  },
  {
   "cell_type": "code",
   "execution_count": 13,
   "metadata": {},
   "outputs": [],
   "source": [
    "data_3 = data_2[['CAR_NO','GETON_DATE','GETON_LONGITUDE','GETON_LATITUDE','GETOFF_DATE','GETOFF_LONGITUDE','GETOFF_LATITUDE','PASS_MILE','NOPASS_MILE','WAITING_TIME']][(data_2['WAITING_TIME']>0)&(data_2['WAITING_TIME']<24*60*60)]"
   ]
  },
  {
   "cell_type": "code",
   "execution_count": 14,
   "metadata": {},
   "outputs": [
    {
     "data": {
      "text/plain": [
       "(1949025, 10)"
      ]
     },
     "execution_count": 14,
     "metadata": {},
     "output_type": "execute_result"
    }
   ],
   "source": [
    "data_3.shape"
   ]
  },
  {
   "cell_type": "code",
   "execution_count": 15,
   "metadata": {},
   "outputs": [],
   "source": [
    "taxiorder = data_3"
   ]
  },
  {
   "cell_type": "markdown",
   "metadata": {},
   "source": [
    "处理上车点时间数据"
   ]
  },
  {
   "cell_type": "code",
   "execution_count": 16,
   "metadata": {},
   "outputs": [],
   "source": [
    "#处理时间特征\n",
    "taxiorder['GETON_DATE'] = pd.to_datetime(taxiorder['GETON_DATE'],format='%Y-%m-%d %H:%M:%S')\n",
    "taxiorder['GETOFF_DATE'] = pd.to_datetime(taxiorder['GETOFF_DATE'],format='%Y-%m-%d %H:%M:%S')\n",
    "taxiorder[\"geton_hour\"]=taxiorder['GETON_DATE'].dt.hour\n",
    "\n",
    "taxiorder[\"geton_day\"]=taxiorder[\"GETON_DATE\"].dt.day"
   ]
  },
  {
   "cell_type": "code",
   "execution_count": 17,
   "metadata": {},
   "outputs": [
    {
     "data": {
      "text/plain": [
       "<matplotlib.axes._subplots.AxesSubplot at 0xce9cc70>"
      ]
     },
     "execution_count": 17,
     "metadata": {},
     "output_type": "execute_result"
    },
    {
     "data": {
      "image/png": "[encoded data removed]",
      "text/plain": [
       "<Figure size 432x288 with 1 Axes>"
      ]
     },
     "metadata": {
      "needs_background": "light"
     },
     "output_type": "display_data"
    }
   ],
   "source": [
    "#计算订单数量随时间变化\n",
    "taxiorder.groupby(['geton_hour'])['CAR_NO'].size().plot.bar()"
   ]
  },
  {
   "cell_type": "code",
   "execution_count": 18,
   "metadata": {},
   "outputs": [
    {
     "data": {
      "text/plain": [
       "array(['2020-06-18T17:51:00.000000000', '2020-06-18T19:11:00.000000000',\n",
       "       '2020-06-18T04:06:00.000000000', ...,\n",
       "       '2020-06-28T00:45:00.000000000', '2020-06-28T00:26:00.000000000',\n",
       "       '2020-06-28T00:30:00.000000000'], dtype='datetime64[ns]')"
      ]
     },
     "execution_count": 18,
     "metadata": {},
     "output_type": "execute_result"
    }
   ],
   "source": [
    "taxiorder['GETOFF_DATE'].unique()"
   ]
  },
  {
   "cell_type": "code",
   "execution_count": 19,
   "metadata": {},
   "outputs": [],
   "source": [
    "taxiorder[\"geton_weekday\"]=taxiorder[\"GETON_DATE\"].dt.weekday"
   ]
  },
  {
   "cell_type": "code",
   "execution_count": 20,
   "metadata": {},
   "outputs": [
    {
     "data": {
      "text/plain": [
       "<matplotlib.axes._subplots.AxesSubplot at 0xd1bacf0>"
      ]
     },
     "execution_count": 20,
     "metadata": {},
     "output_type": "execute_result"
    },
    {
     "data": {
      "image/png": "[encoded data removed]",
      "text/plain": [
       "<Figure size 432x288 with 1 Axes>"
      ]
     },
     "metadata": {
      "needs_background": "light"
     },
     "output_type": "display_data"
    }
   ],
   "source": [
    "taxiorder.groupby(['geton_weekday'])['CAR_NO'].size().plot.bar()"
   ]
  },
  {
   "cell_type": "markdown",
   "metadata": {},
   "source": [
    "20 21 27 为非工作日工作,无节假日"
   ]
  },
  {
   "cell_type": "code",
   "execution_count": 21,
   "metadata": {},
   "outputs": [
    {
     "data": {
      "text/html": [
       "<div>\n",
       "<style scoped>\n",
       "    .dataframe tbody tr th:only-of-type {\n",
       "        vertical-align: middle;\n",
       "    }\n",
       "\n",
       "    .dataframe tbody tr th {\n",
       "        vertical-align: top;\n",
       "    }\n",
       "\n",
       "    .dataframe thead th {\n",
       "        text-align: right;\n",
       "    }\n",
       "</style>\n",
       "<table border=\"1\" class=\"dataframe\">\n",
       "  <thead>\n",
       "    <tr style=\"text-align: right;\">\n",
       "      <th></th>\n",
       "      <th>CAR_NO</th>\n",
       "      <th>GETON_DATE</th>\n",
       "      <th>GETON_LONGITUDE</th>\n",
       "      <th>GETON_LATITUDE</th>\n",
       "      <th>GETOFF_DATE</th>\n",
       "      <th>GETOFF_LONGITUDE</th>\n",
       "      <th>GETOFF_LATITUDE</th>\n",
       "      <th>PASS_MILE</th>\n",
       "      <th>NOPASS_MILE</th>\n",
       "      <th>WAITING_TIME</th>\n",
       "      <th>geton_hour</th>\n",
       "      <th>geton_day</th>\n",
       "      <th>geton_weekday</th>\n",
       "    </tr>\n",
       "  </thead>\n",
       "  <tbody>\n",
       "    <tr>\n",
       "      <th>0</th>\n",
       "      <td>0006d282be70d06881a7513b69fcaa60</td>\n",
       "      <td>2020-06-18 17:38:00</td>\n",
       "      <td>118.155098</td>\n",
       "      <td>24.506093</td>\n",
       "      <td>2020-06-18 17:51:00</td>\n",
       "      <td>118.135925</td>\n",
       "      <td>24.497720</td>\n",
       "      <td>2.6</td>\n",
       "      <td>10.8</td>\n",
       "      <td>498.0</td>\n",
       "      <td>17</td>\n",
       "      <td>18</td>\n",
       "      <td>3</td>\n",
       "    </tr>\n",
       "    <tr>\n",
       "      <th>1</th>\n",
       "      <td>0006d282be70d06881a7513b69fcaa60</td>\n",
       "      <td>2020-06-18 19:06:00</td>\n",
       "      <td>118.136500</td>\n",
       "      <td>24.517291</td>\n",
       "      <td>2020-06-18 19:11:00</td>\n",
       "      <td>118.139381</td>\n",
       "      <td>24.530025</td>\n",
       "      <td>2.3</td>\n",
       "      <td>0.3</td>\n",
       "      <td>54.0</td>\n",
       "      <td>19</td>\n",
       "      <td>18</td>\n",
       "      <td>3</td>\n",
       "    </tr>\n",
       "    <tr>\n",
       "      <th>2</th>\n",
       "      <td>0006d282be70d06881a7513b69fcaa60</td>\n",
       "      <td>2020-06-18 03:59:00</td>\n",
       "      <td>118.119495</td>\n",
       "      <td>24.479730</td>\n",
       "      <td>2020-06-18 04:06:00</td>\n",
       "      <td>118.116335</td>\n",
       "      <td>24.508518</td>\n",
       "      <td>3.9</td>\n",
       "      <td>0.2</td>\n",
       "      <td>83.0</td>\n",
       "      <td>3</td>\n",
       "      <td>18</td>\n",
       "      <td>3</td>\n",
       "    </tr>\n",
       "    <tr>\n",
       "      <th>3</th>\n",
       "      <td>0006d282be70d06881a7513b69fcaa60</td>\n",
       "      <td>2020-06-18 20:44:00</td>\n",
       "      <td>118.113631</td>\n",
       "      <td>24.478733</td>\n",
       "      <td>2020-06-18 20:53:00</td>\n",
       "      <td>118.140945</td>\n",
       "      <td>24.477328</td>\n",
       "      <td>3.0</td>\n",
       "      <td>3.8</td>\n",
       "      <td>250.0</td>\n",
       "      <td>20</td>\n",
       "      <td>18</td>\n",
       "      <td>3</td>\n",
       "    </tr>\n",
       "    <tr>\n",
       "      <th>4</th>\n",
       "      <td>0006d282be70d06881a7513b69fcaa60</td>\n",
       "      <td>2020-06-18 19:12:00</td>\n",
       "      <td>118.138891</td>\n",
       "      <td>24.530666</td>\n",
       "      <td>2020-06-18 19:19:00</td>\n",
       "      <td>118.144028</td>\n",
       "      <td>24.547116</td>\n",
       "      <td>3.3</td>\n",
       "      <td>0.1</td>\n",
       "      <td>73.0</td>\n",
       "      <td>19</td>\n",
       "      <td>18</td>\n",
       "      <td>3</td>\n",
       "    </tr>\n",
       "  </tbody>\n",
       "</table>\n",
       "</div>"
      ],
      "text/plain": [
       "                             CAR_NO          GETON_DATE  GETON_LONGITUDE  \\\n",
       "0  0006d282be70d06881a7513b69fcaa60 2020-06-18 17:38:00       118.155098   \n",
       "1  0006d282be70d06881a7513b69fcaa60 2020-06-18 19:06:00       118.136500   \n",
       "2  0006d282be70d06881a7513b69fcaa60 2020-06-18 03:59:00       118.119495   \n",
       "3  0006d282be70d06881a7513b69fcaa60 2020-06-18 20:44:00       118.113631   \n",
       "4  0006d282be70d06881a7513b69fcaa60 2020-06-18 19:12:00       118.138891   \n",
       "\n",
       "   GETON_LATITUDE         GETOFF_DATE  GETOFF_LONGITUDE  GETOFF_LATITUDE  \\\n",
       "0       24.506093 2020-06-18 17:51:00        118.135925        24.497720   \n",
       "1       24.517291 2020-06-18 19:11:00        118.139381        24.530025   \n",
       "2       24.479730 2020-06-18 04:06:00        118.116335        24.508518   \n",
       "3       24.478733 2020-06-18 20:53:00        118.140945        24.477328   \n",
       "4       24.530666 2020-06-18 19:19:00        118.144028        24.547116   \n",
       "\n",
       "   PASS_MILE  NOPASS_MILE  WAITING_TIME  geton_hour  geton_day  geton_weekday  \n",
       "0        2.6         10.8         498.0          17         18              3  \n",
       "1        2.3          0.3          54.0          19         18              3  \n",
       "2        3.9          0.2          83.0           3         18              3  \n",
       "3        3.0          3.8         250.0          20         18              3  \n",
       "4        3.3          0.1          73.0          19         18              3  "
      ]
     },
     "execution_count": 21,
     "metadata": {},
     "output_type": "execute_result"
    }
   ],
   "source": [
    "taxiorder.head()"
   ]
  },
  {
   "cell_type": "markdown",
   "metadata": {},
   "source": [
    "非工作日"
   ]
  },
  {
   "cell_type": "code",
   "execution_count": 22,
   "metadata": {},
   "outputs": [],
   "source": [
    "taxiorder_nowork =  taxiorder[['CAR_NO','GETON_DATE','GETON_LONGITUDE','GETON_LATITUDE','GETOFF_DATE','GETOFF_LONGITUDE','GETOFF_LATITUDE','PASS_MILE','NOPASS_MILE','WAITING_TIME','geton_hour','geton_day']][(taxiorder['geton_day']==27) | (taxiorder['geton_day']==20) |(taxiorder['geton_day']==21)]"
   ]
  },
  {
   "cell_type": "code",
   "execution_count": 23,
   "metadata": {},
   "outputs": [
    {
     "data": {
      "text/plain": [
       "array([20, 21, 27], dtype=int64)"
      ]
     },
     "execution_count": 23,
     "metadata": {},
     "output_type": "execute_result"
    }
   ],
   "source": [
    "taxiorder_nowork['geton_day'].unique()"
   ]
  },
  {
   "cell_type": "code",
   "execution_count": 24,
   "metadata": {},
   "outputs": [
    {
     "data": {
      "text/plain": [
       "<matplotlib.axes._subplots.AxesSubplot at 0xd335c50>"
      ]
     },
     "execution_count": 24,
     "metadata": {},
     "output_type": "execute_result"
    },
    {
     "data": {
      "image/png": "[encoded data removed]",
      "text/plain": [
       "<Figure size 432x288 with 1 Axes>"
      ]
     },
     "metadata": {
      "needs_background": "light"
     },
     "output_type": "display_data"
    }
   ],
   "source": [
    "taxiorder_nowork.groupby(['geton_hour'])['CAR_NO'].size().plot.bar()"
   ]
  },
  {
   "cell_type": "code",
   "execution_count": 25,
   "metadata": {},
   "outputs": [],
   "source": [
    "# col=[i  for i,x in enumerate(taxiorder.columns) if taxiorder['geton_day'] ]"
   ]
  },
  {
   "cell_type": "code",
   "execution_count": 26,
   "metadata": {},
   "outputs": [],
   "source": [
    "taxiorder_work =  taxiorder[['CAR_NO','GETON_DATE','GETON_LONGITUDE','GETON_LATITUDE','GETOFF_DATE','GETOFF_LONGITUDE','GETOFF_LATITUDE','PASS_MILE','NOPASS_MILE','geton_hour','geton_day']][(taxiorder['geton_day'] <20) | (taxiorder['geton_day']>21) &(taxiorder['geton_day']<27)]"
   ]
  },
  {
   "cell_type": "code",
   "execution_count": 27,
   "metadata": {},
   "outputs": [
    {
     "data": {
      "text/plain": [
       "<matplotlib.axes._subplots.AxesSubplot at 0xd554170>"
      ]
     },
     "execution_count": 27,
     "metadata": {},
     "output_type": "execute_result"
    },
    {
     "data": {
      "image/png": "[encoded data removed]",
      "text/plain": [
       "<Figure size 432x288 with 1 Axes>"
      ]
     },
     "metadata": {
      "needs_background": "light"
     },
     "output_type": "display_data"
    }
   ],
   "source": [
    "taxiorder_work.groupby(['geton_hour'])['CAR_NO'].size().plot.bar()"
   ]
  },
  {
   "cell_type": "markdown",
   "metadata": {},
   "source": [
    "路网数据"
   ]
  },
  {
   "cell_type": "code",
   "execution_count": 28,
   "metadata": {},
   "outputs": [],
   "source": [
    "import geohash2"
   ]
  },
  {
   "cell_type": "code",
   "execution_count": 29,
   "metadata": {},
   "outputs": [],
   "source": [
    "# geohash2.encode(taxiorder['GETON_LONGITUDE'].values,taxiorder['GETON_LATITUDE'].values , precision=7)"
   ]
  },
  {
   "cell_type": "code",
   "execution_count": null,
   "metadata": {},
   "outputs": [],
   "source": []
  },
  {
   "cell_type": "code",
   "execution_count": 30,
   "metadata": {},
   "outputs": [],
   "source": [
    "import shapely, geopandas, fiona"
   ]
  },
  {
   "cell_type": "code",
   "execution_count": 31,
   "metadata": {},
   "outputs": [
    {
     "data": {
      "text/plain": [
       "<matplotlib.axes._subplots.AxesSubplot at 0x2083b3d0>"
      ]
     },
     "execution_count": 31,
     "metadata": {},
     "output_type": "execute_result"
    },
    {
     "data": {
      "image/png": "[encoded data removed]",
      "text/plain": [
       "<Figure size 1080x648 with 1 Axes>"
      ]
     },
     "metadata": {
      "needs_background": "light"
     },
     "output_type": "display_data"
    }
   ],
   "source": [
    "\n",
    "import seaborn as sns\n",
    "shp_df = geopandas.GeoDataFrame.from_file(\"D://数字中国创新大赛/AI大赛路网修改版/xm_road_edit20200826.shp\")\n",
    "shp_df.plot(figsize=(15, 9))"
   ]
  },
  {
   "cell_type": "markdown",
   "metadata": {},
   "source": [
    "热力图"
   ]
  },
  {
   "cell_type": "code",
   "execution_count": 32,
   "metadata": {},
   "outputs": [],
   "source": [
    "import folium\n",
    "from folium import plugins\n",
    "from folium.plugins import HeatMap"
   ]
  },
  {
   "cell_type": "code",
   "execution_count": 33,
   "metadata": {},
   "outputs": [
    {
     "data": {
      "text/html": [
       "<div style=\"width:100%;\"><div style=\"position:relative;width:100%;height:0;padding-bottom:60%;\"><span style=\"color:#565656\">Make this Notebook Trusted to load map: File -> Trust Notebook</span><iframe src=\"about:blank\" style=\"position:absolute;width:100%;height:100%;left:0;top:0;border:none !important;\" data-html=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 onload=\"this.contentDocument.open();this.contentDocument.write(atob(this.getAttribute('data-html')));this.contentDocument.close();\" allowfullscreen webkitallowfullscreen mozallowfullscreen></iframe></div></div>"
      ],
      "text/plain": [
       "<folium.folium.Map at 0x476e7130>"
      ]
     },
     "execution_count": 33,
     "metadata": {},
     "output_type": "execute_result"
    }
   ],
   "source": [
    "\n",
    "map_hooray = folium.Map(location=[24.482426, 118.157606], zoom_start=14)\n",
    "\n",
    "# Plot it on the map\n",
    "HeatMap(taxiorder[['GETON_LONGITUDE','GETON_LATITUDE']].iloc[:2000]).add_to(map_hooray)\n",
    "\n",
    "# Display the map\n",
    "map_hooray"
   ]
  },
  {
   "cell_type": "markdown",
   "metadata": {},
   "source": [
    "平均运距"
   ]
  },
  {
   "cell_type": "code",
   "execution_count": 34,
   "metadata": {},
   "outputs": [
    {
     "data": {
      "text/html": [
       "<div>\n",
       "<style scoped>\n",
       "    .dataframe tbody tr th:only-of-type {\n",
       "        vertical-align: middle;\n",
       "    }\n",
       "\n",
       "    .dataframe tbody tr th {\n",
       "        vertical-align: top;\n",
       "    }\n",
       "\n",
       "    .dataframe thead th {\n",
       "        text-align: right;\n",
       "    }\n",
       "</style>\n",
       "<table border=\"1\" class=\"dataframe\">\n",
       "  <thead>\n",
       "    <tr style=\"text-align: right;\">\n",
       "      <th></th>\n",
       "      <th>GETON_LONGITUDE</th>\n",
       "      <th>GETON_LATITUDE</th>\n",
       "      <th>GETOFF_LONGITUDE</th>\n",
       "      <th>GETOFF_LATITUDE</th>\n",
       "      <th>PASS_MILE</th>\n",
       "      <th>NOPASS_MILE</th>\n",
       "      <th>WAITING_TIME</th>\n",
       "      <th>geton_hour</th>\n",
       "      <th>geton_day</th>\n",
       "    </tr>\n",
       "  </thead>\n",
       "  <tbody>\n",
       "    <tr>\n",
       "      <th>count</th>\n",
       "      <td>582472.000000</td>\n",
       "      <td>582472.000000</td>\n",
       "      <td>582472.000000</td>\n",
       "      <td>582472.000000</td>\n",
       "      <td>582472.000000</td>\n",
       "      <td>582472.000000</td>\n",
       "      <td>582472.000000</td>\n",
       "      <td>582472.000000</td>\n",
       "      <td>582472.000000</td>\n",
       "    </tr>\n",
       "    <tr>\n",
       "      <th>mean</th>\n",
       "      <td>118.118635</td>\n",
       "      <td>24.496017</td>\n",
       "      <td>117.795821</td>\n",
       "      <td>24.430710</td>\n",
       "      <td>5.780569</td>\n",
       "      <td>4.011180</td>\n",
       "      <td>209.980555</td>\n",
       "      <td>12.914204</td>\n",
       "      <td>22.502338</td>\n",
       "    </tr>\n",
       "    <tr>\n",
       "      <th>std</th>\n",
       "      <td>0.033150</td>\n",
       "      <td>0.034971</td>\n",
       "      <td>6.167109</td>\n",
       "      <td>1.280182</td>\n",
       "      <td>4.482347</td>\n",
       "      <td>6.566824</td>\n",
       "      <td>351.854761</td>\n",
       "      <td>7.114399</td>\n",
       "      <td>3.043520</td>\n",
       "    </tr>\n",
       "    <tr>\n",
       "      <th>min</th>\n",
       "      <td>117.881636</td>\n",
       "      <td>24.382625</td>\n",
       "      <td>0.000000</td>\n",
       "      <td>0.000000</td>\n",
       "      <td>0.100000</td>\n",
       "      <td>0.000000</td>\n",
       "      <td>1.000000</td>\n",
       "      <td>0.000000</td>\n",
       "      <td>20.000000</td>\n",
       "    </tr>\n",
       "    <tr>\n",
       "      <th>25%</th>\n",
       "      <td>118.100039</td>\n",
       "      <td>24.475350</td>\n",
       "      <td>118.098110</td>\n",
       "      <td>24.475638</td>\n",
       "      <td>2.800000</td>\n",
       "      <td>0.600000</td>\n",
       "      <td>94.000000</td>\n",
       "      <td>8.000000</td>\n",
       "      <td>20.000000</td>\n",
       "    </tr>\n",
       "    <tr>\n",
       "      <th>50%</th>\n",
       "      <td>118.117162</td>\n",
       "      <td>24.490528</td>\n",
       "      <td>118.117166</td>\n",
       "      <td>24.491743</td>\n",
       "      <td>4.500000</td>\n",
       "      <td>2.100000</td>\n",
       "      <td>168.000000</td>\n",
       "      <td>14.000000</td>\n",
       "      <td>21.000000</td>\n",
       "    </tr>\n",
       "    <tr>\n",
       "      <th>75%</th>\n",
       "      <td>118.139310</td>\n",
       "      <td>24.509425</td>\n",
       "      <td>118.142001</td>\n",
       "      <td>24.511565</td>\n",
       "      <td>7.300000</td>\n",
       "      <td>4.900000</td>\n",
       "      <td>265.000000</td>\n",
       "      <td>19.000000</td>\n",
       "      <td>27.000000</td>\n",
       "    </tr>\n",
       "    <tr>\n",
       "      <th>max</th>\n",
       "      <td>118.432342</td>\n",
       "      <td>24.875721</td>\n",
       "      <td>126.703118</td>\n",
       "      <td>34.190323</td>\n",
       "      <td>30.000000</td>\n",
       "      <td>535.300000</td>\n",
       "      <td>61295.000000</td>\n",
       "      <td>23.000000</td>\n",
       "      <td>27.000000</td>\n",
       "    </tr>\n",
       "  </tbody>\n",
       "</table>\n",
       "</div>"
      ],
      "text/plain": [
       "       GETON_LONGITUDE  GETON_LATITUDE  GETOFF_LONGITUDE  GETOFF_LATITUDE  \\\n",
       "count    582472.000000   582472.000000     582472.000000    582472.000000   \n",
       "mean        118.118635       24.496017        117.795821        24.430710   \n",
       "std           0.033150        0.034971          6.167109         1.280182   \n",
       "min         117.881636       24.382625          0.000000         0.000000   \n",
       "25%         118.100039       24.475350        118.098110        24.475638   \n",
       "50%         118.117162       24.490528        118.117166        24.491743   \n",
       "75%         118.139310       24.509425        118.142001        24.511565   \n",
       "max         118.432342       24.875721        126.703118        34.190323   \n",
       "\n",
       "           PASS_MILE    NOPASS_MILE   WAITING_TIME     geton_hour  \\\n",
       "count  582472.000000  582472.000000  582472.000000  582472.000000   \n",
       "mean        5.780569       4.011180     209.980555      12.914204   \n",
       "std         4.482347       6.566824     351.854761       7.114399   \n",
       "min         0.100000       0.000000       1.000000       0.000000   \n",
       "25%         2.800000       0.600000      94.000000       8.000000   \n",
       "50%         4.500000       2.100000     168.000000      14.000000   \n",
       "75%         7.300000       4.900000     265.000000      19.000000   \n",
       "max        30.000000     535.300000   61295.000000      23.000000   \n",
       "\n",
       "           geton_day  \n",
       "count  582472.000000  \n",
       "mean       22.502338  \n",
       "std         3.043520  \n",
       "min        20.000000  \n",
       "25%        20.000000  \n",
       "50%        21.000000  \n",
       "75%        27.000000  \n",
       "max        27.000000  "
      ]
     },
     "execution_count": 34,
     "metadata": {},
     "output_type": "execute_result"
    }
   ],
   "source": [
    "taxiorder_nowork.describe()"
   ]
  },
  {
   "cell_type": "code",
   "execution_count": 35,
   "metadata": {},
   "outputs": [
    {
     "data": {
      "text/plain": [
       "Index(['CAR_NO', 'GETON_DATE', 'GETON_LONGITUDE', 'GETON_LATITUDE',\n",
       "       'GETOFF_DATE', 'GETOFF_LONGITUDE', 'GETOFF_LATITUDE', 'PASS_MILE',\n",
       "       'NOPASS_MILE', 'WAITING_TIME', 'geton_hour', 'geton_day'],\n",
       "      dtype='object')"
      ]
     },
     "execution_count": 35,
     "metadata": {},
     "output_type": "execute_result"
    }
   ],
   "source": [
    "taxiorder_nowork.columns"
   ]
  },
  {
   "cell_type": "code",
   "execution_count": 36,
   "metadata": {},
   "outputs": [
    {
     "data": {
      "text/html": [
       "<div>\n",
       "<style scoped>\n",
       "    .dataframe tbody tr th:only-of-type {\n",
       "        vertical-align: middle;\n",
       "    }\n",
       "\n",
       "    .dataframe tbody tr th {\n",
       "        vertical-align: top;\n",
       "    }\n",
       "\n",
       "    .dataframe thead th {\n",
       "        text-align: right;\n",
       "    }\n",
       "</style>\n",
       "<table border=\"1\" class=\"dataframe\">\n",
       "  <thead>\n",
       "    <tr style=\"text-align: right;\">\n",
       "      <th></th>\n",
       "      <th>CAR_NO</th>\n",
       "      <th>GETON_DATE</th>\n",
       "      <th>GETON_LONGITUDE</th>\n",
       "      <th>GETON_LATITUDE</th>\n",
       "      <th>GETOFF_DATE</th>\n",
       "      <th>GETOFF_LONGITUDE</th>\n",
       "      <th>GETOFF_LATITUDE</th>\n",
       "      <th>PASS_MILE</th>\n",
       "      <th>NOPASS_MILE</th>\n",
       "      <th>WAITING_TIME</th>\n",
       "      <th>geton_hour</th>\n",
       "      <th>geton_day</th>\n",
       "    </tr>\n",
       "  </thead>\n",
       "  <tbody>\n",
       "    <tr>\n",
       "      <th>0</th>\n",
       "      <td>a29b3a05408b289c81cc0fa687ba98d6</td>\n",
       "      <td>2020-06-20 18:37:00</td>\n",
       "      <td>118.131100</td>\n",
       "      <td>24.501797</td>\n",
       "      <td>2020-06-20 18:48:00</td>\n",
       "      <td>118.155598</td>\n",
       "      <td>24.516960</td>\n",
       "      <td>4.1</td>\n",
       "      <td>1.6</td>\n",
       "      <td>240.0</td>\n",
       "      <td>18</td>\n",
       "      <td>20</td>\n",
       "    </tr>\n",
       "    <tr>\n",
       "      <th>1</th>\n",
       "      <td>7189ad5e4f057cb81e6ca8744858293f</td>\n",
       "      <td>2020-06-20 18:36:00</td>\n",
       "      <td>118.075556</td>\n",
       "      <td>24.468428</td>\n",
       "      <td>2020-06-20 18:47:00</td>\n",
       "      <td>118.078068</td>\n",
       "      <td>24.446641</td>\n",
       "      <td>3.9</td>\n",
       "      <td>0.1</td>\n",
       "      <td>246.0</td>\n",
       "      <td>18</td>\n",
       "      <td>20</td>\n",
       "    </tr>\n",
       "    <tr>\n",
       "      <th>2</th>\n",
       "      <td>aadab13d313bda70e827eb8b8598c646</td>\n",
       "      <td>2020-06-20 18:22:00</td>\n",
       "      <td>118.118250</td>\n",
       "      <td>24.486248</td>\n",
       "      <td>2020-06-20 18:46:00</td>\n",
       "      <td>118.155430</td>\n",
       "      <td>24.534463</td>\n",
       "      <td>9.4</td>\n",
       "      <td>0.0</td>\n",
       "      <td>687.0</td>\n",
       "      <td>18</td>\n",
       "      <td>20</td>\n",
       "    </tr>\n",
       "    <tr>\n",
       "      <th>3</th>\n",
       "      <td>c375b9bc472f9acd2005930462a810d9</td>\n",
       "      <td>2020-06-20 18:33:00</td>\n",
       "      <td>118.111411</td>\n",
       "      <td>24.496635</td>\n",
       "      <td>2020-06-20 18:52:00</td>\n",
       "      <td>118.169878</td>\n",
       "      <td>24.455883</td>\n",
       "      <td>14.8</td>\n",
       "      <td>2.2</td>\n",
       "      <td>60.0</td>\n",
       "      <td>18</td>\n",
       "      <td>20</td>\n",
       "    </tr>\n",
       "    <tr>\n",
       "      <th>4</th>\n",
       "      <td>25ebcc5245b6bc5cfc8c32c88e8b59c0</td>\n",
       "      <td>2020-06-20 18:31:00</td>\n",
       "      <td>118.141030</td>\n",
       "      <td>24.493493</td>\n",
       "      <td>2020-06-20 18:47:00</td>\n",
       "      <td>118.173393</td>\n",
       "      <td>24.471758</td>\n",
       "      <td>5.1</td>\n",
       "      <td>1.3</td>\n",
       "      <td>479.0</td>\n",
       "      <td>18</td>\n",
       "      <td>20</td>\n",
       "    </tr>\n",
       "    <tr>\n",
       "      <th>...</th>\n",
       "      <td>...</td>\n",
       "      <td>...</td>\n",
       "      <td>...</td>\n",
       "      <td>...</td>\n",
       "      <td>...</td>\n",
       "      <td>...</td>\n",
       "      <td>...</td>\n",
       "      <td>...</td>\n",
       "      <td>...</td>\n",
       "      <td>...</td>\n",
       "      <td>...</td>\n",
       "      <td>...</td>\n",
       "    </tr>\n",
       "    <tr>\n",
       "      <th>191473</th>\n",
       "      <td>bdb91b3c5c327150ce3394d0967e58f7</td>\n",
       "      <td>2020-06-27 11:21:00</td>\n",
       "      <td>118.151415</td>\n",
       "      <td>24.489000</td>\n",
       "      <td>2020-06-27 11:27:00</td>\n",
       "      <td>118.148270</td>\n",
       "      <td>24.477353</td>\n",
       "      <td>1.7</td>\n",
       "      <td>5.0</td>\n",
       "      <td>149.0</td>\n",
       "      <td>11</td>\n",
       "      <td>27</td>\n",
       "    </tr>\n",
       "    <tr>\n",
       "      <th>191474</th>\n",
       "      <td>60b77120ac6b3c6b62e7abd7b1631da7</td>\n",
       "      <td>2020-06-27 11:20:00</td>\n",
       "      <td>118.149760</td>\n",
       "      <td>24.521407</td>\n",
       "      <td>2020-06-27 11:27:00</td>\n",
       "      <td>118.149760</td>\n",
       "      <td>24.521407</td>\n",
       "      <td>2.2</td>\n",
       "      <td>6.4</td>\n",
       "      <td>120.0</td>\n",
       "      <td>11</td>\n",
       "      <td>27</td>\n",
       "    </tr>\n",
       "    <tr>\n",
       "      <th>191475</th>\n",
       "      <td>a29899171564ab6fe9401a8d9c79527a</td>\n",
       "      <td>2020-06-27 11:14:00</td>\n",
       "      <td>118.118920</td>\n",
       "      <td>24.450255</td>\n",
       "      <td>2020-06-27 11:28:00</td>\n",
       "      <td>118.086875</td>\n",
       "      <td>24.442857</td>\n",
       "      <td>6.6</td>\n",
       "      <td>12.2</td>\n",
       "      <td>180.0</td>\n",
       "      <td>11</td>\n",
       "      <td>27</td>\n",
       "    </tr>\n",
       "    <tr>\n",
       "      <th>191476</th>\n",
       "      <td>9c5df0d2c8fe8ab84251382f8f0d8a54</td>\n",
       "      <td>2020-06-27 11:21:00</td>\n",
       "      <td>118.069808</td>\n",
       "      <td>24.466343</td>\n",
       "      <td>2020-06-27 11:27:00</td>\n",
       "      <td>118.073493</td>\n",
       "      <td>24.452528</td>\n",
       "      <td>2.2</td>\n",
       "      <td>9.2</td>\n",
       "      <td>126.0</td>\n",
       "      <td>11</td>\n",
       "      <td>27</td>\n",
       "    </tr>\n",
       "    <tr>\n",
       "      <th>191477</th>\n",
       "      <td>26d3eea883e5688cc624f8a4fdb40f46</td>\n",
       "      <td>2020-06-27 11:24:00</td>\n",
       "      <td>118.077166</td>\n",
       "      <td>24.463380</td>\n",
       "      <td>2020-06-27 11:29:00</td>\n",
       "      <td>118.076421</td>\n",
       "      <td>24.456261</td>\n",
       "      <td>1.0</td>\n",
       "      <td>0.2</td>\n",
       "      <td>163.0</td>\n",
       "      <td>11</td>\n",
       "      <td>27</td>\n",
       "    </tr>\n",
       "  </tbody>\n",
       "</table>\n",
       "<p>582472 rows × 12 columns</p>\n",
       "</div>"
      ],
      "text/plain": [
       "                                  CAR_NO          GETON_DATE  GETON_LONGITUDE  \\\n",
       "0       a29b3a05408b289c81cc0fa687ba98d6 2020-06-20 18:37:00       118.131100   \n",
       "1       7189ad5e4f057cb81e6ca8744858293f 2020-06-20 18:36:00       118.075556   \n",
       "2       aadab13d313bda70e827eb8b8598c646 2020-06-20 18:22:00       118.118250   \n",
       "3       c375b9bc472f9acd2005930462a810d9 2020-06-20 18:33:00       118.111411   \n",
       "4       25ebcc5245b6bc5cfc8c32c88e8b59c0 2020-06-20 18:31:00       118.141030   \n",
       "...                                  ...                 ...              ...   \n",
       "191473  bdb91b3c5c327150ce3394d0967e58f7 2020-06-27 11:21:00       118.151415   \n",
       "191474  60b77120ac6b3c6b62e7abd7b1631da7 2020-06-27 11:20:00       118.149760   \n",
       "191475  a29899171564ab6fe9401a8d9c79527a 2020-06-27 11:14:00       118.118920   \n",
       "191476  9c5df0d2c8fe8ab84251382f8f0d8a54 2020-06-27 11:21:00       118.069808   \n",
       "191477  26d3eea883e5688cc624f8a4fdb40f46 2020-06-27 11:24:00       118.077166   \n",
       "\n",
       "        GETON_LATITUDE         GETOFF_DATE  GETOFF_LONGITUDE  GETOFF_LATITUDE  \\\n",
       "0            24.501797 2020-06-20 18:48:00        118.155598        24.516960   \n",
       "1            24.468428 2020-06-20 18:47:00        118.078068        24.446641   \n",
       "2            24.486248 2020-06-20 18:46:00        118.155430        24.534463   \n",
       "3            24.496635 2020-06-20 18:52:00        118.169878        24.455883   \n",
       "4            24.493493 2020-06-20 18:47:00        118.173393        24.471758   \n",
       "...                ...                 ...               ...              ...   \n",
       "191473       24.489000 2020-06-27 11:27:00        118.148270        24.477353   \n",
       "191474       24.521407 2020-06-27 11:27:00        118.149760        24.521407   \n",
       "191475       24.450255 2020-06-27 11:28:00        118.086875        24.442857   \n",
       "191476       24.466343 2020-06-27 11:27:00        118.073493        24.452528   \n",
       "191477       24.463380 2020-06-27 11:29:00        118.076421        24.456261   \n",
       "\n",
       "        PASS_MILE  NOPASS_MILE  WAITING_TIME  geton_hour  geton_day  \n",
       "0             4.1          1.6         240.0          18         20  \n",
       "1             3.9          0.1         246.0          18         20  \n",
       "2             9.4          0.0         687.0          18         20  \n",
       "3            14.8          2.2          60.0          18         20  \n",
       "4             5.1          1.3         479.0          18         20  \n",
       "...           ...          ...           ...         ...        ...  \n",
       "191473        1.7          5.0         149.0          11         27  \n",
       "191474        2.2          6.4         120.0          11         27  \n",
       "191475        6.6         12.2         180.0          11         27  \n",
       "191476        2.2          9.2         126.0          11         27  \n",
       "191477        1.0          0.2         163.0          11         27  \n",
       "\n",
       "[582472 rows x 12 columns]"
      ]
     },
     "execution_count": 36,
     "metadata": {},
     "output_type": "execute_result"
    }
   ],
   "source": [
    " taxiorder_nowork"
   ]
  },
  {
   "cell_type": "code",
   "execution_count": 37,
   "metadata": {},
   "outputs": [],
   "source": [
    "passmile_mean = taxiorder_nowork['PASS_MILE'].groupby(taxiorder_nowork['geton_hour']).mean().sort_values( ascending=False)"
   ]
  },
  {
   "cell_type": "code",
   "execution_count": 38,
   "metadata": {},
   "outputs": [
    {
     "data": {
      "text/plain": [
       "<matplotlib.axes._subplots.AxesSubplot at 0x476f36f0>"
      ]
     },
     "execution_count": 38,
     "metadata": {},
     "output_type": "execute_result"
    },
    {
     "data": {
      "image/png": "[encoded data removed]",
      "text/plain": [
       "<Figure size 432x288 with 1 Axes>"
      ]
     },
     "metadata": {
      "needs_background": "light"
     },
     "output_type": "display_data"
    }
   ],
   "source": [
    "passmile_mean.plot.bar()"
   ]
  },
  {
   "cell_type": "code",
   "execution_count": 39,
   "metadata": {},
   "outputs": [],
   "source": [
    " taxiorder_nowork.loc[taxiorder_nowork['PASS_MILE'] >20 , 'PASS_MILE'] = taxiorder_nowork['PASS_MILE'].mean()"
   ]
  },
  {
   "cell_type": "code",
   "execution_count": 40,
   "metadata": {},
   "outputs": [
    {
     "data": {
      "text/plain": [
       "5.449252034158796"
      ]
     },
     "execution_count": 40,
     "metadata": {},
     "output_type": "execute_result"
    }
   ],
   "source": [
    "taxiorder_nowork['PASS_MILE'].mean()"
   ]
  },
  {
   "cell_type": "code",
   "execution_count": 41,
   "metadata": {},
   "outputs": [
    {
     "data": {
      "text/plain": [
       "geton_day\n",
       "20    5.410627\n",
       "21    5.428549\n",
       "27    5.516014\n",
       "Name: PASS_MILE, dtype: float64"
      ]
     },
     "execution_count": 41,
     "metadata": {},
     "output_type": "execute_result"
    }
   ],
   "source": [
    "taxiorder_nowork['PASS_MILE'].groupby(taxiorder_nowork['geton_day']).mean()"
   ]
  },
  {
   "cell_type": "code",
   "execution_count": 42,
   "metadata": {},
   "outputs": [
    {
     "data": {
      "text/plain": [
       "geton_day\n",
       "18    5.794916\n",
       "19    5.819447\n",
       "22    5.767057\n",
       "23    5.774810\n",
       "24    5.913854\n",
       "25    5.926877\n",
       "26    5.795998\n",
       "Name: PASS_MILE, dtype: float64"
      ]
     },
     "execution_count": 42,
     "metadata": {},
     "output_type": "execute_result"
    }
   ],
   "source": [
    "taxiorder_work['PASS_MILE'].groupby(taxiorder_work['geton_day']).mean()"
   ]
  },
  {
   "cell_type": "markdown",
   "metadata": {},
   "source": [
    "订单平均运行时长"
   ]
  },
  {
   "cell_type": "code",
   "execution_count": 43,
   "metadata": {},
   "outputs": [
    {
     "data": {
      "text/html": [
       "<div>\n",
       "<style scoped>\n",
       "    .dataframe tbody tr th:only-of-type {\n",
       "        vertical-align: middle;\n",
       "    }\n",
       "\n",
       "    .dataframe tbody tr th {\n",
       "        vertical-align: top;\n",
       "    }\n",
       "\n",
       "    .dataframe thead th {\n",
       "        text-align: right;\n",
       "    }\n",
       "</style>\n",
       "<table border=\"1\" class=\"dataframe\">\n",
       "  <thead>\n",
       "    <tr style=\"text-align: right;\">\n",
       "      <th></th>\n",
       "      <th>CAR_NO</th>\n",
       "      <th>GETON_DATE</th>\n",
       "      <th>GETON_LONGITUDE</th>\n",
       "      <th>GETON_LATITUDE</th>\n",
       "      <th>GETOFF_DATE</th>\n",
       "      <th>GETOFF_LONGITUDE</th>\n",
       "      <th>GETOFF_LATITUDE</th>\n",
       "      <th>PASS_MILE</th>\n",
       "      <th>NOPASS_MILE</th>\n",
       "      <th>WAITING_TIME</th>\n",
       "      <th>geton_hour</th>\n",
       "      <th>geton_day</th>\n",
       "    </tr>\n",
       "  </thead>\n",
       "  <tbody>\n",
       "    <tr>\n",
       "      <th>0</th>\n",
       "      <td>a29b3a05408b289c81cc0fa687ba98d6</td>\n",
       "      <td>2020-06-20 18:37:00</td>\n",
       "      <td>118.131100</td>\n",
       "      <td>24.501797</td>\n",
       "      <td>2020-06-20 18:48:00</td>\n",
       "      <td>118.155598</td>\n",
       "      <td>24.516960</td>\n",
       "      <td>4.1</td>\n",
       "      <td>1.6</td>\n",
       "      <td>240.0</td>\n",
       "      <td>18</td>\n",
       "      <td>20</td>\n",
       "    </tr>\n",
       "    <tr>\n",
       "      <th>1</th>\n",
       "      <td>7189ad5e4f057cb81e6ca8744858293f</td>\n",
       "      <td>2020-06-20 18:36:00</td>\n",
       "      <td>118.075556</td>\n",
       "      <td>24.468428</td>\n",
       "      <td>2020-06-20 18:47:00</td>\n",
       "      <td>118.078068</td>\n",
       "      <td>24.446641</td>\n",
       "      <td>3.9</td>\n",
       "      <td>0.1</td>\n",
       "      <td>246.0</td>\n",
       "      <td>18</td>\n",
       "      <td>20</td>\n",
       "    </tr>\n",
       "    <tr>\n",
       "      <th>2</th>\n",
       "      <td>aadab13d313bda70e827eb8b8598c646</td>\n",
       "      <td>2020-06-20 18:22:00</td>\n",
       "      <td>118.118250</td>\n",
       "      <td>24.486248</td>\n",
       "      <td>2020-06-20 18:46:00</td>\n",
       "      <td>118.155430</td>\n",
       "      <td>24.534463</td>\n",
       "      <td>9.4</td>\n",
       "      <td>0.0</td>\n",
       "      <td>687.0</td>\n",
       "      <td>18</td>\n",
       "      <td>20</td>\n",
       "    </tr>\n",
       "    <tr>\n",
       "      <th>3</th>\n",
       "      <td>c375b9bc472f9acd2005930462a810d9</td>\n",
       "      <td>2020-06-20 18:33:00</td>\n",
       "      <td>118.111411</td>\n",
       "      <td>24.496635</td>\n",
       "      <td>2020-06-20 18:52:00</td>\n",
       "      <td>118.169878</td>\n",
       "      <td>24.455883</td>\n",
       "      <td>14.8</td>\n",
       "      <td>2.2</td>\n",
       "      <td>60.0</td>\n",
       "      <td>18</td>\n",
       "      <td>20</td>\n",
       "    </tr>\n",
       "    <tr>\n",
       "      <th>4</th>\n",
       "      <td>25ebcc5245b6bc5cfc8c32c88e8b59c0</td>\n",
       "      <td>2020-06-20 18:31:00</td>\n",
       "      <td>118.141030</td>\n",
       "      <td>24.493493</td>\n",
       "      <td>2020-06-20 18:47:00</td>\n",
       "      <td>118.173393</td>\n",
       "      <td>24.471758</td>\n",
       "      <td>5.1</td>\n",
       "      <td>1.3</td>\n",
       "      <td>479.0</td>\n",
       "      <td>18</td>\n",
       "      <td>20</td>\n",
       "    </tr>\n",
       "  </tbody>\n",
       "</table>\n",
       "</div>"
      ],
      "text/plain": [
       "                             CAR_NO          GETON_DATE  GETON_LONGITUDE  \\\n",
       "0  a29b3a05408b289c81cc0fa687ba98d6 2020-06-20 18:37:00       118.131100   \n",
       "1  7189ad5e4f057cb81e6ca8744858293f 2020-06-20 18:36:00       118.075556   \n",
       "2  aadab13d313bda70e827eb8b8598c646 2020-06-20 18:22:00       118.118250   \n",
       "3  c375b9bc472f9acd2005930462a810d9 2020-06-20 18:33:00       118.111411   \n",
       "4  25ebcc5245b6bc5cfc8c32c88e8b59c0 2020-06-20 18:31:00       118.141030   \n",
       "\n",
       "   GETON_LATITUDE         GETOFF_DATE  GETOFF_LONGITUDE  GETOFF_LATITUDE  \\\n",
       "0       24.501797 2020-06-20 18:48:00        118.155598        24.516960   \n",
       "1       24.468428 2020-06-20 18:47:00        118.078068        24.446641   \n",
       "2       24.486248 2020-06-20 18:46:00        118.155430        24.534463   \n",
       "3       24.496635 2020-06-20 18:52:00        118.169878        24.455883   \n",
       "4       24.493493 2020-06-20 18:47:00        118.173393        24.471758   \n",
       "\n",
       "   PASS_MILE  NOPASS_MILE  WAITING_TIME  geton_hour  geton_day  \n",
       "0        4.1          1.6         240.0          18         20  \n",
       "1        3.9          0.1         246.0          18         20  \n",
       "2        9.4          0.0         687.0          18         20  \n",
       "3       14.8          2.2          60.0          18         20  \n",
       "4        5.1          1.3         479.0          18         20  "
      ]
     },
     "execution_count": 43,
     "metadata": {},
     "output_type": "execute_result"
    }
   ],
   "source": [
    "taxiorder_nowork.head()"
   ]
  },
  {
   "cell_type": "code",
   "execution_count": 44,
   "metadata": {},
   "outputs": [
    {
     "name": "stdout",
     "output_type": "stream",
     "text": [
      "<class 'pandas.core.frame.DataFrame'>\n",
      "Int64Index: 582472 entries, 0 to 191477\n",
      "Data columns (total 12 columns):\n",
      " #   Column            Non-Null Count   Dtype         \n",
      "---  ------            --------------   -----         \n",
      " 0   CAR_NO            582472 non-null  object        \n",
      " 1   GETON_DATE        582472 non-null  datetime64[ns]\n",
      " 2   GETON_LONGITUDE   582472 non-null  float64       \n",
      " 3   GETON_LATITUDE    582472 non-null  float64       \n",
      " 4   GETOFF_DATE       582472 non-null  datetime64[ns]\n",
      " 5   GETOFF_LONGITUDE  582472 non-null  float64       \n",
      " 6   GETOFF_LATITUDE   582472 non-null  float64       \n",
      " 7   PASS_MILE         582472 non-null  float64       \n",
      " 8   NOPASS_MILE       582472 non-null  float64       \n",
      " 9   WAITING_TIME      582472 non-null  float64       \n",
      " 10  geton_hour        582472 non-null  int64         \n",
      " 11  geton_day         582472 non-null  int64         \n",
      "dtypes: datetime64[ns](2), float64(7), int64(2), object(1)\n",
      "memory usage: 71.5+ MB\n"
     ]
    }
   ],
   "source": [
    "taxiorder_nowork.info()"
   ]
  },
  {
   "cell_type": "code",
   "execution_count": 45,
   "metadata": {},
   "outputs": [],
   "source": [
    "# taxiorder['GETON_DATE'] = pd.to_datetime(taxiorder['GETON_DATE'],format='%Y-%m-%d %H:%M:%S')"
   ]
  },
  {
   "cell_type": "markdown",
   "metadata": {},
   "source": [
    "非工作日"
   ]
  },
  {
   "cell_type": "code",
   "execution_count": 50,
   "metadata": {},
   "outputs": [],
   "source": [
    "taxiorder_nowork['diff_seconds'] = (taxiorder_nowork['GETOFF_DATE'] - taxiorder_nowork['GETON_DATE']).map(lambda x : x.seconds)"
   ]
  },
  {
   "cell_type": "code",
   "execution_count": 51,
   "metadata": {},
   "outputs": [
    {
     "data": {
      "text/plain": [
       "geton_day\n",
       "20    712.896933\n",
       "21    696.085524\n",
       "27    698.620480\n",
       "Name: diff_seconds, dtype: float64"
      ]
     },
     "execution_count": 51,
     "metadata": {},
     "output_type": "execute_result"
    }
   ],
   "source": [
    "taxiorder_nowork['diff_seconds'].groupby(taxiorder_nowork['geton_day']).mean()"
   ]
  },
  {
   "cell_type": "code",
   "execution_count": 52,
   "metadata": {},
   "outputs": [
    {
     "data": {
      "text/plain": [
       "11.866666666666667"
      ]
     },
     "execution_count": 52,
     "metadata": {},
     "output_type": "execute_result"
    }
   ],
   "source": [
    "712/60"
   ]
  },
  {
   "cell_type": "markdown",
   "metadata": {},
   "source": [
    "工作日"
   ]
  },
  {
   "cell_type": "code",
   "execution_count": 53,
   "metadata": {},
   "outputs": [],
   "source": [
    "taxiorder_work['diff_seconds'] = (taxiorder_work['GETOFF_DATE'] - taxiorder_work['GETON_DATE']).map(lambda x : x.seconds)"
   ]
  },
  {
   "cell_type": "code",
   "execution_count": 54,
   "metadata": {},
   "outputs": [
    {
     "data": {
      "text/plain": [
       "geton_day\n",
       "18    748.784052\n",
       "19    771.376411\n",
       "22    752.023236\n",
       "23    761.074979\n",
       "24    852.611597\n",
       "25    694.578391\n",
       "26    681.945805\n",
       "Name: diff_seconds, dtype: float64"
      ]
     },
     "execution_count": 54,
     "metadata": {},
     "output_type": "execute_result"
    }
   ],
   "source": [
    "taxiorder_work['diff_seconds'].groupby(taxiorder_work['geton_day']).mean()"
   ]
  },
  {
   "cell_type": "code",
   "execution_count": 55,
   "metadata": {},
   "outputs": [
    {
     "data": {
      "text/plain": [
       "14.2"
      ]
     },
     "execution_count": 55,
     "metadata": {},
     "output_type": "execute_result"
    }
   ],
   "source": [
    "852/60"
   ]
  },
  {
   "cell_type": "markdown",
   "metadata": {},
   "source": [
    "NOPASS_MILE/(NOPASS_MILE+PASS_MILE)"
   ]
  },
  {
   "cell_type": "code",
   "execution_count": 56,
   "metadata": {},
   "outputs": [
    {
     "data": {
      "text/plain": [
       "0.42399545250652465"
      ]
     },
     "execution_count": 56,
     "metadata": {},
     "output_type": "execute_result"
    }
   ],
   "source": [
    "#非工作日空驶率\n",
    "taxiorder_nowork['NOPASS_MILE'].sum()/(taxiorder_nowork['NOPASS_MILE'].sum() + taxiorder_nowork['PASS_MILE'].sum())"
   ]
  },
  {
   "cell_type": "markdown",
   "metadata": {},
   "source": [
    "工作日空驶率"
   ]
  },
  {
   "cell_type": "code",
   "execution_count": 57,
   "metadata": {},
   "outputs": [
    {
     "data": {
      "text/plain": [
       "0.3962227682537835"
      ]
     },
     "execution_count": 57,
     "metadata": {},
     "output_type": "execute_result"
    }
   ],
   "source": [
    "taxiorder_work['NOPASS_MILE'].sum()/(taxiorder_work['NOPASS_MILE'].sum() + taxiorder_work['PASS_MILE'].sum())"
   ]
  },
  {
   "cell_type": "code",
   "execution_count": null,
   "metadata": {},
   "outputs": [],
   "source": []
  }
 ],
 "metadata": {
  "kernelspec": {
   "display_name": "Python 3",
   "language": "python",
   "name": "python3"
  },
  "language_info": {
   "codemirror_mode": {
    "name": "ipython",
    "version": 3
   },
   "file_extension": ".py",
   "mimetype": "text/x-python",
   "name": "python",
   "nbconvert_exporter": "python",
   "pygments_lexer": "ipython3",
   "version": "3.7.0"
  }
 },
 "nbformat": 4,
 "nbformat_minor": 2
}
